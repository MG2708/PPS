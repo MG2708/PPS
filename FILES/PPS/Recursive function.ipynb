{
 "cells": [
  {
   "cell_type": "code",
   "execution_count": 8,
   "metadata": {
    "colab": {
     "base_uri": "https://localhost:8080/"
    },
    "executionInfo": {
     "elapsed": 434,
     "status": "ok",
     "timestamp": 1639730012849,
     "user": {
      "displayName": "Mangal Singh",
      "photoUrl": "https://lh3.googleusercontent.com/a-/AOh14GgNQQkRZ8XJRwjVq0a4ra_-Tf62lrbgx1puid4R=s64",
      "userId": "15066170507409359254"
     },
     "user_tz": -330
    },
    "id": "Vw5kzIQj2Jqk",
    "outputId": "48909c30-b899-485a-c7a3-c576e694350a"
   },
   "outputs": [
    {
     "name": "stdout",
     "output_type": "stream",
     "text": [
      "120\n"
     ]
    }
   ],
   "source": [
    "#factorial of a no\n",
    "n = 5\n",
    "fact = 1\n",
    "for i in range (1,n+1):\n",
    "  fact = fact * i\n",
    "print (fact)"
   ]
  },
  {
   "cell_type": "code",
   "execution_count": null,
   "metadata": {
    "id": "f98I0iya3LLy"
   },
   "outputs": [],
   "source": [
    "#factorial of a no with recursion function\n",
    "def recur_factorial(n):\n",
    "   if n == 1:\n",
    "       return n\n",
    "   else:\n",
    "       return n*recur_factorial(n-1)"
   ]
  },
  {
   "cell_type": "code",
   "execution_count": 6,
   "metadata": {
    "colab": {
     "base_uri": "https://localhost:8080/",
     "height": 165
    },
    "executionInfo": {
     "elapsed": 403,
     "status": "error",
     "timestamp": 1639729700692,
     "user": {
      "displayName": "Mangal Singh",
      "photoUrl": "https://lh3.googleusercontent.com/a-/AOh14GgNQQkRZ8XJRwjVq0a4ra_-Tf62lrbgx1puid4R=s64",
      "userId": "15066170507409359254"
     },
     "user_tz": -330
    },
    "id": "cwAZmQG_3NV5",
    "outputId": "7ec266ff-8246-48ce-b97d-f00007f024c2"
   },
   "outputs": [
    {
     "ename": "NameError",
     "evalue": "ignored",
     "output_type": "error",
     "traceback": [
      "\u001b[0;31m---------------------------------------------------------------------------\u001b[0m",
      "\u001b[0;31mNameError\u001b[0m                                 Traceback (most recent call last)",
      "\u001b[0;32m<ipython-input-6-66e980d36875>\u001b[0m in \u001b[0;36m<module>\u001b[0;34m()\u001b[0m\n\u001b[0;32m----> 1\u001b[0;31m \u001b[0mrecur_factorial\u001b[0m\u001b[0;34m(\u001b[0m\u001b[0;36m5\u001b[0m\u001b[0;34m)\u001b[0m\u001b[0;34m\u001b[0m\u001b[0;34m\u001b[0m\u001b[0m\n\u001b[0m",
      "\u001b[0;31mNameError\u001b[0m: name 'recur_factorial' is not defined"
     ]
    }
   ],
   "source": [
    "recur_factorial(5)"
   ]
  },
  {
   "cell_type": "code",
   "execution_count": null,
   "metadata": {
    "id": "IbUOEY6H4PnF"
   },
   "outputs": [],
   "source": [
    "#A Fibonacci sequence is the integer sequence of 0, 1, 1, 2, 3, 5, 8....\n",
    "def recursive_fibonacci(n):\n",
    "   if n <= 1:\n",
    "       return n\n",
    "   else:\n",
    "       result = (recursive_fibonacci(n-1) + recursive_fibonacci(n-2))\n",
    "       print (result)\n",
    "       return result\n",
    "   \n",
    "\n",
    "   \n",
    "\n"
   ]
  },
  {
   "cell_type": "code",
   "execution_count": 7,
   "metadata": {
    "colab": {
     "base_uri": "https://localhost:8080/",
     "height": 165
    },
    "executionInfo": {
     "elapsed": 22,
     "status": "error",
     "timestamp": 1639729713738,
     "user": {
      "displayName": "Mangal Singh",
      "photoUrl": "https://lh3.googleusercontent.com/a-/AOh14GgNQQkRZ8XJRwjVq0a4ra_-Tf62lrbgx1puid4R=s64",
      "userId": "15066170507409359254"
     },
     "user_tz": -330
    },
    "id": "NdhqaVd654Db",
    "outputId": "ca56fd48-5763-400a-f486-2691e4c2820d"
   },
   "outputs": [
    {
     "ename": "NameError",
     "evalue": "ignored",
     "output_type": "error",
     "traceback": [
      "\u001b[0;31m---------------------------------------------------------------------------\u001b[0m",
      "\u001b[0;31mNameError\u001b[0m                                 Traceback (most recent call last)",
      "\u001b[0;32m<ipython-input-7-d7e3e7a832ec>\u001b[0m in \u001b[0;36m<module>\u001b[0;34m()\u001b[0m\n\u001b[0;32m----> 1\u001b[0;31m \u001b[0mrecursive_fibonacci\u001b[0m\u001b[0;34m(\u001b[0m\u001b[0;36m10\u001b[0m\u001b[0;34m)\u001b[0m\u001b[0;34m\u001b[0m\u001b[0;34m\u001b[0m\u001b[0m\n\u001b[0m",
      "\u001b[0;31mNameError\u001b[0m: name 'recursive_fibonacci' is not defined"
     ]
    }
   ],
   "source": [
    "recursive_fibonacci(10)"
   ]
  },
  {
   "cell_type": "code",
   "execution_count": null,
   "metadata": {
    "id": "w__K_X4r5z5N"
   },
   "outputs": [],
   "source": []
  },
  {
   "cell_type": "code",
   "execution_count": 2,
   "metadata": {
    "colab": {
     "base_uri": "https://localhost:8080/",
     "height": 182
    },
    "executionInfo": {
     "elapsed": 409,
     "status": "error",
     "timestamp": 1639729440000,
     "user": {
      "displayName": "Mangal Singh",
      "photoUrl": "https://lh3.googleusercontent.com/a-/AOh14GgNQQkRZ8XJRwjVq0a4ra_-Tf62lrbgx1puid4R=s64",
      "userId": "15066170507409359254"
     },
     "user_tz": -330
    },
    "id": "w1Oj00ZQ5CLc",
    "outputId": "633bec8b-6459-4a66-d132-82d5d003f635"
   },
   "outputs": [
    {
     "ename": "NameError",
     "evalue": "ignored",
     "output_type": "error",
     "traceback": [
      "\u001b[0;31m---------------------------------------------------------------------------\u001b[0m",
      "\u001b[0;31mNameError\u001b[0m                                 Traceback (most recent call last)",
      "\u001b[0;32m<ipython-input-2-7cbefa572032>\u001b[0m in \u001b[0;36m<module>\u001b[0;34m()\u001b[0m\n\u001b[1;32m      1\u001b[0m \u001b[0;32mfor\u001b[0m \u001b[0mi\u001b[0m \u001b[0;32min\u001b[0m \u001b[0mrange\u001b[0m\u001b[0;34m(\u001b[0m\u001b[0;36m10\u001b[0m\u001b[0;34m)\u001b[0m\u001b[0;34m:\u001b[0m\u001b[0;34m\u001b[0m\u001b[0;34m\u001b[0m\u001b[0m\n\u001b[0;32m----> 2\u001b[0;31m        \u001b[0mprint\u001b[0m\u001b[0;34m(\u001b[0m\u001b[0mrecursive_fibonacci\u001b[0m\u001b[0;34m(\u001b[0m\u001b[0mi\u001b[0m\u001b[0;34m)\u001b[0m\u001b[0;34m)\u001b[0m\u001b[0;34m\u001b[0m\u001b[0;34m\u001b[0m\u001b[0m\n\u001b[0m",
      "\u001b[0;31mNameError\u001b[0m: name 'recursive_fibonacci' is not defined"
     ]
    }
   ],
   "source": [
    "for i in range(10):\n",
    "       print(recursive_fibonacci(i))"
   ]
  }
 ],
 "metadata": {
  "colab": {
   "name": "Recursive function.ipynb",
   "provenance": []
  },
  "kernelspec": {
   "display_name": "Python 3 (ipykernel)",
   "language": "python",
   "name": "python3"
  },
  "language_info": {
   "codemirror_mode": {
    "name": "ipython",
    "version": 3
   },
   "file_extension": ".py",
   "mimetype": "text/x-python",
   "name": "python",
   "nbconvert_exporter": "python",
   "pygments_lexer": "ipython3",
   "version": "3.8.3"
  }
 },
 "nbformat": 4,
 "nbformat_minor": 1
}
