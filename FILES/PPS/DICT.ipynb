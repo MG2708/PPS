{
 "cells": [
  {
   "cell_type": "code",
   "execution_count": null,
   "metadata": {
    "colab": {
     "base_uri": "https://localhost:8080/"
    },
    "executionInfo": {
     "elapsed": 355,
     "status": "ok",
     "timestamp": 1638524793833,
     "user": {
      "displayName": "Apoorva Shastri",
      "photoUrl": "https://lh3.googleusercontent.com/a-/AOh14Gi7V6uhZsxxhXhaH20YVuYwUzMIlDPUQJ9fPT3ynQ=s64",
      "userId": "06304336743638956799"
     },
     "user_tz": -330
    },
    "id": "bvAvAmlhof6Y",
    "outputId": "6f7428de-2f76-4871-a566-5e629c76b597"
   },
   "outputs": [
    {
     "name": "stdout",
     "output_type": "stream",
     "text": [
      "{'name': 'Neha', 'age': 18, 'branch': 'CS'}\n",
      "dict_keys(['name', 'age', 'branch'])\n",
      "dict_values(['Neha', 18, 'CS'])\n",
      "{'age': 18, 'branch': 'CS'}\n",
      "{'age': 10, 'branch': 'CS'}\n"
     ]
    }
   ],
   "source": [
    "dict = {'name':'Neha','age':18,'branch':'CS'}\n",
    "print (dict)\n",
    "\n",
    "print(dict.keys())\n",
    "print(dict.values())\n",
    "\n",
    "del dict['name']\n",
    "print (dict)\n",
    "\n",
    "dict['age'] = 10\n",
    "print (dict)"
   ]
  },
  {
   "cell_type": "code",
   "execution_count": 1,
   "metadata": {
    "colab": {
     "base_uri": "https://localhost:8080/"
    },
    "executionInfo": {
     "elapsed": 357,
     "status": "ok",
     "timestamp": 1638524878042,
     "user": {
      "displayName": "Apoorva Shastri",
      "photoUrl": "https://lh3.googleusercontent.com/a-/AOh14Gi7V6uhZsxxhXhaH20YVuYwUzMIlDPUQJ9fPT3ynQ=s64",
      "userId": "06304336743638956799"
     },
     "user_tz": -330
    },
    "id": "h3DyfzV5sR-I",
    "outputId": "f521b3f3-f3eb-4f05-fcd3-98bac62ffbbb"
   },
   "outputs": [
    {
     "name": "stdout",
     "output_type": "stream",
     "text": [
      "Local current time : time.struct_time(tm_year=2022, tm_mon=1, tm_mday=26, tm_hour=13, tm_min=6, tm_sec=15, tm_wday=2, tm_yday=26, tm_isdst=0)\n"
     ]
    }
   ],
   "source": [
    "import time;\n",
    "\n",
    "localtime = time.localtime(time.time())\n",
    "print (\"Local current time :\", localtime)"
   ]
  },
  {
   "cell_type": "code",
   "execution_count": 2,
   "metadata": {
    "colab": {
     "base_uri": "https://localhost:8080/"
    },
    "executionInfo": {
     "elapsed": 375,
     "status": "ok",
     "timestamp": 1638524938227,
     "user": {
      "displayName": "Apoorva Shastri",
      "photoUrl": "https://lh3.googleusercontent.com/a-/AOh14Gi7V6uhZsxxhXhaH20YVuYwUzMIlDPUQJ9fPT3ynQ=s64",
      "userId": "06304336743638956799"
     },
     "user_tz": -330
    },
    "id": "djRVNSzssj2G",
    "outputId": "190296cc-5f00-43ce-f7f1-5755e42aa2cf"
   },
   "outputs": [
    {
     "name": "stdout",
     "output_type": "stream",
     "text": [
      "Local current time : Wed Jan 26 13:06:19 2022\n"
     ]
    }
   ],
   "source": [
    "import time;\n",
    "\n",
    "localtime = time.asctime( time.localtime(time.time()) )\n",
    "print (\"Local current time :\", localtime)"
   ]
  },
  {
   "cell_type": "code",
   "execution_count": null,
   "metadata": {
    "colab": {
     "base_uri": "https://localhost:8080/"
    },
    "executionInfo": {
     "elapsed": 377,
     "status": "ok",
     "timestamp": 1638525227857,
     "user": {
      "displayName": "Apoorva Shastri",
      "photoUrl": "https://lh3.googleusercontent.com/a-/AOh14Gi7V6uhZsxxhXhaH20YVuYwUzMIlDPUQJ9fPT3ynQ=s64",
      "userId": "06304336743638956799"
     },
     "user_tz": -330
    },
    "id": "YKIlanv7s5Fa",
    "outputId": "6d3e069e-fe9d-416c-975b-195d9303bf3f"
   },
   "outputs": [
    {
     "name": "stdout",
     "output_type": "stream",
     "text": [
      "    January 2022\n",
      "Mo Tu We Th Fr Sa Su\n",
      "                1  2\n",
      " 3  4  5  6  7  8  9\n",
      "10 11 12 13 14 15 16\n",
      "17 18 19 20 21 22 23\n",
      "24 25 26 27 28 29 30\n",
      "31\n",
      "\n"
     ]
    }
   ],
   "source": [
    "import calendar\n",
    "\n",
    "cal = calendar.month(2022, 1)\n",
    "\n",
    "print (cal)"
   ]
  }
 ],
 "metadata": {
  "colab": {
   "authorship_tag": "ABX9TyPGxW3MW1jCdQ+vN5WqHIOO",
   "name": "DICT.ipynb",
   "provenance": []
  },
  "kernelspec": {
   "display_name": "Python 3 (ipykernel)",
   "language": "python",
   "name": "python3"
  },
  "language_info": {
   "codemirror_mode": {
    "name": "ipython",
    "version": 3
   },
   "file_extension": ".py",
   "mimetype": "text/x-python",
   "name": "python",
   "nbconvert_exporter": "python",
   "pygments_lexer": "ipython3",
   "version": "3.8.3"
  }
 },
 "nbformat": 4,
 "nbformat_minor": 1
}
