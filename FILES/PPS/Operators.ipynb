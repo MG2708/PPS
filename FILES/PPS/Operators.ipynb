{
 "cells": [
  {
   "cell_type": "code",
   "execution_count": 4,
   "metadata": {
    "colab": {
     "base_uri": "https://localhost:8080/"
    },
    "executionInfo": {
     "elapsed": 666,
     "status": "ok",
     "timestamp": 1637311601142,
     "user": {
      "displayName": "Apoorva Shastri",
      "photoUrl": "https://lh3.googleusercontent.com/a-/AOh14Gi7V6uhZsxxhXhaH20YVuYwUzMIlDPUQJ9fPT3ynQ=s64",
      "userId": "06304336743638956799"
     },
     "user_tz": -330
    },
    "id": "UDLT988AVeIK",
    "outputId": "7172e654-99b8-4531-b2c8-5ad54641fa7e"
   },
   "outputs": [
    {
     "name": "stdout",
     "output_type": "stream",
     "text": [
      "Line 1 - a is equal to b\n",
      "Line 2 - a is equal to b\n",
      "Line 6 - a is either less than or equal to  b\n",
      "Line 7 - b is either greater than  or equal to a\n"
     ]
    }
   ],
   "source": [
    "a = 21\n",
    "b = 21\n",
    "c = 0\n",
    "\n",
    "if ( a == b ):\n",
    "   print(\"Line 1 - a is equal to b\")\n",
    "else:\n",
    "   print(\"Line 1 - a is not equal to b\")\n",
    "\n",
    "if ( a != b ):\n",
    "   print(\"Line 2 - a is not equal to b\")\n",
    "else:\n",
    "   print (\"Line 2 - a is equal to b\")\n",
    "\"\"\"\n",
    "if ( a <> b ):\n",
    "   print \"Line 3 - a is not equal to b\"\n",
    "else:\n",
    "   print \"Line 3 - a is equal to b\"\n",
    "\n",
    "if ( a < b ):\n",
    "   print \"Line 4 - a is less than b\" \n",
    "else:\n",
    "   print \"Line 4 - a is not less than b\"\n",
    "\n",
    "if ( a > b ):\n",
    "   print \"Line 5 - a is greater than b\"\n",
    "else:\n",
    "   print \"Line 5 - a is not greater than b\"\n",
    "\"\"\"\n",
    "a = 5;\n",
    "b = 20;\n",
    "if ( a <= b ):\n",
    "   print(\"Line 6 - a is either less than or equal to  b\")\n",
    "else:\n",
    "   print(\"Line 6 - a is neither less than nor equal to  b\")\n",
    "\n",
    "if ( b >= a ):\n",
    "   print(\"Line 7 - b is either greater than  or equal to a\")\n",
    "else:\n",
    "   print(\"Line 7 - b is neither greater than  nor equal to a\")"
   ]
  },
  {
   "cell_type": "code",
   "execution_count": 5,
   "metadata": {
    "colab": {
     "base_uri": "https://localhost:8080/"
    },
    "executionInfo": {
     "elapsed": 437,
     "status": "ok",
     "timestamp": 1637311926521,
     "user": {
      "displayName": "Apoorva Shastri",
      "photoUrl": "https://lh3.googleusercontent.com/a-/AOh14Gi7V6uhZsxxhXhaH20YVuYwUzMIlDPUQJ9fPT3ynQ=s64",
      "userId": "06304336743638956799"
     },
     "user_tz": -330
    },
    "id": "P7EJClQzYk5V",
    "outputId": "1ca11ceb-268c-4af6-ec1d-982bd2785946"
   },
   "outputs": [
    {
     "name": "stdout",
     "output_type": "stream",
     "text": [
      "Line 1 - Value of c is  31\n",
      "Line 2 - Value of c is  52\n",
      "Line 3 - Value of c is  1092\n"
     ]
    }
   ],
   "source": [
    "a = 21\n",
    "b = 10\n",
    "c = 2\n",
    "\n",
    "c = a + b\n",
    "print(\"Line 1 - Value of c is \", c)\n",
    "\n",
    "c += a\n",
    "print(\"Line 2 - Value of c is \", c)\n",
    "\n",
    "c *= a\n",
    "print(\"Line 3 - Value of c is \", c)"
   ]
  },
  {
   "cell_type": "code",
   "execution_count": null,
   "metadata": {
    "id": "iQFLYqzqhw_e"
   },
   "outputs": [],
   "source": [
    "a = 5\n",
    "b = 10\n",
    "\n",
    "#c = a|b;\n",
    "#print(c)\n",
    "\n",
    "\n",
    "#c = a & b;\n",
    "#print(c)\n",
    "\n",
    "c = a>>2;\n",
    "print(c)"
   ]
  }
 ],
 "metadata": {
  "colab": {
   "authorship_tag": "ABX9TyP1Tiqhv34H5nMO/njnpNQh",
   "name": "Operators.ipynb",
   "provenance": []
  },
  "kernelspec": {
   "display_name": "Python 3 (ipykernel)",
   "language": "python",
   "name": "python3"
  },
  "language_info": {
   "codemirror_mode": {
    "name": "ipython",
    "version": 3
   },
   "file_extension": ".py",
   "mimetype": "text/x-python",
   "name": "python",
   "nbconvert_exporter": "python",
   "pygments_lexer": "ipython3",
   "version": "3.8.3"
  }
 },
 "nbformat": 4,
 "nbformat_minor": 1
}
