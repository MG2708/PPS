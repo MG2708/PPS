{
 "cells": [
  {
   "cell_type": "code",
   "execution_count": null,
   "metadata": {
    "colab": {
     "base_uri": "https://localhost:8080/"
    },
    "executionInfo": {
     "elapsed": 6636,
     "status": "ok",
     "timestamp": 1637743436229,
     "user": {
      "displayName": "Apoorva Shastri",
      "photoUrl": "https://lh3.googleusercontent.com/a-/AOh14Gi7V6uhZsxxhXhaH20YVuYwUzMIlDPUQJ9fPT3ynQ=s64",
      "userId": "06304336743638956799"
     },
     "user_tz": -330
    },
    "id": "y5OPSbu76kHs",
    "outputId": "9a568b96-e450-4df7-e795-04fd56aba50a"
   },
   "outputs": [
    {
     "name": "stdout",
     "output_type": "stream",
     "text": [
      "input number:4\n",
      "24\n"
     ]
    }
   ],
   "source": [
    "num = int(input('input number:'))\n",
    "fact= 1\n",
    "for i in range(1,num+1):\n",
    "    fact = i * fact\n",
    "print(fact)\n",
    "\n"
   ]
  },
  {
   "cell_type": "code",
   "execution_count": null,
   "metadata": {
    "id": "86gix8q1Agxb"
   },
   "outputs": [],
   "source": [
    "subject1 = int(input(\"Enter marks of the first subject: \"))\n",
    "subject2 = int(input(\"Enter marks of the second subject: \"))\n",
    "subject3 = int(input(\"Enter marks of the third subject: \"))\n",
    "subject4 = int(input(\"Enter marks of the fourth subject: \"))\n",
    "subject5 = int(input(\"Enter marks of the fifth subject: \"))\n",
    "\n",
    "avg = (subject1+subject2+subject3+subject4+subject5)/5\n",
    "\n",
    "if(avg>=90):\n",
    "    print(\"Grade: A\")\n",
    "elif(avg>=80 and avg<90):\n",
    "    print(\"Grade: B\")\n",
    "elif(avg>=70 and avg<80):\n",
    "    print(\"Grade: C\")\n",
    "elif(avg>=60 and avg<70):\n",
    "    print(\"Grade: D\")\n",
    "else:\n",
    "    print(\"Grade: F\")"
   ]
  },
  {
   "cell_type": "code",
   "execution_count": null,
   "metadata": {
    "id": "zQKW7D6gHQPh"
   },
   "outputs": [],
   "source": [
    "txt = \"hello, my name is Peter, I am 26 years old\"\n",
    "\n",
    "x = txt.split(\", \")\n",
    "\n",
    "print(x)\n"
   ]
  }
 ],
 "metadata": {
  "colab": {
   "authorship_tag": "ABX9TyMSMKbYjqyYFyUnVM4+cwng",
   "collapsed_sections": [],
   "name": "Factorial and grades.ipynb",
   "provenance": []
  },
  "kernelspec": {
   "display_name": "Python 3 (ipykernel)",
   "language": "python",
   "name": "python3"
  },
  "language_info": {
   "codemirror_mode": {
    "name": "ipython",
    "version": 3
   },
   "file_extension": ".py",
   "mimetype": "text/x-python",
   "name": "python",
   "nbconvert_exporter": "python",
   "pygments_lexer": "ipython3",
   "version": "3.8.3"
  }
 },
 "nbformat": 4,
 "nbformat_minor": 1
}
