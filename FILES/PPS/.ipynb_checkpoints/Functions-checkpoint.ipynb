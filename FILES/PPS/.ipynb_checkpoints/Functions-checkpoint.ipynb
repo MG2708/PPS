{
 "cells": [
  {
   "cell_type": "code",
   "execution_count": 2,
   "metadata": {
    "colab": {
     "base_uri": "https://localhost:8080/"
    },
    "executionInfo": {
     "elapsed": 380,
     "status": "ok",
     "timestamp": 1639720554503,
     "user": {
      "displayName": "Apoorva Shastri",
      "photoUrl": "https://lh3.googleusercontent.com/a-/AOh14Gi7V6uhZsxxhXhaH20YVuYwUzMIlDPUQJ9fPT3ynQ=s64",
      "userId": "06304336743638956799"
     },
     "user_tz": -330
    },
    "id": "eclUbhcH0vC-",
    "outputId": "0931c1d1-1a67-4525-82a7-3a2f898a7f6e"
   },
   "outputs": [
    {
     "name": "stdout",
     "output_type": "stream",
     "text": [
      "Hello\n",
      "How are you?\n"
     ]
    }
   ],
   "source": [
    "def greet():\n",
    "  print(\"Hello\")\n",
    "  print(\"How are you?\")\n",
    "\n",
    "greet()"
   ]
  },
  {
   "cell_type": "code",
   "execution_count": 3,
   "metadata": {
    "colab": {
     "base_uri": "https://localhost:8080/"
    },
    "executionInfo": {
     "elapsed": 6,
     "status": "ok",
     "timestamp": 1639720636203,
     "user": {
      "displayName": "Apoorva Shastri",
      "photoUrl": "https://lh3.googleusercontent.com/a-/AOh14Gi7V6uhZsxxhXhaH20YVuYwUzMIlDPUQJ9fPT3ynQ=s64",
      "userId": "06304336743638956799"
     },
     "user_tz": -330
    },
    "id": "6QtfKUji1ALj",
    "outputId": "0e0b375a-c195-44be-f3b3-4e4713042f68"
   },
   "outputs": [
    {
     "name": "stdout",
     "output_type": "stream",
     "text": [
      "Hello Jack\n",
      "How are you?\n"
     ]
    }
   ],
   "source": [
    "#Single Argument\n",
    "\n",
    "def greet(name):\n",
    "  print(\"Hello\",name)\n",
    "  print(\"How are you?\")\n",
    "\n",
    "greet(\"Jack\")"
   ]
  },
  {
   "cell_type": "code",
   "execution_count": 4,
   "metadata": {
    "colab": {
     "base_uri": "https://localhost:8080/"
    },
    "executionInfo": {
     "elapsed": 446,
     "status": "ok",
     "timestamp": 1639720750911,
     "user": {
      "displayName": "Apoorva Shastri",
      "photoUrl": "https://lh3.googleusercontent.com/a-/AOh14Gi7V6uhZsxxhXhaH20YVuYwUzMIlDPUQJ9fPT3ynQ=s64",
      "userId": "06304336743638956799"
     },
     "user_tz": -330
    },
    "id": "Rl7YoIf-1wxy",
    "outputId": "d73aee73-896a-4a68-b78e-ff22010ed5a0"
   },
   "outputs": [
    {
     "name": "stdout",
     "output_type": "stream",
     "text": [
      "The sum is 11\n"
     ]
    }
   ],
   "source": [
    "#Multiple Arguments\n",
    "\n",
    "def add_numbers(num1, num2):\n",
    "  result = num1 + num2\n",
    "  print(\"The sum is\", result)\n",
    "\n",
    "add_numbers(5, 6)"
   ]
  },
  {
   "cell_type": "code",
   "execution_count": null,
   "metadata": {
    "colab": {
     "base_uri": "https://localhost:8080/"
    },
    "executionInfo": {
     "elapsed": 335,
     "status": "ok",
     "timestamp": 1639634988197,
     "user": {
      "displayName": "Apoorva Shastri",
      "photoUrl": "https://lh3.googleusercontent.com/a-/AOh14Gi7V6uhZsxxhXhaH20YVuYwUzMIlDPUQJ9fPT3ynQ=s64",
      "userId": "06304336743638956799"
     },
     "user_tz": -330
    },
    "id": "Sf4emcTZ2wsI",
    "outputId": "c4f9f37b-d911-421b-d36a-aeb30606c5f8"
   },
   "outputs": [
    {
     "name": "stdout",
     "output_type": "stream",
     "text": [
      "The sum is 11\n"
     ]
    }
   ],
   "source": [
    "#return value from a function\n",
    "\n",
    "def add_numbers(num1, num2):\n",
    "  result = num1 + num2\n",
    "  return result\n",
    "\n",
    "result = add_numbers(5, 6)\n",
    "print(\"The sum is\", result)"
   ]
  },
  {
   "cell_type": "code",
   "execution_count": 5,
   "metadata": {
    "colab": {
     "base_uri": "https://localhost:8080/"
    },
    "executionInfo": {
     "elapsed": 376,
     "status": "ok",
     "timestamp": 1639721057434,
     "user": {
      "displayName": "Apoorva Shastri",
      "photoUrl": "https://lh3.googleusercontent.com/a-/AOh14Gi7V6uhZsxxhXhaH20YVuYwUzMIlDPUQJ9fPT3ynQ=s64",
      "userId": "06304336743638956799"
     },
     "user_tz": -330
    },
    "id": "OF0DSJt73ic-",
    "outputId": "6a2bd089-7337-4c3b-bec1-5d13c8bf4434"
   },
   "outputs": [
    {
     "name": "stdout",
     "output_type": "stream",
     "text": [
      "Hello Jack\n"
     ]
    }
   ],
   "source": [
    "def greet(name):\n",
    "  print (\"Hello\",name)\n",
    "  return\n",
    "  print(\"How are you?\")\n",
    "\n",
    "greet(\"Jack\")"
   ]
  },
  {
   "cell_type": "code",
   "execution_count": null,
   "metadata": {
    "colab": {
     "base_uri": "https://localhost:8080/"
    },
    "executionInfo": {
     "elapsed": 1712,
     "status": "ok",
     "timestamp": 1639639560681,
     "user": {
      "displayName": "Jayant. Jagtap",
      "photoUrl": "https://lh3.googleusercontent.com/a-/AOh14GhrGNRhw6llbE-5IxpvRBtZUjRdirbp6PD19mvMNw=s64",
      "userId": "07979420704313822294"
     },
     "user_tz": -330
    },
    "id": "2FXd1oc1AOKh",
    "outputId": "21b41f10-aa28-4a6b-9473-09367c4632d5"
   },
   "outputs": [
    {
     "name": "stdout",
     "output_type": "stream",
     "text": [
      "I have a  hamster\n"
     ]
    }
   ],
   "source": [
    "def describe_pet(animal):\n",
    "  print (\"I have a \", animal)\n",
    "  return\n",
    " \n",
    "\n",
    "describe_pet('hamster')\n"
   ]
  },
  {
   "cell_type": "code",
   "execution_count": null,
   "metadata": {
    "colab": {
     "base_uri": "https://localhost:8080/",
     "height": 321
    },
    "executionInfo": {
     "elapsed": 342,
     "status": "error",
     "timestamp": 1639637686555,
     "user": {
      "displayName": "Apoorva Shastri",
      "photoUrl": "https://lh3.googleusercontent.com/a-/AOh14Gi7V6uhZsxxhXhaH20YVuYwUzMIlDPUQJ9fPT3ynQ=s64",
      "userId": "06304336743638956799"
     },
     "user_tz": -330
    },
    "id": "u_QScCP6BXmN",
    "outputId": "888fdd1f-1ca3-47ce-8168-beb2761aa2fb"
   },
   "outputs": [
    {
     "ename": "TypeError",
     "evalue": "ignored",
     "output_type": "error",
     "traceback": [
      "\u001b[0;31m---------------------------------------------------------------------------\u001b[0m",
      "\u001b[0;31mTypeError\u001b[0m                                 Traceback (most recent call last)",
      "\u001b[0;32m<ipython-input-28-59c7e9c46445>\u001b[0m in \u001b[0;36m<module>\u001b[0;34m()\u001b[0m\n\u001b[1;32m      4\u001b[0m  \u001b[0mprint\u001b[0m\u001b[0;34m(\u001b[0m\u001b[0;34mf\"My {animal_type}'s name is {pet_name.title()}.\"\u001b[0m\u001b[0;34m)\u001b[0m\u001b[0;34m\u001b[0m\u001b[0;34m\u001b[0m\u001b[0m\n\u001b[1;32m      5\u001b[0m \u001b[0;34m\u001b[0m\u001b[0m\n\u001b[0;32m----> 6\u001b[0;31m \u001b[0mdescribe_pet\u001b[0m\u001b[0;34m(\u001b[0m\u001b[0;34m'hamster'\u001b[0m\u001b[0;34m,\u001b[0m \u001b[0;34m'harry'\u001b[0m\u001b[0;34m)\u001b[0m\u001b[0;34m\u001b[0m\u001b[0;34m\u001b[0m\u001b[0m\n\u001b[0m",
      "\u001b[0;32m<ipython-input-28-59c7e9c46445>\u001b[0m in \u001b[0;36mdescribe_pet\u001b[0;34m(animal_type, pet_name)\u001b[0m\n\u001b[1;32m      1\u001b[0m \u001b[0;32mdef\u001b[0m \u001b[0mdescribe_pet\u001b[0m\u001b[0;34m(\u001b[0m\u001b[0manimal_type\u001b[0m\u001b[0;34m,\u001b[0m \u001b[0mpet_name\u001b[0m\u001b[0;34m)\u001b[0m\u001b[0;34m:\u001b[0m\u001b[0;34m\u001b[0m\u001b[0;34m\u001b[0m\u001b[0m\n\u001b[1;32m      2\u001b[0m  \u001b[0;34m\"\"\"Display information about a pet.\"\"\"\u001b[0m\u001b[0;34m\u001b[0m\u001b[0;34m\u001b[0m\u001b[0m\n\u001b[0;32m----> 3\u001b[0;31m  \u001b[0mprint\u001b[0m\u001b[0;34m(\u001b[0m\u001b[0;34mf\"\\nI have a {animal_type}.\"\u001b[0m\u001b[0;34m)\u001b[0m\u001b[0;34m\u001b[0m\u001b[0;34m\u001b[0m\u001b[0m\n\u001b[0m\u001b[1;32m      4\u001b[0m  \u001b[0mprint\u001b[0m\u001b[0;34m(\u001b[0m\u001b[0;34mf\"My {animal_type}'s name is {pet_name.title()}.\"\u001b[0m\u001b[0;34m)\u001b[0m\u001b[0;34m\u001b[0m\u001b[0;34m\u001b[0m\u001b[0m\n\u001b[1;32m      5\u001b[0m \u001b[0;34m\u001b[0m\u001b[0m\n",
      "\u001b[0;31mTypeError\u001b[0m: 'tuple' object is not callable"
     ]
    }
   ],
   "source": [
    "def describe_pet(animal_type, pet_name):\n",
    " \"\"\"Display information about a pet.\"\"\"\n",
    " print(f\"\\nI have a {animal_type}.\")\n",
    " print(f\"My {animal_type}'s name is {pet_name.title()}.\")\n",
    "\n",
    "describe_pet('hamster', 'harry')\n"
   ]
  }
 ],
 "metadata": {
  "colab": {
   "name": "Functions.ipynb",
   "provenance": []
  },
  "kernelspec": {
   "display_name": "Python 3 (ipykernel)",
   "language": "python",
   "name": "python3"
  },
  "language_info": {
   "codemirror_mode": {
    "name": "ipython",
    "version": 3
   },
   "file_extension": ".py",
   "mimetype": "text/x-python",
   "name": "python",
   "nbconvert_exporter": "python",
   "pygments_lexer": "ipython3",
   "version": "3.8.3"
  }
 },
 "nbformat": 4,
 "nbformat_minor": 1
}
