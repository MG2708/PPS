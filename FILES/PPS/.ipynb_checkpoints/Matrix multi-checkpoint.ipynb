{
 "cells": [
  {
   "cell_type": "code",
   "execution_count": null,
   "metadata": {
    "colab": {
     "base_uri": "https://localhost:8080/"
    },
    "executionInfo": {
     "elapsed": 393,
     "status": "ok",
     "timestamp": 1638955388661,
     "user": {
      "displayName": "Mangal Singh",
      "photoUrl": "https://lh3.googleusercontent.com/a-/AOh14GgNQQkRZ8XJRwjVq0a4ra_-Tf62lrbgx1puid4R=s64",
      "userId": "15066170507409359254"
     },
     "user_tz": -330
    },
    "id": "rGlmwt7OJfcT",
    "outputId": "0ccc89b7-918b-47bd-b41f-c45a16530251"
   },
   "outputs": [
    {
     "name": "stdout",
     "output_type": "stream",
     "text": [
      "can be multiplied\n",
      "[57, 102, 44]\n",
      "[126, 219, 113]\n",
      "[195, 336, 182]\n"
     ]
    }
   ],
   "source": [
    "mat_1 = [[1,2,3],[4,5,6],[7,8,9]]\n",
    "mat_2 = [[2,3,7],[8,9,11],[13,27,5]]\n",
    "mat_res = [[0,0,0],[0,0,0],[0,0,0]]\n",
    "\n",
    "rows_mat_1 = len(mat_1)  #rows\n",
    "cols_mat_1 = len(mat_1[0]) #columns\n",
    "\n",
    "rows_mat_2 = len(mat_2)\n",
    "cols_mat_2 = len(mat_2[0])\n",
    "\n",
    "if rows_mat_1 == cols_mat_2:\n",
    "    print(\"can be multiplied\")\n",
    "\n",
    "for row in range(rows_mat_1):\n",
    "    for col in range(cols_mat_2):\n",
    "        for k in range(rows_mat_2):\n",
    "            mat_res[row][col] += mat_1[row][k] * mat_2[k][col] \n",
    "\n",
    "for item in mat_res:\n",
    "    print(item)\n"
   ]
  }
 ],
 "metadata": {
  "colab": {
   "name": "Matrix multi.ipynb",
   "provenance": []
  },
  "kernelspec": {
   "display_name": "Python 3 (ipykernel)",
   "language": "python",
   "name": "python3"
  },
  "language_info": {
   "codemirror_mode": {
    "name": "ipython",
    "version": 3
   },
   "file_extension": ".py",
   "mimetype": "text/x-python",
   "name": "python",
   "nbconvert_exporter": "python",
   "pygments_lexer": "ipython3",
   "version": "3.8.3"
  }
 },
 "nbformat": 4,
 "nbformat_minor": 1
}
