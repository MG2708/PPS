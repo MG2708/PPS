{
 "cells": [
  {
   "cell_type": "markdown",
   "metadata": {
    "id": "POQAjc4D2d6g"
   },
   "source": [
    "## Q.What are the built-in data types in python\n",
    "### Ans: int, float, complex, str(string), bool. These five are fundamental datatypes of python\n",
    "\n",
    "### list, tuple, set, dict, frozonset, bytes, bytearray, range,..\n"
   ]
  },
  {
   "cell_type": "markdown",
   "metadata": {
    "id": "mN9atAaT_XE3"
   },
   "source": [
    "##Q. Which objects are mutable(changable) and immutable(non-changable) in python\n",
    "###Ans: once we creat an object then if we are allowed to change the content then said to be mutable object\n",
    "###e.g. list, set, dict, bytearray\n",
    "###once we creat an object then if we are not allowed to change the content then said to be immutable object\n",
    "###e.g. All fundamental datatype objects are immutable. tuple, frozenset, bytes, range"
   ]
  },
  {
   "cell_type": "markdown",
   "metadata": {
    "id": "PGDxANAn_zXC"
   },
   "source": [
    "## Q. What is difference between is operator and == operator\n",
    "### Ans: 'is' operator used for reference comparison or address comparison. i.e. if two references are pointing to the same object, then only 'is' operator returns True.\n",
    "\n",
    "### '==' operator used for content comparison. i.e. eventhough objects are different, if the content is same then '==' operator returns True. "
   ]
  },
  {
   "cell_type": "code",
   "execution_count": null,
   "metadata": {
    "colab": {
     "base_uri": "https://localhost:8080/"
    },
    "id": "iz6cW7UuAEfU",
    "outputId": "0c967f1c-c1f9-45c2-9b9a-0cad5ccd0018"
   },
   "outputs": [
    {
     "name": "stdout",
     "output_type": "stream",
     "text": [
      "False\n",
      "140684976660384\n",
      "140684976673008\n",
      "True\n"
     ]
    }
   ],
   "source": [
    "l1 = [1,2,3,4]\n",
    "l2 = [1,2,3,4]\n",
    "print(l1 is l2) # is operator compares object and not the value or content \n",
    "print(id(l1))\n",
    "print(id(l2))\n",
    "print(l1==l2) # == operator compares the content"
   ]
  },
  {
   "cell_type": "code",
   "execution_count": null,
   "metadata": {
    "colab": {
     "base_uri": "https://localhost:8080/"
    },
    "id": "hezzet1BAGLU",
    "outputId": "238881d1-da14-470f-cc5d-df5900ce34d2"
   },
   "outputs": [
    {
     "name": "stdout",
     "output_type": "stream",
     "text": [
      "140684976660384\n",
      "140684976660384\n",
      "True\n",
      "True\n"
     ]
    }
   ],
   "source": [
    "l3=l1 # l1 and l3 pointing to same object\n",
    "print(id(l1))\n",
    "print(id(l3))\n",
    "print(l1 is l3)\n",
    "print(l1==l3)"
   ]
  },
  {
   "cell_type": "markdown",
   "metadata": {
    "id": "nhHfEDN7Wqe8"
   },
   "source": [
    "## Q. Differenttiate between List and Tuple\n",
    "## Answer: \n",
    "## 1. List is a group of comma separated values within square brackets and square brackets are mandatory \n",
    "\n",
    "## 1d. Tuple is a group of comma separated values within paranthesis (simple brackets) and paranthesis are optional"
   ]
  },
  {
   "cell_type": "code",
   "execution_count": null,
   "metadata": {
    "colab": {
     "base_uri": "https://localhost:8080/"
    },
    "id": "aU9I-RjxWLIw",
    "outputId": "e7dbf4ed-7daf-446b-ab5c-da4952175ffe"
   },
   "outputs": [
    {
     "data": {
      "text/plain": [
       "tuple"
      ]
     },
     "execution_count": 3,
     "metadata": {},
     "output_type": "execute_result"
    }
   ],
   "source": [
    "ls = [1,2,3,4,5]\n",
    "tp = (1,2,3,4,5)\n",
    "tp1 = 1,2,3,4,5 \n",
    "\n",
    "type(tp1)"
   ]
  },
  {
   "cell_type": "markdown",
   "metadata": {
    "id": "7A4ePMXTX-6V"
   },
   "source": [
    "## 2. List objects are mutable.\n",
    "## 2d. Tuple objects are immutable. "
   ]
  },
  {
   "cell_type": "code",
   "execution_count": null,
   "metadata": {
    "colab": {
     "base_uri": "https://localhost:8080/"
    },
    "id": "KY39e3A8AZQ0",
    "outputId": "fb120781-f6db-45f3-fd2a-2a49b04c1a57"
   },
   "outputs": [
    {
     "data": {
      "text/plain": [
       "[1, 10, 3, 4, 5]"
      ]
     },
     "execution_count": 4,
     "metadata": {},
     "output_type": "execute_result"
    }
   ],
   "source": [
    "ls[1]=10\n",
    "ls"
   ]
  },
  {
   "cell_type": "code",
   "execution_count": null,
   "metadata": {
    "id": "QkEW2y7tYiU_"
   },
   "outputs": [],
   "source": [
    "#tp[1]=10 # TypeError: 'tuple' object does not support item assignment"
   ]
  },
  {
   "cell_type": "markdown",
   "metadata": {
    "id": "HkDkiOjTYswU"
   },
   "source": [
    "## 3. List object require more memory\n",
    "## 3d. Tuple object require less memory"
   ]
  },
  {
   "cell_type": "code",
   "execution_count": null,
   "metadata": {
    "colab": {
     "base_uri": "https://localhost:8080/"
    },
    "id": "8KPsI7xSYyxT",
    "outputId": "7ca313c5-f421-4500-aa04-2d41aadc3846"
   },
   "outputs": [
    {
     "name": "stdout",
     "output_type": "stream",
     "text": [
      "The size of list: 112\n",
      "The size of tuple: 96\n"
     ]
    }
   ],
   "source": [
    "import sys\n",
    "print('The size of list:', sys.getsizeof(ls))\n",
    "print('The size of tuple:', sys.getsizeof(tp))"
   ]
  },
  {
   "cell_type": "markdown",
   "metadata": {
    "id": "KGHjBHVhcH3w"
   },
   "source": [
    "## 4. Performing speed for list is slow\n",
    "## 4d. Perfrming speed for tuple is fast"
   ]
  },
  {
   "cell_type": "code",
   "execution_count": null,
   "metadata": {
    "colab": {
     "base_uri": "https://localhost:8080/"
    },
    "id": "ZbNmRsbFbQr1",
    "outputId": "0580f4e8-50e6-4981-e4c9-e661ffbdfdf6"
   },
   "outputs": [
    {
     "name": "stdout",
     "output_type": "stream",
     "text": [
      "The list is: [1, 10, 3, 4, 5]\n",
      "Time required for iterating through list is:0.0004208310000000104\n"
     ]
    }
   ],
   "source": [
    "import time\n",
    "t0= time.process_time()\n",
    "print(f'The list is: {ls}')\n",
    "t1= time.process_time()\n",
    "print(f'Time required for iterating through list is:{t1-t0}')"
   ]
  },
  {
   "cell_type": "code",
   "execution_count": null,
   "metadata": {
    "colab": {
     "base_uri": "https://localhost:8080/"
    },
    "id": "Ywvd5oS_g375",
    "outputId": "17a40f72-87ac-4579-bc06-059aae32c338"
   },
   "outputs": [
    {
     "name": "stdout",
     "output_type": "stream",
     "text": [
      "The tuple is: (1, 2, 3, 4, 5)\n",
      "Time required for iterating through tuple is:0.00017967899999993264\n"
     ]
    }
   ],
   "source": [
    "import time\n",
    "t0= time.process_time()\n",
    "print(f'The tuple is: {tp}')\n",
    "t1= time.process_time()\n",
    "print(f'Time required for iterating through tuple is:{t1-t0}')"
   ]
  },
  {
   "cell_type": "markdown",
   "metadata": {
    "id": "EcBKRf5ClyrV"
   },
   "source": [
    "## 5. Comprehension concept is applicable for list\n",
    "## 5d. Comprehension concept is not applicable for tuple"
   ]
  },
  {
   "cell_type": "code",
   "execution_count": null,
   "metadata": {
    "colab": {
     "base_uri": "https://localhost:8080/"
    },
    "id": "Iu3HJtcdhNlH",
    "outputId": "aea92035-a337-498b-ccc9-e30a7ed391f5"
   },
   "outputs": [
    {
     "name": "stdout",
     "output_type": "stream",
     "text": [
      "['j', 'a', 'y', 'a', 'n', 't']\n"
     ]
    }
   ],
   "source": [
    "# Iterating through a string Using for Loop\n",
    "h_letters = []\n",
    "\n",
    "for letter in 'jayant':\n",
    "    h_letters.append(letter)\n",
    "\n",
    "print(h_letters)"
   ]
  },
  {
   "cell_type": "code",
   "execution_count": null,
   "metadata": {
    "colab": {
     "background_save": true,
     "base_uri": "https://localhost:8080/"
    },
    "id": "9zJomZB3pMRG",
    "outputId": "a0d09905-9f38-434e-8ae2-2fa262b8d141"
   },
   "outputs": [
    {
     "name": "stdout",
     "output_type": "stream",
     "text": [
      "['j', 'a', 'y', 'a', 'n', 't']\n"
     ]
    }
   ],
   "source": [
    "# Iterating through a string Using List Comprehension\n",
    "h_letters = [ letter for letter in 'jayant' ] # Syntax: [expression for item in list]\n",
    "print( h_letters)"
   ]
  },
  {
   "cell_type": "code",
   "execution_count": null,
   "metadata": {
    "colab": {
     "base_uri": "https://localhost:8080/"
    },
    "id": "4O-d9E9Lpt9E",
    "outputId": "a0ed835f-d357-44ff-b7d7-22e854ea0d46"
   },
   "outputs": [
    {
     "name": "stdout",
     "output_type": "stream",
     "text": [
      "[0, 2, 4, 6, 8, 10, 12, 14, 16, 18]\n"
     ]
    }
   ],
   "source": [
    "# Using if with List Comprehension\n",
    "number_list = [ x for x in range(20) if x % 2 == 0]\n",
    "print(number_list)"
   ]
  },
  {
   "cell_type": "markdown",
   "metadata": {
    "id": "mUrX9iNBs1F0"
   },
   "source": [
    "## In case of set and dict objects are stored based on hashcode.\n",
    "## List objects are not hashable.\n",
    "## Hence, we can not add list to set or dict.\n",
    "\n",
    "## 6. List objects are unhashable type. Hence we can't store in set and dict as keys\n",
    "\n",
    "## 6d. Tuple objects are hashable type. Hence we can store in set and dict as keys"
   ]
  },
  {
   "cell_type": "code",
   "execution_count": null,
   "metadata": {
    "id": "oljpTlKvtSXl"
   },
   "outputs": [],
   "source": [
    "s={10,20,30} # int objects are added in set. int objects are hashable"
   ]
  },
  {
   "cell_type": "code",
   "execution_count": null,
   "metadata": {
    "id": "pdxe1Av3tcho"
   },
   "outputs": [],
   "source": [
    "#s={10,20,30,[40,50]} # List is not hashable. TypeError: unhashable type: 'list'"
   ]
  },
  {
   "cell_type": "code",
   "execution_count": null,
   "metadata": {
    "id": "rGSOEqQ1tk_z"
   },
   "outputs": [],
   "source": [
    "# Tuple is hashable\n",
    "s={10,20,30,(40,50)}"
   ]
  },
  {
   "cell_type": "code",
   "execution_count": null,
   "metadata": {
    "id": "4V21xB32uHPh"
   },
   "outputs": [],
   "source": [
    "# While saving any object it is saved as hash code and is hashable"
   ]
  },
  {
   "cell_type": "code",
   "execution_count": null,
   "metadata": {
    "id": "l_QgyvKPtxU2"
   },
   "outputs": [],
   "source": [
    "#s={[10,20]:'jayant'}# unhashable type: 'list'"
   ]
  },
  {
   "cell_type": "code",
   "execution_count": null,
   "metadata": {
    "id": "uFTpH47Rt38r"
   },
   "outputs": [],
   "source": [
    "#In list inception order is important and not hashable\n",
    "s={(10,20):'jayant'}"
   ]
  },
  {
   "cell_type": "markdown",
   "metadata": {
    "id": "7CEBzVH90XRy"
   },
   "source": [
    "## 7. If the content is not fixed and keep on change then it is recommeded to go for list objects. \n",
    "## e.g. youtube comments\n",
    "\n",
    "## 7d. If the content is fixed and never changes then we should go for tuple objects.\n",
    "## e.g. ATM machine input and output or Vending machine input and output"
   ]
  },
  {
   "cell_type": "markdown",
   "metadata": {
    "id": "iOLJPYq2AoyR"
   },
   "source": [
    "## Q. What is difference between set and frozenset?\n",
    "### Ans: set is mutable and frozenset is immutable"
   ]
  },
  {
   "cell_type": "code",
   "execution_count": null,
   "metadata": {
    "colab": {
     "base_uri": "https://localhost:8080/"
    },
    "id": "iuKbOaxlBCE4",
    "outputId": "06e95344-1aca-4c4a-abb7-f191921326dd"
   },
   "outputs": [
    {
     "name": "stdout",
     "output_type": "stream",
     "text": [
      "{1, 2, 3, 4, 50}\n"
     ]
    }
   ],
   "source": [
    "s={1,2,3,4}\n",
    "s.add(50)\n",
    "print(s)"
   ]
  },
  {
   "cell_type": "code",
   "execution_count": null,
   "metadata": {
    "colab": {
     "base_uri": "https://localhost:8080/"
    },
    "id": "agfQHztHBXwR",
    "outputId": "950ad53a-7d2a-4099-d570-f804a16d0db6"
   },
   "outputs": [
    {
     "name": "stdout",
     "output_type": "stream",
     "text": [
      "frozenset({8, 5, 6, 7})\n"
     ]
    }
   ],
   "source": [
    "s1={5,6,7,8}\n",
    "fs=frozenset(s1)\n",
    "print(fs)"
   ]
  },
  {
   "cell_type": "code",
   "execution_count": null,
   "metadata": {
    "id": "jihS5SpeBzGW"
   },
   "outputs": [],
   "source": [
    "#fs.add(50) # AttributeError: 'frozenset' object has no attribute 'add'\n",
    "#print(fs)"
   ]
  },
  {
   "cell_type": "markdown",
   "metadata": {
    "id": "Fh5RlGzOCZU8"
   },
   "source": [
    "## Q. What is differnece between list and Dict?\n",
    "### 1. list is a group of comma separated individual objects within square brackets.\n",
    "### e.g. l=[1,2,3,4]\n",
    "### Dict is a group of comma separated key-value pairs within curly braces.\n",
    "### e.g.  d= {'A': 'SIT', 'B': 'College','C': 'Engineering'}\n",
    "\n",
    "### 2. In list, duplicate objects are allowed.\n",
    "### In dict, duplicate keys are not allowed, but values can be duplicated. If we are trying to add an entry(key-value pair) with duplicate key then old value will be replaced with new value.\n",
    "\n",
    "### 3. In list, we can access objects by using index, which is zero based. i.e. index of first object is zero\n",
    "### In dict, we can access valeus by using keys.\n",
    "\n",
    "### 4. In list, object need not be hashable.\n",
    "### In dict, key must be hashable.\n"
   ]
  },
  {
   "cell_type": "code",
   "execution_count": null,
   "metadata": {
    "colab": {
     "base_uri": "https://localhost:8080/"
    },
    "id": "xXS9sK7SD-rm",
    "outputId": "f54de608-534f-4dd4-a2ac-af361b3bbf6c"
   },
   "outputs": [
    {
     "name": "stdout",
     "output_type": "stream",
     "text": [
      "{1: 'A', 5: 'B', 2: 'C'}\n"
     ]
    }
   ],
   "source": [
    "#2\n",
    "d={}\n",
    "d[1]='A'\n",
    "d[5]='B'\n",
    "d[2]='C'\n",
    "print(d)"
   ]
  },
  {
   "cell_type": "code",
   "execution_count": null,
   "metadata": {
    "colab": {
     "base_uri": "https://localhost:8080/"
    },
    "id": "C3S9FsnFKW5B",
    "outputId": "55ba9b82-622c-4ddc-95a0-6a116ff798af"
   },
   "outputs": [
    {
     "name": "stdout",
     "output_type": "stream",
     "text": [
      "{1: 'D', 5: 'B', 2: 'C'}\n"
     ]
    }
   ],
   "source": [
    "#3\n",
    "d[1]='D'\n",
    "print(d)"
   ]
  },
  {
   "cell_type": "markdown",
   "metadata": {
    "id": "lxAtdhR6MAtq"
   },
   "source": [
    "## Q. What is differnece between list and set?\n",
    "### 1. list is a group of comma separated individual objects within square brackets.\n",
    "### e.g. l=[1,2,3,4]\n",
    "### set is a group of comma separated individual objects within curly braces.\n",
    "### e.g.  s= {1,2,3,4}\n",
    "\n",
    "### 2. In list, insertion order is preserved\n",
    "### In set, objects will be inserted based on hashcode and hence insertion order is not preserved.\n",
    "\n",
    "### 3. In list, duplicate objects are allowed.\n",
    "### In set duplicate objects are not allowed.\n",
    "\n",
    "### 4. Indexing and slicing concepts are applicable for list.\n",
    "### Indexing and slicing concepts are not applicable for set.\n",
    "\n",
    "### 5. In list, object need not be hashable.\n",
    "### In set, object should be hashable."
   ]
  },
  {
   "cell_type": "code",
   "execution_count": null,
   "metadata": {
    "colab": {
     "base_uri": "https://localhost:8080/"
    },
    "id": "nFA6Z9OEhd2x",
    "outputId": "b3f68499-1101-40ad-eeca-7d745388548c"
   },
   "outputs": [
    {
     "name": "stdout",
     "output_type": "stream",
     "text": [
      "{1, 2, 3, 4, 5}\n"
     ]
    }
   ],
   "source": [
    "SS={1,2,3,4,5,1,2}\n",
    "print(SS)"
   ]
  },
  {
   "cell_type": "code",
   "execution_count": null,
   "metadata": {
    "colab": {
     "base_uri": "https://localhost:8080/"
    },
    "id": "68a0YDIhhsH5",
    "outputId": "e7a57447-62a7-4c97-c627-0efb1b2192a8"
   },
   "outputs": [
    {
     "name": "stdout",
     "output_type": "stream",
     "text": [
      "1\n"
     ]
    }
   ],
   "source": [
    "LSS=[1,2,3,4]\n",
    "print(LSS[0])"
   ]
  },
  {
   "cell_type": "markdown",
   "metadata": {
    "id": "F3K5i70GRBP_"
   },
   "source": [
    "## Q. Explain slice operator and its syntax.\n",
    "### Ans: slice operator is used to access part of given sequence. \n",
    "### The sequence can be list or string or tuple etc.\n",
    "### Syntax: s[begin:end:step]\n",
    "### step value can be +ve or -ve but not zero.\n",
    "### If step value is +ve then we have to consider begin to end-1 in forward direction.\n",
    "### If step values is -ve then we have to consider begin to end+1 in backward direction.\n",
    "\n",
    "### In forward direction if end value is 0, then the result is always empty.\n",
    "### In backword direction if end value is -1, then the result is always empty."
   ]
  },
  {
   "cell_type": "code",
   "execution_count": null,
   "metadata": {
    "colab": {
     "base_uri": "https://localhost:8080/"
    },
    "id": "QQTALXhITD3R",
    "outputId": "5d8f949b-3bcf-4f0d-e8de-4c49e20abb7b"
   },
   "outputs": [
    {
     "name": "stdout",
     "output_type": "stream",
     "text": [
      "bdf\n",
      "hgf\n"
     ]
    }
   ],
   "source": [
    "l='abcdefghij'\n",
    "print(l[1:6:2])\n",
    "print(l[7:4:-1])"
   ]
  },
  {
   "cell_type": "markdown",
   "metadata": {
    "id": "ZfNQlVhHT1xj"
   },
   "source": [
    "##Q. How to reverse string by slicing operator"
   ]
  },
  {
   "cell_type": "code",
   "execution_count": null,
   "metadata": {
    "colab": {
     "base_uri": "https://localhost:8080/"
    },
    "id": "b4GC1GrGT03q",
    "outputId": "4da03b4e-f468-4606-d0d6-6fb85f605905"
   },
   "outputs": [
    {
     "name": "stdout",
     "output_type": "stream",
     "text": [
      "jihgfedcba\n"
     ]
    }
   ],
   "source": [
    "print(l[::-1])"
   ]
  },
  {
   "cell_type": "markdown",
   "metadata": {
    "id": "L5LbH-3HUO00"
   },
   "source": [
    "##Q. What is difference between *args and **kwargs?\n",
    "### *args: variable length arguments\n",
    "### f(*args): If a function with *args arguments, then we can call that function by passing any number of arguments values including empty, which returns the tuple.\n"
   ]
  },
  {
   "cell_type": "code",
   "execution_count": 2,
   "metadata": {
    "id": "X7s6j4XUdsWs"
   },
   "outputs": [],
   "source": [
    "### **kwargs: variable length keyword arguments\n",
    "### f(**kwargs): If a function with **kwargs arguments, \n",
    "### then we can call that function by passing any number of keword arguments values including empty,\n",
    "### which returns the dictionary."
   ]
  },
  {
   "cell_type": "code",
   "execution_count": null,
   "metadata": {
    "colab": {
     "background_save": true,
     "base_uri": "https://localhost:8080/"
    },
    "id": "_Cy8IiO1UzLI",
    "outputId": "4447569e-b563-453f-8d1e-255df4223ee5"
   },
   "outputs": [
    {
     "name": "stdout",
     "output_type": "stream",
     "text": [
      "()\n",
      "(1,)\n",
      "(1, 2)\n",
      "(1, 2, 3)\n"
     ]
    }
   ],
   "source": [
    "def f(*args):\n",
    "  print(args)\n",
    "f()\n",
    "f(1)\n",
    "f(1,2)\n",
    "f(1,2,3) # we get tuple"
   ]
  },
  {
   "cell_type": "code",
   "execution_count": null,
   "metadata": {
    "colab": {
     "background_save": true,
     "base_uri": "https://localhost:8080/"
    },
    "id": "Yf7sJwiVVo2r",
    "outputId": "021e6231-5fb2-4dbd-e711-76abdf5c344e"
   },
   "outputs": [
    {
     "name": "stdout",
     "output_type": "stream",
     "text": [
      "The sum: 0\n",
      "The sum: 1\n",
      "The sum: 3\n",
      "The sum: 6\n"
     ]
    }
   ],
   "source": [
    "# application of *args\n",
    "def sum1(*args):\n",
    "  total=0\n",
    "  for x in args:\n",
    "    total=total+x\n",
    "  print('The sum:', total)\n",
    "sum1()\n",
    "sum1(1)\n",
    "sum1(1,2)\n",
    "sum1(1,2,3) # we get tuple"
   ]
  },
  {
   "cell_type": "code",
   "execution_count": null,
   "metadata": {
    "colab": {
     "base_uri": "https://localhost:8080/"
    },
    "id": "n5eCehm4W69l",
    "outputId": "b92d91b6-0c73-4c86-a456-89da531bc7ed"
   },
   "outputs": [
    {
     "name": "stdout",
     "output_type": "stream",
     "text": [
      "{'name': 'jayant', 'PRN': 123, 'marks': 92.72}\n"
     ]
    }
   ],
   "source": [
    "def f2(**kwargs):\n",
    "  print(kwargs)\n",
    "\n",
    "f2(name='jayant',PRN=123, marks=92.72)\n"
   ]
  },
  {
   "cell_type": "markdown",
   "metadata": {
    "id": "ADqKxX7vYaYe"
   },
   "source": [
    "## Q. What is difference between dir() and help() function?\n",
    "### Ans: dir() function list out all members of given module. help() function provides documentation related to that module.\n",
    "### dir(): without argument list all members of current module\n",
    "### dir(): with argument list all members of specified module\n"
   ]
  },
  {
   "cell_type": "code",
   "execution_count": null,
   "metadata": {
    "colab": {
     "base_uri": "https://localhost:8080/"
    },
    "id": "StcvOCWnZvlR",
    "outputId": "f45b5971-9e3a-4a10-b02c-a038db82366b"
   },
   "outputs": [
    {
     "data": {
      "text/plain": [
       "['__doc__',\n",
       " '__loader__',\n",
       " '__name__',\n",
       " '__package__',\n",
       " '__spec__',\n",
       " 'acos',\n",
       " 'acosh',\n",
       " 'asin',\n",
       " 'asinh',\n",
       " 'atan',\n",
       " 'atan2',\n",
       " 'atanh',\n",
       " 'ceil',\n",
       " 'copysign',\n",
       " 'cos',\n",
       " 'cosh',\n",
       " 'degrees',\n",
       " 'e',\n",
       " 'erf',\n",
       " 'erfc',\n",
       " 'exp',\n",
       " 'expm1',\n",
       " 'fabs',\n",
       " 'factorial',\n",
       " 'floor',\n",
       " 'fmod',\n",
       " 'frexp',\n",
       " 'fsum',\n",
       " 'gamma',\n",
       " 'gcd',\n",
       " 'hypot',\n",
       " 'inf',\n",
       " 'isclose',\n",
       " 'isfinite',\n",
       " 'isinf',\n",
       " 'isnan',\n",
       " 'ldexp',\n",
       " 'lgamma',\n",
       " 'log',\n",
       " 'log10',\n",
       " 'log1p',\n",
       " 'log2',\n",
       " 'modf',\n",
       " 'nan',\n",
       " 'pi',\n",
       " 'pow',\n",
       " 'radians',\n",
       " 'remainder',\n",
       " 'sin',\n",
       " 'sinh',\n",
       " 'sqrt',\n",
       " 'tan',\n",
       " 'tanh',\n",
       " 'tau',\n",
       " 'trunc']"
      ]
     },
     "execution_count": 29,
     "metadata": {},
     "output_type": "execute_result"
    }
   ],
   "source": [
    "import math\n",
    "dir(math)"
   ]
  },
  {
   "cell_type": "code",
   "execution_count": null,
   "metadata": {
    "colab": {
     "base_uri": "https://localhost:8080/"
    },
    "id": "inKQfoo6aAfr",
    "outputId": "ef47d0bc-fc6d-4bbf-80e2-703fd7be3f9c"
   },
   "outputs": [
    {
     "name": "stdout",
     "output_type": "stream",
     "text": [
      "Help on built-in module math:\n",
      "\n",
      "NAME\n",
      "    math\n",
      "\n",
      "DESCRIPTION\n",
      "    This module provides access to the mathematical functions\n",
      "    defined by the C standard.\n",
      "\n",
      "FUNCTIONS\n",
      "    acos(x, /)\n",
      "        Return the arc cosine (measured in radians) of x.\n",
      "    \n",
      "    acosh(x, /)\n",
      "        Return the inverse hyperbolic cosine of x.\n",
      "    \n",
      "    asin(x, /)\n",
      "        Return the arc sine (measured in radians) of x.\n",
      "    \n",
      "    asinh(x, /)\n",
      "        Return the inverse hyperbolic sine of x.\n",
      "    \n",
      "    atan(x, /)\n",
      "        Return the arc tangent (measured in radians) of x.\n",
      "    \n",
      "    atan2(y, x, /)\n",
      "        Return the arc tangent (measured in radians) of y/x.\n",
      "        \n",
      "        Unlike atan(y/x), the signs of both x and y are considered.\n",
      "    \n",
      "    atanh(x, /)\n",
      "        Return the inverse hyperbolic tangent of x.\n",
      "    \n",
      "    ceil(x, /)\n",
      "        Return the ceiling of x as an Integral.\n",
      "        \n",
      "        This is the smallest integer >= x.\n",
      "    \n",
      "    copysign(x, y, /)\n",
      "        Return a float with the magnitude (absolute value) of x but the sign of y.\n",
      "        \n",
      "        On platforms that support signed zeros, copysign(1.0, -0.0)\n",
      "        returns -1.0.\n",
      "    \n",
      "    cos(x, /)\n",
      "        Return the cosine of x (measured in radians).\n",
      "    \n",
      "    cosh(x, /)\n",
      "        Return the hyperbolic cosine of x.\n",
      "    \n",
      "    degrees(x, /)\n",
      "        Convert angle x from radians to degrees.\n",
      "    \n",
      "    erf(x, /)\n",
      "        Error function at x.\n",
      "    \n",
      "    erfc(x, /)\n",
      "        Complementary error function at x.\n",
      "    \n",
      "    exp(x, /)\n",
      "        Return e raised to the power of x.\n",
      "    \n",
      "    expm1(x, /)\n",
      "        Return exp(x)-1.\n",
      "        \n",
      "        This function avoids the loss of precision involved in the direct evaluation of exp(x)-1 for small x.\n",
      "    \n",
      "    fabs(x, /)\n",
      "        Return the absolute value of the float x.\n",
      "    \n",
      "    factorial(x, /)\n",
      "        Find x!.\n",
      "        \n",
      "        Raise a ValueError if x is negative or non-integral.\n",
      "    \n",
      "    floor(x, /)\n",
      "        Return the floor of x as an Integral.\n",
      "        \n",
      "        This is the largest integer <= x.\n",
      "    \n",
      "    fmod(x, y, /)\n",
      "        Return fmod(x, y), according to platform C.\n",
      "        \n",
      "        x % y may differ.\n",
      "    \n",
      "    frexp(x, /)\n",
      "        Return the mantissa and exponent of x, as pair (m, e).\n",
      "        \n",
      "        m is a float and e is an int, such that x = m * 2.**e.\n",
      "        If x is 0, m and e are both 0.  Else 0.5 <= abs(m) < 1.0.\n",
      "    \n",
      "    fsum(seq, /)\n",
      "        Return an accurate floating point sum of values in the iterable seq.\n",
      "        \n",
      "        Assumes IEEE-754 floating point arithmetic.\n",
      "    \n",
      "    gamma(x, /)\n",
      "        Gamma function at x.\n",
      "    \n",
      "    gcd(x, y, /)\n",
      "        greatest common divisor of x and y\n",
      "    \n",
      "    hypot(x, y, /)\n",
      "        Return the Euclidean distance, sqrt(x*x + y*y).\n",
      "    \n",
      "    isclose(a, b, *, rel_tol=1e-09, abs_tol=0.0)\n",
      "        Determine whether two floating point numbers are close in value.\n",
      "        \n",
      "          rel_tol\n",
      "            maximum difference for being considered \"close\", relative to the\n",
      "            magnitude of the input values\n",
      "          abs_tol\n",
      "            maximum difference for being considered \"close\", regardless of the\n",
      "            magnitude of the input values\n",
      "        \n",
      "        Return True if a is close in value to b, and False otherwise.\n",
      "        \n",
      "        For the values to be considered close, the difference between them\n",
      "        must be smaller than at least one of the tolerances.\n",
      "        \n",
      "        -inf, inf and NaN behave similarly to the IEEE 754 Standard.  That\n",
      "        is, NaN is not close to anything, even itself.  inf and -inf are\n",
      "        only close to themselves.\n",
      "    \n",
      "    isfinite(x, /)\n",
      "        Return True if x is neither an infinity nor a NaN, and False otherwise.\n",
      "    \n",
      "    isinf(x, /)\n",
      "        Return True if x is a positive or negative infinity, and False otherwise.\n",
      "    \n",
      "    isnan(x, /)\n",
      "        Return True if x is a NaN (not a number), and False otherwise.\n",
      "    \n",
      "    ldexp(x, i, /)\n",
      "        Return x * (2**i).\n",
      "        \n",
      "        This is essentially the inverse of frexp().\n",
      "    \n",
      "    lgamma(x, /)\n",
      "        Natural logarithm of absolute value of Gamma function at x.\n",
      "    \n",
      "    log(...)\n",
      "        log(x, [base=math.e])\n",
      "        Return the logarithm of x to the given base.\n",
      "        \n",
      "        If the base not specified, returns the natural logarithm (base e) of x.\n",
      "    \n",
      "    log10(x, /)\n",
      "        Return the base 10 logarithm of x.\n",
      "    \n",
      "    log1p(x, /)\n",
      "        Return the natural logarithm of 1+x (base e).\n",
      "        \n",
      "        The result is computed in a way which is accurate for x near zero.\n",
      "    \n",
      "    log2(x, /)\n",
      "        Return the base 2 logarithm of x.\n",
      "    \n",
      "    modf(x, /)\n",
      "        Return the fractional and integer parts of x.\n",
      "        \n",
      "        Both results carry the sign of x and are floats.\n",
      "    \n",
      "    pow(x, y, /)\n",
      "        Return x**y (x to the power of y).\n",
      "    \n",
      "    radians(x, /)\n",
      "        Convert angle x from degrees to radians.\n",
      "    \n",
      "    remainder(x, y, /)\n",
      "        Difference between x and the closest integer multiple of y.\n",
      "        \n",
      "        Return x - n*y where n*y is the closest integer multiple of y.\n",
      "        In the case where x is exactly halfway between two multiples of\n",
      "        y, the nearest even value of n is used. The result is always exact.\n",
      "    \n",
      "    sin(x, /)\n",
      "        Return the sine of x (measured in radians).\n",
      "    \n",
      "    sinh(x, /)\n",
      "        Return the hyperbolic sine of x.\n",
      "    \n",
      "    sqrt(x, /)\n",
      "        Return the square root of x.\n",
      "    \n",
      "    tan(x, /)\n",
      "        Return the tangent of x (measured in radians).\n",
      "    \n",
      "    tanh(x, /)\n",
      "        Return the hyperbolic tangent of x.\n",
      "    \n",
      "    trunc(x, /)\n",
      "        Truncates the Real x to the nearest Integral toward 0.\n",
      "        \n",
      "        Uses the __trunc__ magic method.\n",
      "\n",
      "DATA\n",
      "    e = 2.718281828459045\n",
      "    inf = inf\n",
      "    nan = nan\n",
      "    pi = 3.141592653589793\n",
      "    tau = 6.283185307179586\n",
      "\n",
      "FILE\n",
      "    (built-in)\n",
      "\n",
      "\n"
     ]
    }
   ],
   "source": [
    "help(math)"
   ]
  },
  {
   "cell_type": "markdown",
   "metadata": {
    "id": "RMrp2bBXcbEj"
   },
   "source": [
    "## Q. What is Lambda function or Anonymous function?\n",
    "### Ans: Sometimes we can declare a function without any name, such types of nameless functions are called anonymous or lambda function.\n",
    "### Just of one time or instant use.\n",
    "\n",
    "### Syntax: lambda argument_list:expression\n",
    "\n",
    "### implicit return is available with lambda.\n"
   ]
  },
  {
   "cell_type": "code",
   "execution_count": null,
   "metadata": {
    "id": "aok5vW8zdake"
   },
   "outputs": [],
   "source": [
    "# Normal Function\n",
    "def squreit(n):\n",
    "  return n*n\n",
    "# Lambda Function\n",
    "s=lambda n:n*n # more redable"
   ]
  },
  {
   "cell_type": "code",
   "execution_count": null,
   "metadata": {
    "colab": {
     "base_uri": "https://localhost:8080/"
    },
    "id": "iWdOt2TbeQ-L",
    "outputId": "5b4c206a-3d42-4c74-b04a-3b5b6ae57a96"
   },
   "outputs": [
    {
     "name": "stdout",
     "output_type": "stream",
     "text": [
      "The square of 4 is:  16\n"
     ]
    }
   ],
   "source": [
    "print('The square of 4 is: ', s(4))"
   ]
  },
  {
   "cell_type": "markdown",
   "metadata": {
    "id": "MqaDRuTCfEA1"
   },
   "source": [
    "## Q. What are diffrences between normal function and lambda function?\n",
    "### Ans: 1. Normal function is a named function defined by 'def' keyword.\n",
    "### lambda function is nameless(anonymous) function defined by 'lambda' keyword\n",
    "### 2. In Normal function, return statement have to be written explicitly to return some value.\n",
    "### In lambda function, return statement have not to be written explicitly to return some value.\n",
    "### 3. If we want to use a function multiple times, then we should go for normal function.\n",
    "### If we want a function just for instant use(i.e. one time use), then go for lambda function.\n",
    "### 4. Length of the code is more in normal function hence redability will reduce in case of normal function.\n",
    "### Length of the code is less (consice code) hence redability will be improved.\n",
    "### 5. Multiple lines and complex function then go for normal function.\n",
    "### Simple and one line function then go for lambda function."
   ]
  },
  {
   "cell_type": "markdown",
   "metadata": {
    "id": "tHCy72g4HeiY"
   },
   "source": [
    "##Q. What is PIP?\n",
    "###PIP is a package manager/installer for Python packages, or modules.\n",
    "### PIP stands for : package installer for Python"
   ]
  },
  {
   "cell_type": "markdown",
   "metadata": {
    "id": "sNU8wzhuHXVa"
   },
   "source": [
    "##Q. What is a Package?\n",
    "### A package contains all the files you need for a module.\n",
    "\n",
    "### Modules are Python code libraries you can include in your project."
   ]
  },
  {
   "cell_type": "markdown",
   "metadata": {
    "id": "_cFmK7quxNCv"
   },
   "source": [
    "### Q. What is difference between function and method in python?\n",
    "\n",
    "### Ans: \n",
    "\n",
    "### Method: \n",
    "### 1.Method is called by its name, but it is associated to an object (dependent).\n",
    "### 2. A method is implicitly passed the object on which it is invoked.\n",
    "### 3. It may or may not return any data.\n",
    "### 4. A method can operate on the data (instance variables) that is contained by the corresponding class\n",
    "\n",
    "### Function:\n",
    "\n",
    "### 1. Function is block of code that is also called by its name. (independent)\n",
    "### 2. The function can have different parameters or may not have any at all. If any data (parameters) are passed, they are passed explicitly.\n",
    "### 3. It may or may not return any data.\n",
    "### 4. Function does not deal with Class and its instance concept.\n",
    "\n",
    "### Functions can be called only by its name, as it is defined independently. But methods can’t be called by its name only, we need to invoke the class by a reference of that class in which it is defined, i.e. method is defined within a class and hence they are dependent on that class."
   ]
  }
 ],
 "metadata": {
  "colab": {
   "collapsed_sections": [],
   "name": "Python_Questions_S.ipynb",
   "provenance": []
  },
  "kernelspec": {
   "display_name": "Python 3 (ipykernel)",
   "language": "python",
   "name": "python3"
  },
  "language_info": {
   "codemirror_mode": {
    "name": "ipython",
    "version": 3
   },
   "file_extension": ".py",
   "mimetype": "text/x-python",
   "name": "python",
   "nbconvert_exporter": "python",
   "pygments_lexer": "ipython3",
   "version": "3.8.3"
  }
 },
 "nbformat": 4,
 "nbformat_minor": 1
}
