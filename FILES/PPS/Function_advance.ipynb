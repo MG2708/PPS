{
 "cells": [
  {
   "cell_type": "code",
   "execution_count": null,
   "metadata": {
    "colab": {
     "base_uri": "https://localhost:8080/"
    },
    "executionInfo": {
     "elapsed": 360,
     "status": "ok",
     "timestamp": 1639639857357,
     "user": {
      "displayName": "Apoorva Shastri",
      "photoUrl": "https://lh3.googleusercontent.com/a-/AOh14Gi7V6uhZsxxhXhaH20YVuYwUzMIlDPUQJ9fPT3ynQ=s64",
      "userId": "06304336743638956799"
     },
     "user_tz": -330
    },
    "id": "erXhB142Jjag",
    "outputId": "08e583ba-aca3-42b7-c193-3ee8e4d0175e"
   },
   "outputs": [
    {
     "name": "stdout",
     "output_type": "stream",
     "text": [
      "\n",
      "I have a Jordan.\n",
      "My Jordan's name is Dog.\n"
     ]
    }
   ],
   "source": [
    "def describe_pet(animal_type, pet_name):\n",
    " \"\"\"Display information about a pet.\"\"\"\n",
    " print(f\"\\nI have a {animal_type}.\")\n",
    " print(f\"My {animal_type}'s name is {pet_name.title()}.\")\n",
    "\n",
    "describe_pet('Jordan', 'dog')"
   ]
  },
  {
   "cell_type": "code",
   "execution_count": null,
   "metadata": {
    "colab": {
     "base_uri": "https://localhost:8080/"
    },
    "executionInfo": {
     "elapsed": 13,
     "status": "ok",
     "timestamp": 1639721666064,
     "user": {
      "displayName": "Apoorva Shastri",
      "photoUrl": "https://lh3.googleusercontent.com/a-/AOh14Gi7V6uhZsxxhXhaH20YVuYwUzMIlDPUQJ9fPT3ynQ=s64",
      "userId": "06304336743638956799"
     },
     "user_tz": -330
    },
    "id": "6e-gUbWRJZ_d",
    "outputId": "111d0d27-1fdc-43a1-8d60-21af49f65d9c"
   },
   "outputs": [
    {
     "name": "stdout",
     "output_type": "stream",
     "text": [
      "\n",
      "I have a dog.\n",
      "My dog's name is Jordan.\n"
     ]
    }
   ],
   "source": [
    "def describe_pet(animal_type, pet_name):\n",
    " \"\"\"Display information about a pet.\"\"\"\n",
    " print(f\"\\nI have a {animal_type}.\")\n",
    " print(f\"My {animal_type}'s name is {pet_name.title()}.\")\n",
    "\n",
    "describe_pet('dog', 'Jordan')\n"
   ]
  },
  {
   "cell_type": "code",
   "execution_count": null,
   "metadata": {
    "colab": {
     "base_uri": "https://localhost:8080/"
    },
    "executionInfo": {
     "elapsed": 434,
     "status": "ok",
     "timestamp": 1639721726206,
     "user": {
      "displayName": "Apoorva Shastri",
      "photoUrl": "https://lh3.googleusercontent.com/a-/AOh14Gi7V6uhZsxxhXhaH20YVuYwUzMIlDPUQJ9fPT3ynQ=s64",
      "userId": "06304336743638956799"
     },
     "user_tz": -330
    },
    "id": "RRzlY83XKgqX",
    "outputId": "ab5ec2ae-9061-4c24-c28e-0e5e9f7627ae"
   },
   "outputs": [
    {
     "name": "stdout",
     "output_type": "stream",
     "text": [
      "\n",
      "I have a dog.\n",
      "My dog's name is Jordan.\n"
     ]
    }
   ],
   "source": [
    "def describe_pet(animal_type, pet_name):\n",
    " \"\"\"Display information about a pet.\"\"\"\n",
    " print(f\"\\nI have a {animal_type}.\")\n",
    " print(f\"My {animal_type}'s name is {pet_name.title()}.\")\n",
    "\n",
    "describe_pet(pet_name='Jordan',animal_type='dog')\n"
   ]
  },
  {
   "cell_type": "code",
   "execution_count": null,
   "metadata": {
    "colab": {
     "base_uri": "https://localhost:8080/"
    },
    "executionInfo": {
     "elapsed": 6,
     "status": "ok",
     "timestamp": 1639640182789,
     "user": {
      "displayName": "Apoorva Shastri",
      "photoUrl": "https://lh3.googleusercontent.com/a-/AOh14Gi7V6uhZsxxhXhaH20YVuYwUzMIlDPUQJ9fPT3ynQ=s64",
      "userId": "06304336743638956799"
     },
     "user_tz": -330
    },
    "id": "3LdWB8juKp7d",
    "outputId": "541ea2bd-eaf7-450b-8256-e2ddcbf4b0ae"
   },
   "outputs": [
    {
     "name": "stdout",
     "output_type": "stream",
     "text": [
      "\n",
      "I have a dog.\n",
      "My dog's name is Willie.\n"
     ]
    }
   ],
   "source": [
    "def describe_pet(pet_name, animal_type='dog'):\n",
    " \"\"\"Display information about a pet.\"\"\"\n",
    " print(f\"\\nI have a {animal_type}.\")\n",
    " print(f\"My {animal_type}'s name is {pet_name.title()}.\")\n",
    " \n",
    "describe_pet(pet_name='willie')"
   ]
  },
  {
   "cell_type": "code",
   "execution_count": null,
   "metadata": {
    "id": "xJccTlhnc6_B"
   },
   "outputs": [],
   "source": [
    "#Arbitrary Arguments, *args\n",
    "#If you do not know how many arguments that will be passed into your function, add a * before the parameter name in the function definition.\n",
    "\n",
    "#This way the function will receive a tuple of arguments, and can access the items accordingly:"
   ]
  },
  {
   "cell_type": "code",
   "execution_count": 1,
   "metadata": {
    "id": "sV0Hg5-gMitf"
   },
   "outputs": [
    {
     "name": "stdout",
     "output_type": "stream",
     "text": [
      "('pepperoni',)\n",
      "('mushrooms', 'green peppers', 'extra cheese')\n"
     ]
    }
   ],
   "source": [
    "def make_pizza(*toppings):\n",
    " \"\"\"Print the list of toppings that have been requested.\"\"\"\n",
    " print(toppings)\n",
    "\n",
    "make_pizza('pepperoni')\n",
    "\n",
    "make_pizza('mushrooms', 'green peppers', 'extra cheese')\n"
   ]
  },
  {
   "cell_type": "code",
   "execution_count": 11,
   "metadata": {
    "colab": {
     "base_uri": "https://localhost:8080/"
    },
    "executionInfo": {
     "elapsed": 618,
     "status": "ok",
     "timestamp": 1639730288940,
     "user": {
      "displayName": "Apoorva Shastri",
      "photoUrl": "https://lh3.googleusercontent.com/a-/AOh14Gi7V6uhZsxxhXhaH20YVuYwUzMIlDPUQJ9fPT3ynQ=s64",
      "userId": "06304336743638956799"
     },
     "user_tz": -330
    },
    "id": "cFY8Mms9dPPw",
    "outputId": "4e673360-d265-4456-a3ea-88cce5575e0a"
   },
   "outputs": [
    {
     "name": "stdout",
     "output_type": "stream",
     "text": [
      "The youngest child is Tobias\n"
     ]
    }
   ],
   "source": [
    "def my_function(*kids):\n",
    "  print(\"The youngest child is \" + kids[1])\n",
    "\n",
    "my_function(\"Emil\", \"Tobias\", \"Jack\")"
   ]
  },
  {
   "cell_type": "code",
   "execution_count": 20,
   "metadata": {
    "colab": {
     "base_uri": "https://localhost:8080/"
    },
    "executionInfo": {
     "elapsed": 467,
     "status": "ok",
     "timestamp": 1639730702930,
     "user": {
      "displayName": "Apoorva Shastri",
      "photoUrl": "https://lh3.googleusercontent.com/a-/AOh14Gi7V6uhZsxxhXhaH20YVuYwUzMIlDPUQJ9fPT3ynQ=s64",
      "userId": "06304336743638956799"
     },
     "user_tz": -330
    },
    "id": "_-_Pn9QZdYFP",
    "outputId": "0b3716be-55a7-4135-b05a-0ec802442d8c"
   },
   "outputs": [
    {
     "name": "stdout",
     "output_type": "stream",
     "text": [
      "The youngest child is Emil\n"
     ]
    }
   ],
   "source": [
    "#Keyword Arguments\n",
    "#You can also send arguments with the key = value syntax.\n",
    "\n",
    "#This way the order of the arguments does not matter.\n",
    "\n",
    "def my_function(**child):\n",
    "  print(\"The youngest child is \" + child[\"child1\"])\n",
    "\n",
    "my_function(child1 = \"Emil\", child2 = \"Tobias\", child3 = \"Jack\")"
   ]
  },
  {
   "cell_type": "code",
   "execution_count": 15,
   "metadata": {
    "colab": {
     "base_uri": "https://localhost:8080/"
    },
    "executionInfo": {
     "elapsed": 2,
     "status": "ok",
     "timestamp": 1639730494747,
     "user": {
      "displayName": "Apoorva Shastri",
      "photoUrl": "https://lh3.googleusercontent.com/a-/AOh14Gi7V6uhZsxxhXhaH20YVuYwUzMIlDPUQJ9fPT3ynQ=s64",
      "userId": "06304336743638956799"
     },
     "user_tz": -330
    },
    "id": "12DYwu_-eZRe",
    "outputId": "98995ac9-e910-4918-df87-7b8f52fdd1ae"
   },
   "outputs": [
    {
     "name": "stdout",
     "output_type": "stream",
     "text": [
      "His last name is  Joshi\n"
     ]
    }
   ],
   "source": [
    "#Arbitrary Keyword Arguments, **kwargs\n",
    "#If you do not know how many keyword arguments that will be passed into your function, add two asterisk: ** before the parameter name in the function definition.\n",
    "\n",
    "#This way the function will receive a dictionary of arguments, and can access the items accordingly:\n",
    "\n",
    "def my_function(**kid):\n",
    "  print(\"His last name is \",kid[\"lname\"])\n",
    "\n",
    "my_function(fname = \"Jack\", lname = \"Joshi\")"
   ]
  }
 ],
 "metadata": {
  "colab": {
   "authorship_tag": "ABX9TyNQns5c2yrn3zdvrWzKx9A9",
   "name": "Function_advance.ipynb",
   "provenance": []
  },
  "kernelspec": {
   "display_name": "Python 3 (ipykernel)",
   "language": "python",
   "name": "python3"
  },
  "language_info": {
   "codemirror_mode": {
    "name": "ipython",
    "version": 3
   },
   "file_extension": ".py",
   "mimetype": "text/x-python",
   "name": "python",
   "nbconvert_exporter": "python",
   "pygments_lexer": "ipython3",
   "version": "3.8.3"
  }
 },
 "nbformat": 4,
 "nbformat_minor": 1
}
