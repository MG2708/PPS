{
 "cells": [
  {
   "cell_type": "markdown",
   "metadata": {
    "id": "dbCfZtYCCHlg"
   },
   "source": [
    "####https://www.tutorialspoint.com/python/"
   ]
  },
  {
   "cell_type": "markdown",
   "metadata": {
    "id": "g_HRxw3L8fv-"
   },
   "source": [
    "##Learn Python in Better Way!!!"
   ]
  },
  {
   "cell_type": "code",
   "execution_count": 1,
   "metadata": {
    "colab": {
     "base_uri": "https://localhost:8080/"
    },
    "id": "6wSMchL78WJu",
    "outputId": "7d7a9f0f-5528-4a65-9f71-e0634631bb82"
   },
   "outputs": [
    {
     "name": "stdout",
     "output_type": "stream",
     "text": [
      "Hello\n"
     ]
    }
   ],
   "source": [
    "print('Hello')"
   ]
  },
  {
   "cell_type": "code",
   "execution_count": 2,
   "metadata": {
    "colab": {
     "base_uri": "https://localhost:8080/",
     "height": 35
    },
    "id": "UEb_y36x8l0n",
    "outputId": "c941f998-b1a1-4536-e41d-7a71c2f38441"
   },
   "outputs": [
    {
     "data": {
      "application/vnd.google.colaboratory.intrinsic+json": {
       "type": "string"
      },
      "text/plain": [
       "'This is multiline commnet which is ingnored by python.'"
      ]
     },
     "execution_count": 2,
     "metadata": {},
     "output_type": "execute_result"
    }
   ],
   "source": [
    "word = 'word'\n",
    "sentence = \"This is a sentence.\"\n",
    "paragraph = '''This is a paragraph. It is made up of multiple lines and sentences.'''\n",
    "'''This is multiline commnet which is ingnored by python.'''"
   ]
  },
  {
   "cell_type": "code",
   "execution_count": 3,
   "metadata": {
    "colab": {
     "base_uri": "https://localhost:8080/",
     "height": 35
    },
    "id": "-iKLcdJg9OfE",
    "outputId": "ea4f3c66-b22e-4513-f14a-9e25b3bb4e54"
   },
   "outputs": [
    {
     "data": {
      "application/vnd.google.colaboratory.intrinsic+json": {
       "type": "string"
      },
      "text/plain": [
       "'word'"
      ]
     },
     "execution_count": 3,
     "metadata": {},
     "output_type": "execute_result"
    }
   ],
   "source": [
    "word #this is power of python"
   ]
  },
  {
   "cell_type": "code",
   "execution_count": 4,
   "metadata": {
    "colab": {
     "base_uri": "https://localhost:8080/",
     "height": 35
    },
    "id": "gJgujZT09Rxq",
    "outputId": "8bc2073c-8a9c-4403-89c5-848d98f7597b"
   },
   "outputs": [
    {
     "data": {
      "application/vnd.google.colaboratory.intrinsic+json": {
       "type": "string"
      },
      "text/plain": [
       "'This is a sentence.'"
      ]
     },
     "execution_count": 4,
     "metadata": {},
     "output_type": "execute_result"
    }
   ],
   "source": [
    "sentence "
   ]
  },
  {
   "cell_type": "code",
   "execution_count": 5,
   "metadata": {
    "colab": {
     "base_uri": "https://localhost:8080/",
     "height": 35
    },
    "id": "ED1wGBTt9VnE",
    "outputId": "34f85eb6-b202-42e2-8f2b-2b28dcd52771"
   },
   "outputs": [
    {
     "data": {
      "application/vnd.google.colaboratory.intrinsic+json": {
       "type": "string"
      },
      "text/plain": [
       "'This is a paragraph. It is made up of multiple lines and sentences.'"
      ]
     },
     "execution_count": 5,
     "metadata": {},
     "output_type": "execute_result"
    }
   ],
   "source": [
    "paragraph"
   ]
  },
  {
   "cell_type": "code",
   "execution_count": 6,
   "metadata": {
    "colab": {
     "base_uri": "https://localhost:8080/"
    },
    "id": "Z4molOmp9ZwE",
    "outputId": "82b7e9f1-b983-4d58-c063-cee71922a500"
   },
   "outputs": [
    {
     "name": "stdout",
     "output_type": "stream",
     "text": [
      "100 1000.0 Jay\n"
     ]
    }
   ],
   "source": [
    "counter = 100          # An integer assignment\n",
    "miles   = 1000.0       # A floating point\n",
    "name    = \"Jay\"       # A string\n",
    "\n",
    "print (counter, miles, name)\n",
    "#print (miles)\n",
    "#print (name)"
   ]
  },
  {
   "cell_type": "code",
   "execution_count": 7,
   "metadata": {
    "colab": {
     "base_uri": "https://localhost:8080/"
    },
    "id": "sbTCCDYS-k4U",
    "outputId": "49295c89-2f79-4331-8995-ec41e78c4e7e"
   },
   "outputs": [
    {
     "name": "stdout",
     "output_type": "stream",
     "text": [
      "1 1 1\n"
     ]
    }
   ],
   "source": [
    "a=b=c=1\n",
    "print(a,b,c)"
   ]
  },
  {
   "cell_type": "code",
   "execution_count": 8,
   "metadata": {
    "colab": {
     "base_uri": "https://localhost:8080/"
    },
    "id": "5WK0BaYE-qo5",
    "outputId": "3040ac58-c574-4b27-bdf4-b2647e1cc1c4"
   },
   "outputs": [
    {
     "name": "stdout",
     "output_type": "stream",
     "text": [
      "1 2.0 jay\n"
     ]
    }
   ],
   "source": [
    "a,b,c=1,2.0,'jay'\n",
    "print(a,b,c)"
   ]
  },
  {
   "cell_type": "markdown",
   "metadata": {
    "id": "MlzKd8Bg-6LE"
   },
   "source": [
    "Standard Data Types:\n",
    "   Numbers,\n",
    "   String,\n",
    "   List,\n",
    "   Tuple,\n",
    "   Dictionary\n",
    "\n"
   ]
  },
  {
   "cell_type": "markdown",
   "metadata": {
    "id": "LPzIUfKCAtiy"
   },
   "source": [
    "#String"
   ]
  },
  {
   "cell_type": "code",
   "execution_count": 9,
   "metadata": {
    "colab": {
     "base_uri": "https://localhost:8080/"
    },
    "id": "2EGT05ke_BKS",
    "outputId": "800199c6-c6fe-4cf0-f3ab-f39bd1be39a3"
   },
   "outputs": [
    {
     "name": "stdout",
     "output_type": "stream",
     "text": [
      "Welcome to SIT\n",
      "W\n",
      "lco\n",
      "come to SIT\n",
      "Welcome to SITWelcome to SIT\n",
      "Welcome to SIT TEST\n",
      "jayant\n"
     ]
    }
   ],
   "source": [
    "str = 'Welcome to SIT'\n",
    "str1='this is jayant'\n",
    "print (str)         # Prints complete string\n",
    "print (str[0])      # Prints first character of the string\n",
    "print (str[2:5])     # Prints characters starting from 2nd to 4th\n",
    "print (str[3:])      # Prints string starting from 3rd character till end of string\n",
    "print (str * 2)      # Prints string two times\n",
    "print (str +\" \" + \"TEST\") # Prints concatenated string\n",
    "print(str1[8:])"
   ]
  },
  {
   "cell_type": "markdown",
   "metadata": {
    "id": "jynA3TAJAw-r"
   },
   "source": [
    "# List"
   ]
  },
  {
   "cell_type": "code",
   "execution_count": 10,
   "metadata": {
    "colab": {
     "base_uri": "https://localhost:8080/"
    },
    "id": "aBMY1W2N_6xe",
    "outputId": "abfb896f-d052-49d2-d558-9a9519a2a33f"
   },
   "outputs": [
    {
     "name": "stdout",
     "output_type": "stream",
     "text": [
      "['SIT', 123, 20.2, 'PRN', 2020]\n",
      "SIT\n",
      "[123, 20.2]\n",
      "[20.2, 'PRN', 2020]\n",
      "[107, 'WELCOME', 107, 'WELCOME']\n",
      "['SIT', 123, 20.2, 'PRN', 2020, 107, 'WELCOME']\n"
     ]
    }
   ],
   "source": [
    "list = [ 'SIT', 123 , 20.20, 'PRN', 2020 ]\n",
    "tinylist = [107, 'WELCOME']\n",
    "\n",
    "print (list)          # Prints complete list\n",
    "print (list[0])       # Prints first element of the list\n",
    "print (list[1:3])     # Prints elements starting from 2nd till 3rd \n",
    "print (list[2:])      # Prints elements starting from 3rd element till end of list\n",
    "print (tinylist * 2)  # Prints list two times\n",
    "print (list + tinylist) # Prints concatenated lists"
   ]
  },
  {
   "cell_type": "markdown",
   "metadata": {
    "id": "RjtBokHwA0OO"
   },
   "source": [
    "#Tuple: \n",
    "Lists are enclosed in brackets ( [ ] ) and their elements and size can be changed, while tuples are enclosed in parentheses ( ( ) ) and cannot be updated. Tuples can be thought of as read-only lists"
   ]
  },
  {
   "cell_type": "code",
   "execution_count": 11,
   "metadata": {
    "colab": {
     "base_uri": "https://localhost:8080/"
    },
    "id": "AnLdk1GxAn4U",
    "outputId": "1bebebb3-83ea-4982-ef46-af4050a61302"
   },
   "outputs": [
    {
     "name": "stdout",
     "output_type": "stream",
     "text": [
      "('SIT', 123, 20.2, 'PRN', 2020)\n",
      "SIT\n",
      "(123, 20.2)\n",
      "(20.2, 'PRN', 2020)\n",
      "(107, 'WELCOME', 107, 'WELCOME')\n",
      "('SIT', 123, 20.2, 'PRN', 2020, 107, 'WELCOME')\n"
     ]
    }
   ],
   "source": [
    "tuple = ( 'SIT', 123 , 20.20, 'PRN', 2020  )\n",
    "tinytuple = (107, 'WELCOME')\n",
    "\n",
    "print (tuple)               # Prints the complete tuple\n",
    "print (tuple[0])            # Prints first element of the tuple\n",
    "print (tuple[1:3])          # Prints elements of the tuple starting from 2nd till 3rd \n",
    "print (tuple[2:])           # Prints elements of the tuple starting from 3rd element\n",
    "print (tinytuple * 2)      # Prints the contents of the tuple twice\n",
    "print (tuple + tinytuple)   # Prints concatenated tuples"
   ]
  },
  {
   "cell_type": "code",
   "execution_count": 12,
   "metadata": {
    "id": "aK6uMqoQBk_j"
   },
   "outputs": [],
   "source": [
    "tuple = ( 'SIT', 123 , 20.20, 'PRN', 2020  )\n",
    "list = [ 'SIT', 123 , 20.20, 'PRN', 2020 ]\n",
    "#tuple[2] = 1000    # Invalid syntax with tuple\n",
    "list[2] = 1000     # Valid syntax with list"
   ]
  },
  {
   "cell_type": "code",
   "execution_count": 13,
   "metadata": {
    "colab": {
     "base_uri": "https://localhost:8080/"
    },
    "id": "TN0etXp8Bw_U",
    "outputId": "fce20402-f9a8-477c-bf8a-64985e6793da"
   },
   "outputs": [
    {
     "name": "stdout",
     "output_type": "stream",
     "text": [
      "['SIT', 123, 1000, 'PRN', 2020]\n"
     ]
    }
   ],
   "source": [
    "print(list)"
   ]
  },
  {
   "cell_type": "markdown",
   "metadata": {
    "id": "HsN6XnYeB5W7"
   },
   "source": [
    "###Dictionary: Dictionaries are enclosed by curly braces ({ }) and values can be assigned and accessed using square braces ([])"
   ]
  },
  {
   "cell_type": "code",
   "execution_count": 14,
   "metadata": {
    "colab": {
     "base_uri": "https://localhost:8080/"
    },
    "id": "owSOpB2jB033",
    "outputId": "8a65cf5e-a6a6-4e45-c181-367b006490a9"
   },
   "outputs": [
    {
     "name": "stdout",
     "output_type": "stream",
     "text": [
      "This is SIT\n",
      "This is etc\n",
      "{'name': 'jay', 'PRN': 2020, 'dept': 'ETC'}\n",
      "dict_keys(['name', 'PRN', 'dept'])\n",
      "dict_values(['jay', 2020, 'ETC'])\n",
      "2020\n"
     ]
    }
   ],
   "source": [
    "dict = {}\n",
    "dict['sit'] = \"This is SIT\"\n",
    "dict[2]     = \"This is etc\"\n",
    "\n",
    "tinydict = {'name': 'jay','PRN':1234, 'dept': 'ETC'}\n",
    "tinydict['PRN']=2020\n",
    "qqqq={'name': 'jay','PRN':1234, 'dept': 'ETC'}\n",
    "print (dict['sit'])       # Prints value for 'sit' key\n",
    "print (dict[2])           # Prints value for 2 key\n",
    "print (tinydict)          # Prints complete dictionary\n",
    "print (tinydict.keys())  # Prints all the keys\n",
    "print (tinydict.values()) # Prints all the values\n",
    "print(tinydict['PRN'])"
   ]
  },
  {
   "cell_type": "code",
   "execution_count": 15,
   "metadata": {
    "colab": {
     "base_uri": "https://localhost:8080/"
    },
    "id": "Jgs1BBw-Bruw",
    "outputId": "d69728c1-7bf0-4c07-bf03-f017231d2339"
   },
   "outputs": [
    {
     "data": {
      "text/plain": [
       "dict"
      ]
     },
     "execution_count": 15,
     "metadata": {},
     "output_type": "execute_result"
    }
   ],
   "source": [
    "type(qqqq)"
   ]
  },
  {
   "cell_type": "code",
   "execution_count": 16,
   "metadata": {
    "colab": {
     "base_uri": "https://localhost:8080/"
    },
    "id": "oj7Tp-jBDFGr",
    "outputId": "bd73d58a-c27e-41ee-df36-a2c9a10655b7"
   },
   "outputs": [
    {
     "name": "stdout",
     "output_type": "stream",
     "text": [
      "5\n",
      "-1\n",
      "6\n",
      "1.5\n",
      "1\n",
      "8\n",
      "1\n"
     ]
    }
   ],
   "source": [
    "#Arithmetic Operators\n",
    "a=2;b=3\n",
    "print(a+b)\n",
    "print(a-b)\n",
    "print(a*b)\n",
    "print(b/a)\n",
    "print(b%a) #Modulus\n",
    "print(a**b) #Exponent\n",
    "print(b//a)#floor division\n"
   ]
  },
  {
   "cell_type": "code",
   "execution_count": 17,
   "metadata": {
    "colab": {
     "base_uri": "https://localhost:8080/"
    },
    "id": "-ESVzO5jHnQi",
    "outputId": "10711ac2-4770-40b4-ee0d-50087a889053"
   },
   "outputs": [
    {
     "name": "stdout",
     "output_type": "stream",
     "text": [
      " a is not equal to b\n",
      " a is not equal to b\n",
      " a is not less than b\n",
      " a is greater than b\n",
      " a is neither less than nor equal to  b\n",
      " a is either greater than  or equal to b\n"
     ]
    }
   ],
   "source": [
    "#Comparison Operators\n",
    "a = 21;b = 10\n",
    "\n",
    "if ( a == b ):\n",
    "   print (\" a is equal to b\")\n",
    "else:\n",
    "   print (\" a is not equal to b\")\n",
    "\n",
    "if ( a != b ):\n",
    "   print (\" a is not equal to b\")\n",
    "else:\n",
    "   print (\" a is equal to b\")\n",
    "\n",
    "if ( a < b ):\n",
    "   print (\" a is less than b\" )\n",
    "else:\n",
    "   print (\" a is not less than b\")\n",
    "\n",
    "if ( a > b ):\n",
    "   print (\" a is greater than b\")\n",
    "else:\n",
    "   print (\" a is not greater than b\")\n",
    "\n",
    "\n",
    "#if (a==c): # Indentation\n",
    " # print()\n",
    "#else:\n",
    " # print()\n",
    "\n",
    "if ( a <= b ):\n",
    "   print (\" a is either less than or equal to  b\")\n",
    "else:\n",
    "   print (\" a is neither less than nor equal to  b\")\n",
    "\n",
    "if ( a >= b ):\n",
    "   print (\" a is either greater than  or equal to b\")\n",
    "else:\n",
    "   print (\" a is neither greater than  nor equal to b\")"
   ]
  },
  {
   "cell_type": "code",
   "execution_count": 18,
   "metadata": {
    "colab": {
     "base_uri": "https://localhost:8080/"
    },
    "id": "TcV2VXobGJ3e",
    "outputId": "af5eb9f0-2694-42f1-992a-a4c7c812b54b"
   },
   "outputs": [
    {
     "name": "stdout",
     "output_type": "stream",
     "text": [
      "AND 12\n",
      "OR  61\n",
      "XOR  49\n",
      "Ones Complement  -61\n",
      "Left Shift  240\n",
      "Right Shift  15\n"
     ]
    }
   ],
   "source": [
    "#Bitwise Operators\n",
    "a = 60            # 60 = 0011 1100 \n",
    "b = 13            # 13 = 0000 1101 \n",
    "c = 0\n",
    "\n",
    "c = a & b;        # 12 = 0000 1100\n",
    "print (\"AND\", c)\n",
    "\n",
    "c = a | b;        # 61 = 0011 1101 \n",
    "print (\"OR \", c)\n",
    "\n",
    "c = a ^ b;        # 49 = 0011 0001\n",
    "print (\"XOR \", c)\n",
    "\n",
    "c = ~a;           # -61 = 1100 0011\n",
    "print (\"Ones Complement \", c)\n",
    "\n",
    "c = a << 2;       # 240 = 1111 0000\n",
    "print (\"Left Shift \", c)\n",
    "\n",
    "c = a >> 2;       # 15 = 0000 1111\n",
    "print (\"Right Shift \", c)"
   ]
  },
  {
   "cell_type": "code",
   "execution_count": 19,
   "metadata": {
    "colab": {
     "base_uri": "https://localhost:8080/"
    },
    "id": "SAUR214gI9Bh",
    "outputId": "b0516d1c-d25f-4211-9c9f-97f2a7752254"
   },
   "outputs": [
    {
     "name": "stdout",
     "output_type": "stream",
     "text": [
      "Line 1 - Value of c is  31\n",
      "Line 2 - Value of c is  52\n",
      "Line 3 - Value of c is  1092\n",
      "Line 4 - Value of c is  52.0\n",
      "Line 5 - Value of c is  2\n",
      "Line 6 - Value of c is  2097152\n",
      "Line 7 - Value of c is  99864\n"
     ]
    }
   ],
   "source": [
    "#Assignment Operators\n",
    "a = 21\n",
    "b = 10\n",
    "c = 0\n",
    "\n",
    "c = a + b\n",
    "print (\"Line 1 - Value of c is \", c)\n",
    "\n",
    "c += a # c=c+a\n",
    "print (\"Line 2 - Value of c is \", c )\n",
    "\n",
    "c *= a\n",
    "print (\"Line 3 - Value of c is \", c )\n",
    "\n",
    "c /= a \n",
    "print (\"Line 4 - Value of c is \", c )\n",
    "\n",
    "c  = 2\n",
    "c %= a\n",
    "print (\"Line 5 - Value of c is \", c)\n",
    "\n",
    "c **= a\n",
    "print (\"Line 6 - Value of c is \", c)\n",
    "\n",
    "c //= a\n",
    "print (\"Line 7 - Value of c is \", c)"
   ]
  },
  {
   "cell_type": "code",
   "execution_count": 20,
   "metadata": {
    "colab": {
     "base_uri": "https://localhost:8080/"
    },
    "id": "1EafibbWJ7uZ",
    "outputId": "9c3a202f-360c-4319-a87f-ce50f5fc73b9"
   },
   "outputs": [
    {
     "name": "stdout",
     "output_type": "stream",
     "text": [
      "a is greater than c\n",
      "b is grater than a or c\n",
      "10 is divisible by either 3 or 5\n"
     ]
    }
   ],
   "source": [
    "#Logical Operators\n",
    "a=6;b=4;c=2\n",
    "if a>b and b>c:\n",
    "  print('a is greater than c')\n",
    "else:\n",
    "  print('a is not greater than c')\n",
    "\n",
    "if b>a or b>c:\n",
    "  print('b is grater than a or c')\n",
    "else:\n",
    "  print('b is not greater than a or c')\n",
    "\n",
    "d= 10\n",
    "  \n",
    "if not d: \n",
    "    print(\"Boolean value of d is True\")\n",
    "     \n",
    "  \n",
    "if not (d%3 == 0 or d%5 == 0): \n",
    "    print(\"10 is not divisible by either 3 or 5\") \n",
    "else: \n",
    "    print(\"10 is divisible by either 3 or 5\") "
   ]
  },
  {
   "cell_type": "code",
   "execution_count": 21,
   "metadata": {
    "colab": {
     "base_uri": "https://localhost:8080/"
    },
    "id": "9mYMB1J2MOVA",
    "outputId": "92a103c7-377c-4af7-d415-17540a2e89ad"
   },
   "outputs": [
    {
     "name": "stdout",
     "output_type": "stream",
     "text": [
      " a is not available in the given list\n",
      " b is available in the given list\n"
     ]
    }
   ],
   "source": [
    "#Membership Operators\n",
    "a = 10\n",
    "b = 2\n",
    "list = [1, 2, 3, 4, 5 ]\n",
    "\n",
    "if ( a in list ):\n",
    "   print (\" a is available in the given list\")\n",
    "else:\n",
    "   print (\" a is not available in the given list\")\n",
    "\n",
    "if ( b not in list ):\n",
    "   print (\" b is not available in the given list\")\n",
    "else:\n",
    "   print (\" b is available in the given list\")\n",
    "\n"
   ]
  },
  {
   "cell_type": "code",
   "execution_count": 22,
   "metadata": {
    "colab": {
     "base_uri": "https://localhost:8080/"
    },
    "id": "2rQkhCwoND5c",
    "outputId": "64c42e35-c52b-4eee-a5ea-7e5807122201"
   },
   "outputs": [
    {
     "name": "stdout",
     "output_type": "stream",
     "text": [
      " a and b have same identity\n",
      " a and b have same identity\n",
      " a and b do not have same identity\n",
      " a and b do not have same identity\n"
     ]
    }
   ],
   "source": [
    "#Identity Operators\n",
    "a = 20\n",
    "b = 20\n",
    "\n",
    "if ( a is b ):\n",
    "   print (\" a and b have same identity\")\n",
    "else:\n",
    "   print (\" a and b do not have same identity\")\n",
    "\n",
    "if ( id(a) == id(b) ):\n",
    "   print (\" a and b have same identity\")\n",
    "else:\n",
    "   print (\" a and b do not have same identity\")\n",
    "\n",
    "b = 30\n",
    "if ( a is b ):\n",
    "   print (\" a and b have same identity\")\n",
    "else:\n",
    "   print (\" a and b do not have same identity\")\n",
    "\n",
    "if ( a is not b ):\n",
    "   print (\" a and b do not have same identity\")\n",
    "else:\n",
    "   print (\" a and b have same identity\")\n"
   ]
  },
  {
   "cell_type": "code",
   "execution_count": 23,
   "metadata": {
    "colab": {
     "base_uri": "https://localhost:8080/"
    },
    "id": "KQoaHsv7_LJS",
    "outputId": "a762ea6f-3c32-4c85-fe16-caa78ed7bb2a"
   },
   "outputs": [
    {
     "name": "stdout",
     "output_type": "stream",
     "text": [
      "a\n"
     ]
    }
   ],
   "source": [
    "a = 20\n",
    "b = 20\n",
    "if (a is b):\n",
    "  print('a')\n",
    "else:\n",
    "  print('b')"
   ]
  },
  {
   "cell_type": "markdown",
   "metadata": {
    "id": "0IW-KxSeVL4i"
   },
   "source": [
    "![PythonPrecedence](https://drive.google.com/uc?id=1Gi3b6Sb8Yz0Ndm_aIhZkdEAYJn_7EtN0) "
   ]
  },
  {
   "cell_type": "code",
   "execution_count": 24,
   "metadata": {
    "colab": {
     "base_uri": "https://localhost:8080/"
    },
    "id": "BhApdh02No2h",
    "outputId": "4a059edb-ed1c-4ec9-e47d-6a9c4a10533a"
   },
   "outputs": [
    {
     "name": "stdout",
     "output_type": "stream",
     "text": [
      "Value of (a + b) * c / d is  90.0\n",
      "Value of ((a + b) * c) / d is  90.0\n",
      "Value of (a + b) * (c / d) is  90.0\n",
      "Value of a + (b * c) / d is  50.0\n"
     ]
    }
   ],
   "source": [
    "#Operators Precedence\n",
    "a = 20\n",
    "b = 10\n",
    "c = 15\n",
    "d = 5\n",
    "e = 0\n",
    "\n",
    "e = (a + b) * c / d       #( 30 * 15 ) / 5\n",
    "print (\"Value of (a + b) * c / d is \",  e)\n",
    "\n",
    "e = ((a + b) * c) / d     # (30 * 15 ) / 5\n",
    "print (\"Value of ((a + b) * c) / d is \",  e)\n",
    "\n",
    "e = (a + b) * (c / d);    # (30) * (15/5)\n",
    "print (\"Value of (a + b) * (c / d) is \",  e)\n",
    "\n",
    "e = a + (b * c) / d;      #  20 + (150/5)\n",
    "print (\"Value of a + (b * c) / d is \",  e)"
   ]
  },
  {
   "cell_type": "markdown",
   "metadata": {
    "id": "euGnUujga2H2"
   },
   "source": [
    "##Decision Making"
   ]
  },
  {
   "cell_type": "code",
   "execution_count": 94,
   "metadata": {
    "colab": {
     "base_uri": "https://localhost:8080/"
    },
    "id": "4E6JuWwGbIaL",
    "outputId": "eb51e392-cd66-407b-c175-9bb01609081a"
   },
   "outputs": [
    {
     "name": "stdout",
     "output_type": "stream",
     "text": [
      "I am out of if \n",
      "b is absent\n",
      "I am out of if-else \n",
      "c is 30\n",
      "c is out of nested if-else\n"
     ]
    }
   ],
   "source": [
    "# if case\n",
    "a=0\n",
    "\n",
    "if a:\n",
    "  print('yes')\n",
    "\n",
    "\n",
    "if a: print('a is present')  \n",
    "\n",
    "print('I am out of if ')\n",
    "\n",
    "# if-else case\n",
    "b=0\n",
    "if b:\n",
    "  print('b is present')\n",
    "else:\n",
    "  print('b is absent')\n",
    "\n",
    "print('I am out of if-else ')\n",
    "\n",
    "\n",
    "# Nested if- else case\n",
    "c=30\n",
    "if c<50:\n",
    "  if c==40:\n",
    "    print('c is 40')\n",
    "  elif c==30:\n",
    "    print('c is 30')\n",
    "  elif c<30:\n",
    "    print('c is < 30 ')\n",
    "else:\n",
    "  print('c is > 50')\n",
    "\n",
    "\n",
    "print('c is out of nested if-else')"
   ]
  },
  {
   "cell_type": "markdown",
   "metadata": {
    "id": "AQGRPVzM2QQM"
   },
   "source": [
    "## Loops"
   ]
  },
  {
   "cell_type": "code",
   "execution_count": 26,
   "metadata": {
    "colab": {
     "base_uri": "https://localhost:8080/"
    },
    "id": "fECd6yJZ0n9U",
    "outputId": "a54b8d9b-0d0f-4b4c-b7f6-1d1f440a6037"
   },
   "outputs": [
    {
     "name": "stdout",
     "output_type": "stream",
     "text": [
      "The count is: 0\n",
      "The count is: 1\n",
      "The count is: 2\n",
      "The count is: 3\n",
      "The count is: 4\n",
      "I am out of while loop\n"
     ]
    }
   ],
   "source": [
    "# while loop\n",
    "count = 0\n",
    "while (count < 5):\n",
    "   print ('The count is:', count)\n",
    "   count = count + 1\n",
    "\n",
    "print (\"I am out of while loop\")"
   ]
  },
  {
   "cell_type": "code",
   "execution_count": 27,
   "metadata": {
    "colab": {
     "base_uri": "https://localhost:8080/"
    },
    "id": "D2rms3enDEZm",
    "outputId": "178654e0-91cb-4003-d339-7d7f62d10cdd"
   },
   "outputs": [
    {
     "name": "stdout",
     "output_type": "stream",
     "text": [
      "Current fruit : banana\n",
      "0\n",
      "Current fruit : apple\n",
      "1\n",
      "Current fruit : mango\n",
      "2\n",
      "I am out of for loop\n"
     ]
    }
   ],
   "source": [
    "# for loop\n",
    "fruits = ['banana', 'apple',  'mango']\n",
    "for index in range(len(fruits)):\n",
    "   print ('Current fruit :', fruits[index])\n",
    "   print(index)\n",
    "\n",
    "print (\"I am out of for loop\")"
   ]
  },
  {
   "cell_type": "code",
   "execution_count": 28,
   "metadata": {
    "colab": {
     "base_uri": "https://localhost:8080/"
    },
    "id": "1PsWtz7zEI82",
    "outputId": "4d8e4271-fbf5-4812-d394-8fd95eebc235"
   },
   "outputs": [
    {
     "name": "stdout",
     "output_type": "stream",
     "text": [
      "2  is prime\n",
      "3  is prime\n",
      "5  is prime\n",
      "7  is prime\n",
      "I am out of nested while loop\n"
     ]
    }
   ],
   "source": [
    "# Nested while loop\n",
    "i = 2\n",
    "while(i < 10):\n",
    "   j = 2\n",
    "   while(j <= (i/j)):\n",
    "      if not(i%j): break\n",
    "      j = j + 1\n",
    "   if (j > i/j) : print (i, \" is prime\")\n",
    "   i = i + 1\n",
    "\n",
    "print (\"I am out of nested while loop\")"
   ]
  },
  {
   "cell_type": "code",
   "execution_count": 29,
   "metadata": {
    "colab": {
     "base_uri": "https://localhost:8080/"
    },
    "id": "7tYkkum4FNTH",
    "outputId": "3628c49f-14eb-4a27-f7ee-899f308c56ab"
   },
   "outputs": [
    {
     "name": "stdout",
     "output_type": "stream",
     "text": [
      "Current Letter : P\n",
      "Current Letter : y\n",
      "Current Letter : t\n"
     ]
    }
   ],
   "source": [
    "# break statement\n",
    "for letter in 'Python':     \n",
    "   if letter == 'h': break       \n",
    "   print ('Current Letter :', letter)"
   ]
  },
  {
   "cell_type": "code",
   "execution_count": 30,
   "metadata": {
    "colab": {
     "base_uri": "https://localhost:8080/"
    },
    "id": "X5Z5RtWDFjka",
    "outputId": "b3ab8933-d6bd-4565-a8b6-3a896def30f0"
   },
   "outputs": [
    {
     "name": "stdout",
     "output_type": "stream",
     "text": [
      "Current Letter : P\n",
      "Current Letter : y\n",
      "Current Letter : t\n",
      "Current Letter : o\n",
      "Current Letter : n\n"
     ]
    }
   ],
   "source": [
    "# continue statement\n",
    "for letter in 'Python':     \n",
    "   if letter == 'h':\n",
    "      continue\n",
    "   print ('Current Letter :', letter)\n"
   ]
  },
  {
   "cell_type": "code",
   "execution_count": 31,
   "metadata": {
    "colab": {
     "base_uri": "https://localhost:8080/"
    },
    "id": "FYeagto6GiXQ",
    "outputId": "a4ae489a-1aaf-4da9-bf69-b358d17fbce2"
   },
   "outputs": [
    {
     "name": "stdout",
     "output_type": "stream",
     "text": [
      "Current Letter : P\n",
      "Current Letter : y\n",
      "Current Letter : t\n",
      "This is pass block\n",
      "Current Letter : h\n",
      "Current Letter : o\n",
      "Current Letter : n\n",
      "Out of for loop\n"
     ]
    }
   ],
   "source": [
    "# pass statement\n",
    "for letter in 'Python': \n",
    "   if letter == 'h':\n",
    "      pass\n",
    "      print ('This is pass block')\n",
    "   print ('Current Letter :', letter)\n",
    "\n",
    "print (\"Out of for loop\")"
   ]
  },
  {
   "cell_type": "markdown",
   "metadata": {
    "id": "of1Hg1yzICas"
   },
   "source": [
    "## Math Functions"
   ]
  },
  {
   "cell_type": "code",
   "execution_count": 32,
   "metadata": {
    "id": "J29rc6WEJ6O6"
   },
   "outputs": [],
   "source": [
    "# Can't use cmp in python3. Hence defined.\n",
    "def cmp(a, b):\n",
    "    return (a > b) - (a < b) "
   ]
  },
  {
   "cell_type": "code",
   "execution_count": 33,
   "metadata": {
    "colab": {
     "base_uri": "https://localhost:8080/"
    },
    "id": "uKuB0JuuHWbw",
    "outputId": "fef20281-3bf7-42d5-a542-40e3acae96ab"
   },
   "outputs": [
    {
     "name": "stdout",
     "output_type": "stream",
     "text": [
      "abs(-10) :  10\n",
      "round(12.3456,2) :  12.34\n",
      "ceil(10.01) :  11\n",
      "floor(10.55) :  10\n",
      "cmp(10, 20) :  -1\n",
      "cmp(20, 10) :  1\n",
      "cmp(10, 10) :  0\n",
      "exp(-10) :  4.5399929762484854e-05\n",
      "exp(pi) :  23.140692632779267\n",
      "exp(e) :  15.154262241479262\n",
      "3.141592653589793 2.718281828459045\n",
      "log(math.e) :  1.0\n",
      "log10(10) :  1.0\n",
      "max(1,2,3) :  3\n",
      "min(1,2,3) :  1\n",
      "pow(2,3) :  8.0\n",
      "sqrt(25) :  5.0\n",
      "math.modf(math.pi) :  (0.14159265358979312, 3.0)\n"
     ]
    }
   ],
   "source": [
    "import math \n",
    "print (\"abs(-10) : \", abs(-10)) # abs(x)\n",
    "print (\"round(12.3456,2) : \", round(12.3426,2)) # round(x,n)\n",
    "print (\"ceil(10.01) : \", math.ceil(10.01))#ceil(x)\n",
    "print (\"floor(10.55) : \", math.floor(10.55))#floor(x)\n",
    "print (\"cmp(10, 20) : \", cmp(10, 20)) # cmp(x)\n",
    "print (\"cmp(20, 10) : \", cmp(20, 10))\n",
    "print (\"cmp(10, 10) : \", cmp(10, 10))\n",
    "print (\"exp(-10) : \", math.exp(-10))#exp(x)\n",
    "print (\"exp(pi) : \", math.exp(math.pi))\n",
    "print (\"exp(e) : \", math.exp(math.e))\n",
    "print(math.pi,math.e) # Math constants\n",
    "print (\"log(math.e) : \", math.log(math.e))#log(x)\n",
    "print (\"log10(10) : \", math.log10(10))#log10(x)\n",
    "print (\"max(1,2,3) : \", max(1,2,3)) # max(x1,x2,..)\n",
    "print (\"min(1,2,3) : \", min(1,2,3)) # min(x1,x2,..)\n",
    "print (\"pow(2,3) : \", math.pow(2,3))#pow(x,y)\n",
    "print (\"sqrt(25) : \", math.sqrt(25)) # sqrt(x)\n",
    "print (\"math.modf(math.pi) : \",math.modf(math.pi))#modf(x), returns fractional and interger part of number"
   ]
  },
  {
   "cell_type": "code",
   "execution_count": 34,
   "metadata": {
    "colab": {
     "base_uri": "https://localhost:8080/"
    },
    "id": "wTjJNVqGOW8E",
    "outputId": "9d6ac170-2205-4201-ef89-4f47470cfee9"
   },
   "outputs": [
    {
     "name": "stdout",
     "output_type": "stream",
     "text": [
      "choice([1, 2, 3, 5, 9]) :  1\n",
      "randrange(100, 1000, 2) :  278\n",
      "random() :  0.5113283215200319\n",
      "Random Float uniform(5, 10) :  8.256329713878326\n",
      "Reshuffled list :  [20, 5, 16, 10]\n"
     ]
    }
   ],
   "source": [
    "# Random number functions\n",
    "\n",
    "import random\n",
    "\n",
    "print (\"choice([1, 2, 3, 5, 9]) : \", random.choice([1, 2, 3, 5, 9])) # print random choice from list, tuple or dict\n",
    "print (\"randrange(100, 1000, 2) : \", random.randrange(100, 1000, 2)) #returns a randomly selected element from range with step size\n",
    "print (\"random() : \", random.random())# returns random number between 0 and 1 of type float\n",
    "print (\"Random Float uniform(5, 10) : \",  random.uniform(5, 10)) # return random number between the range\n",
    "list = [20, 16, 10, 5];\n",
    "random.shuffle(list)\n",
    "print (\"Reshuffled list : \",  list)# used to shuffle the list randomly\n"
   ]
  },
  {
   "cell_type": "code",
   "execution_count": 88,
   "metadata": {
    "colab": {
     "base_uri": "https://localhost:8080/"
    },
    "id": "nU6Y1XM33235",
    "outputId": "25b80a8e-4912-42aa-b53e-eaa02504de9e"
   },
   "outputs": [
    {
     "name": "stdout",
     "output_type": "stream",
     "text": [
      "no\n"
     ]
    }
   ],
   "source": [
    "numb=6\n",
    "if numb>6:\n",
    "  print('yes')\n",
    "else:\n",
    "  print('no')\n"
   ]
  },
  {
   "cell_type": "code",
   "execution_count": 86,
   "metadata": {
    "colab": {
     "base_uri": "https://localhost:8080/"
    },
    "id": "vimObQ_XITg4",
    "outputId": "9bbefe9c-569d-4e94-f190-2cdb87f20593"
   },
   "outputs": [
    {
     "name": "stdout",
     "output_type": "stream",
     "text": [
      "Random number with seed 1 :  0.23604808973743452\n"
     ]
    }
   ],
   "source": [
    "random.seed( 4 )\n",
    "print (\"Random number with seed 1 : \", random.random()) # used for generating fixed random number, no matter now many time you run the code"
   ]
  },
  {
   "cell_type": "code",
   "execution_count": 92,
   "metadata": {
    "colab": {
     "base_uri": "https://localhost:8080/"
    },
    "id": "6r5xbiyyQZrp",
    "outputId": "67b3c6f5-4daa-403b-d921-0919f9676c07"
   },
   "outputs": [
    {
     "name": "stdout",
     "output_type": "stream",
     "text": [
      "cos(x) :  0.5403023058681398\n",
      "sin(x) :  0.8414709848078965\n",
      "tan(x) :  1.5574077246549023\n",
      "acos(x) :  0.0\n",
      "asin(x) :  1.5707963267948966\n",
      "atan(x) :  0.7853981633974483\n",
      "degrees(math.pi) :  90.0\n",
      "radians(math.pi) :  0.05483113556160755\n",
      "hypot(3, 2) :  3.605551275463989\n"
     ]
    }
   ],
   "source": [
    "# Trigonometric Functions\n",
    "print(\"cos(x) : \", math.cos(1))# cos(x) in radians\n",
    "print(\"sin(x) : \", math.sin(1))# sin(x) in radians\n",
    "print(\"tan(x) : \", math.tan(1))# tan(x) in radians\n",
    "print(\"acos(x) : \", math.acos(1))# acos(x) in radians\n",
    "print(\"asin(x) : \", math.asin(1))# asin(x) in radians\n",
    "print(\"atan(x) : \", math.atan(1))# atan(x) in radians\n",
    "\n",
    "print (\"degrees(math.pi) : \",  math.degrees(math.pi/2))#Converts angle from radians to degrees.\n",
    "print (\"radians(math.pi) : \",  math.radians(math.pi))#Converts angle from degrees to radians.\n",
    "\n",
    "print (\"hypot(3, 2) : \",  math.hypot(3, 2))# Return the Euclidean norm, sqrt(x*x + y*y)."
   ]
  },
  {
   "cell_type": "code",
   "execution_count": 37,
   "metadata": {
    "colab": {
     "base_uri": "https://localhost:8080/"
    },
    "id": "3-DNUo3pVvtd",
    "outputId": "acc9608d-b4d0-4a07-fe89-88f2dc18c938"
   },
   "outputs": [
    {
     "name": "stdout",
     "output_type": "stream",
     "text": [
      " Task -1 : Initialize the wight matrix for neural network with random values, \n",
      " but this weight matrix should be kept in memory for further use. \n",
      "The size of weight matrix is 2 x 2\n",
      "Task-2 : Find the index of a number in the list and print the number and index. Use for loop\n"
     ]
    }
   ],
   "source": [
    "para_str=''' Task -1 : Initialize the wight matrix for neural network with random values, \\n but this weight matrix should be kept in memory for further use. \n",
    "The size of weight matrix is 2 x 2'''\n",
    "print (para_str)\n",
    "para_str2='''Task-2 : Find the index of a number in the list and print the number and index. Use for loop'''\n",
    "print (para_str2)"
   ]
  },
  {
   "cell_type": "markdown",
   "metadata": {
    "id": "J96iaboK7nkw"
   },
   "source": [
    "## String"
   ]
  },
  {
   "cell_type": "code",
   "execution_count": 38,
   "metadata": {
    "colab": {
     "base_uri": "https://localhost:8080/"
    },
    "id": "ca722FUQAVJG",
    "outputId": "8cd124b1-af9a-45f7-f2a5-d0301b1c7e3b"
   },
   "outputs": [
    {
     "name": "stdout",
     "output_type": "stream",
     "text": [
      "b'Contains embedded \"double\" quotes'\n",
      "b\"Contains embedded 'single' quotes\"\n",
      "b'Contains embedded \"double\" and \\'single\\' quotes'\n",
      "b'Contains embedded \"double\" and \\'single\\' quotes'\n"
     ]
    }
   ],
   "source": [
    "print(b'Contains embedded \"double\" quotes')\n",
    "\n",
    "print(b\"Contains embedded 'single' quotes\")\n",
    "\n",
    "print(b'''Contains embedded \"double\" and 'single' quotes''')\n",
    "\n",
    "print(b\"\"\"Contains embedded \"double\" and 'single' quotes\"\"\")\n"
   ]
  },
  {
   "cell_type": "code",
   "execution_count": 39,
   "metadata": {
    "colab": {
     "base_uri": "https://localhost:8080/"
    },
    "id": "iubx67LwRvBr",
    "outputId": "abbb7a83-d394-4259-ccdf-b1b7a87f7a29"
   },
   "outputs": [
    {
     "name": "stdout",
     "output_type": "stream",
     "text": [
      "str.capitalize() :  Welcome to sit\n",
      "welcome to SIT\n"
     ]
    }
   ],
   "source": [
    "str = \"welcome to SIT\";\n",
    "print (\"str.capitalize() : \", str.capitalize()) #Capitalizes first letter of string\n",
    "print(str)\n"
   ]
  },
  {
   "cell_type": "code",
   "execution_count": 40,
   "metadata": {
    "colab": {
     "base_uri": "https://localhost:8080/"
    },
    "id": "UTZ4tUPVE9u2",
    "outputId": "cf6dc865-9161-42f9-f3db-162743639246"
   },
   "outputs": [
    {
     "name": "stdout",
     "output_type": "stream",
     "text": [
      "str.center(21, 'a') :  aaaawelcome to SITaaa\n"
     ]
    }
   ],
   "source": [
    "print (\"str.center(21, 'a') : \", str.center(21, 'a'))#Padding character to make a string of length 21"
   ]
  },
  {
   "cell_type": "code",
   "execution_count": 41,
   "metadata": {
    "colab": {
     "base_uri": "https://localhost:8080/"
    },
    "id": "DNkfG6Dx7ysu",
    "outputId": "b8e4ebd3-41fc-477e-a938-1018000570cf"
   },
   "outputs": [
    {
     "name": "stdout",
     "output_type": "stream",
     "text": [
      "str.count(sub, 4, len(str)) :  2\n",
      "str.count(sub) :  0\n"
     ]
    }
   ],
   "source": [
    "str = \"this is string example....wow!!!\";\n",
    "\n",
    "sub = \"i\";\n",
    "print (\"str.count(sub, 4, len(str)) : \", str.count(sub, 4, len(str)))\n",
    "sub = \"wow\";\n",
    "print (\"str.count(sub) : \", str.count(sub,28,len(str)))"
   ]
  },
  {
   "cell_type": "code",
   "execution_count": 42,
   "metadata": {
    "colab": {
     "base_uri": "https://localhost:8080/"
    },
    "id": "6GZlxVHmlQrl",
    "outputId": "6ac3f46c-3957-4986-fd3f-d352246e4b6c"
   },
   "outputs": [
    {
     "name": "stdout",
     "output_type": "stream",
     "text": [
      "2\n",
      "2\n",
      "5\n",
      "5\n",
      "-1\n"
     ]
    }
   ],
   "source": [
    "str1 = \"this is string example....wow!!!\";\n",
    "str2 = \"is\";\n",
    "str3=\"jay\"\n",
    "\n",
    "print (str1.find(str2))#returns the first index where the substring str is found\n",
    "print (str1.index(str2))\n",
    "print (str1.rindex(str2))#returns the last index where the substring str is found\n",
    "print (str1.rfind(str2))#returns the last index where the substring str is found\n",
    "print (str1.find(str3))\n",
    "#print (str1.index(str3))"
   ]
  },
  {
   "cell_type": "code",
   "execution_count": 43,
   "metadata": {
    "colab": {
     "base_uri": "https://localhost:8080/"
    },
    "id": "GCQLuv54l8cZ",
    "outputId": "ac1908d8-cb7c-4fc0-885f-b62957d1bd00"
   },
   "outputs": [
    {
     "name": "stdout",
     "output_type": "stream",
     "text": [
      "True\n",
      "False\n"
     ]
    }
   ],
   "source": [
    "suffix = \"wow!!!\";\n",
    "print (str1.endswith(suffix))\n",
    "print (str1.startswith( 'wow' ))"
   ]
  },
  {
   "cell_type": "code",
   "execution_count": 44,
   "metadata": {
    "colab": {
     "base_uri": "https://localhost:8080/"
    },
    "id": "BpIQSvVLoUQO",
    "outputId": "3ff8b190-5a0a-4c2f-97e6-446e913b2f99"
   },
   "outputs": [
    {
     "name": "stdout",
     "output_type": "stream",
     "text": [
      "True\n",
      "False\n",
      "True\n",
      "False\n"
     ]
    }
   ],
   "source": [
    "str = \"this2009\";  # No space in this string\n",
    "print (str.isalnum()) #checks whether the string consists of alphanumeric characters\n",
    "print (str.isalpha()) #checks whether the string consists of alphabetic characters only\n",
    "\n",
    "str = \"thisisstringexamplewow9\";\n",
    "print (str.isalnum())\n",
    "print (str.isalpha())"
   ]
  },
  {
   "cell_type": "code",
   "execution_count": 45,
   "metadata": {
    "colab": {
     "base_uri": "https://localhost:8080/"
    },
    "id": "Itk2a_UTnytg",
    "outputId": "2a70a376-e9db-49b9-94e7-3116968de11c"
   },
   "outputs": [
    {
     "name": "stdout",
     "output_type": "stream",
     "text": [
      "True\n",
      "False\n"
     ]
    }
   ],
   "source": [
    "str = \"123456\";  # Only digit in this string\n",
    "print (str.isdigit()) #checks whether the string consists of digits only\n",
    "\n",
    "str = \"this is string example....wow!!!\";\n",
    "print (str.isdigit())"
   ]
  },
  {
   "cell_type": "code",
   "execution_count": 46,
   "metadata": {
    "colab": {
     "base_uri": "https://localhost:8080/"
    },
    "id": "Wjul1yTjpK5h",
    "outputId": "faabffc8-84e1-492c-d558-c7d5f3ce56c5"
   },
   "outputs": [
    {
     "name": "stdout",
     "output_type": "stream",
     "text": [
      "False\n",
      "False\n",
      "True\n",
      "True\n",
      "True\n"
     ]
    }
   ],
   "source": [
    "str = \"THIS is string example....wow!!!\"; \n",
    "str1=\"   \"\n",
    "print (str.islower()) #checks whether all the case-based characters (letters) of the string are lowercase\n",
    "print (str.isupper()) #checks whether all the case-based characters (letters) of the string are uppercase.\n",
    "print (str1.isspace()) # checks whether the string consists of whitespace.\n",
    "str = \"this is string example....wow!!!\";\n",
    "str2=\"SIT\"\n",
    "print (str.islower())\n",
    "print (str2.isupper())"
   ]
  },
  {
   "cell_type": "code",
   "execution_count": 47,
   "metadata": {
    "colab": {
     "base_uri": "https://localhost:8080/"
    },
    "id": "PMdLSGO1paJZ",
    "outputId": "bbe09d50-9ff8-4f15-c09d-25b447aea5af"
   },
   "outputs": [
    {
     "name": "stdout",
     "output_type": "stream",
     "text": [
      "True\n",
      "False\n"
     ]
    }
   ],
   "source": [
    "str = \"This Is String Example...Wow!!!\"; #Checks whether each letter is uppercase\n",
    "print (str.istitle())\n",
    "\n",
    "str = \"This is string example....wow!!!\";\n",
    "print (str.istitle())"
   ]
  },
  {
   "cell_type": "code",
   "execution_count": 48,
   "metadata": {
    "colab": {
     "base_uri": "https://localhost:8080/"
    },
    "id": "h66l-2j7qxGC",
    "outputId": "c0f65bba-6b9f-4bbf-96e1-57dd39b9f0a2"
   },
   "outputs": [
    {
     "name": "stdout",
     "output_type": "stream",
     "text": [
      "a-b-c\n"
     ]
    }
   ],
   "source": [
    "s = \"-\";\n",
    "seq = (\"a\", \"b\", \"c\"); # This is sequence of strings.\n",
    "print (s.join( seq )) #returns a string in which the string elements of sequence have been joined by str separator.\n",
    "\n",
    "#list('jynt')\n",
    "#'a'.join('jynt')\n",
    "\n"
   ]
  },
  {
   "cell_type": "code",
   "execution_count": 49,
   "metadata": {
    "colab": {
     "base_uri": "https://localhost:8080/"
    },
    "id": "vqQ6wdOb_FwN",
    "outputId": "c80f998b-35e2-4bfb-97ac-df51dfa16548"
   },
   "outputs": [
    {
     "name": "stdout",
     "output_type": "stream",
     "text": [
      "('SIT', '.', 'E&TC.PUNE')\n",
      "('SIT.E&TC', '.', 'PUNE')\n",
      "('SIT.E&TC', '', '')\n"
     ]
    }
   ],
   "source": [
    "print('SIT.E&TC.PUNE'.partition('.'))\n",
    "print('SIT.E&TC.PUNE'.rpartition('.'))\n",
    "print('SIT.E&TC'.partition('@'))"
   ]
  },
  {
   "cell_type": "code",
   "execution_count": 50,
   "metadata": {
    "colab": {
     "base_uri": "https://localhost:8080/"
    },
    "id": "F2iuKVbSrF4H",
    "outputId": "5bd0437e-ba77-4e05-a44a-c26672a48e23"
   },
   "outputs": [
    {
     "name": "stdout",
     "output_type": "stream",
     "text": [
      "Length of the string:  32\n"
     ]
    }
   ],
   "source": [
    "str = \"this is string example....wow!!!\";\n",
    "print (\"Length of the string: \", len(str)) #returns the length of the string"
   ]
  },
  {
   "cell_type": "code",
   "execution_count": 51,
   "metadata": {
    "colab": {
     "base_uri": "https://localhost:8080/"
    },
    "id": "_rXaSbDIrN9c",
    "outputId": "d3c76900-0758-40d5-d43e-7924c0ad19a1"
   },
   "outputs": [
    {
     "name": "stdout",
     "output_type": "stream",
     "text": [
      "this is string example....wow!!!JJJJJJJJ\n",
      "JJJJJJJJthis is string example....wow!!!\n"
     ]
    }
   ],
   "source": [
    "str = \"this is string example....wow!!!\";\n",
    "print (str.ljust(40, 'J'))# left jusified text\n",
    "print (str.rjust(40, 'J'))# right jusified text"
   ]
  },
  {
   "cell_type": "code",
   "execution_count": 52,
   "metadata": {
    "colab": {
     "base_uri": "https://localhost:8080/"
    },
    "id": "CvX3nC-Crf3e",
    "outputId": "99fdf1f6-8edf-4f94-9796-2ce079a51dbc"
   },
   "outputs": [
    {
     "name": "stdout",
     "output_type": "stream",
     "text": [
      "this is string example....wow!!!\n",
      "THIS IS STRING EXAMPLE....WOW!!!\n"
     ]
    }
   ],
   "source": [
    "str = \"THIS IS STRING EXAMPLE....WOW!!!\";\n",
    "print (str.lower())#returns lower case string\n",
    "str = \"this is string example....wow!!!\";\n",
    "print (str.upper())"
   ]
  },
  {
   "cell_type": "code",
   "execution_count": 53,
   "metadata": {
    "colab": {
     "base_uri": "https://localhost:8080/"
    },
    "id": "xID0ArUXsSBm",
    "outputId": "a7d31812-240c-4c3d-9e5d-ed7652d49369"
   },
   "outputs": [
    {
     "name": "stdout",
     "output_type": "stream",
     "text": [
      "this is string example....wow!!!     \n",
      "     this is string example....wow!!!\n",
      "this is string example....wow!!!8888888\n",
      "88888888this is string example....wow!!!\n",
      "this is string example....wow!!!\n"
     ]
    }
   ],
   "source": [
    "str = \"     this is string example....wow!!!     \";\n",
    "print (str.lstrip()) #remove white spaces from left\n",
    "print (str.rstrip()) #remove white spaces from right\n",
    "str = \"88888888this is string example....wow!!!8888888\";\n",
    "print (str.lstrip('8')) # remove '8' from left\n",
    "print (str.rstrip('8')) # remove '8' from right\n",
    "print (str.strip('8'))"
   ]
  },
  {
   "cell_type": "code",
   "execution_count": 54,
   "metadata": {
    "colab": {
     "base_uri": "https://localhost:8080/"
    },
    "id": "rrl2YihvtPLo",
    "outputId": "dbdc3b8d-9720-43e7-aa67-8a541219a180"
   },
   "outputs": [
    {
     "name": "stdout",
     "output_type": "stream",
     "text": [
      "Max character: y\n",
      "Min character:  \n",
      "Max character: x\n",
      "Min character:  \n"
     ]
    }
   ],
   "source": [
    "str = \"this is really a string example....wow!!!\";\n",
    "print (\"Max character: \" + max(str))# returns the max alphabetical character from the string str.\n",
    "print (\"Min character: \" + min(str))#returns the min alphabetical character from the string str.\n",
    "str = \"this is a string example....wow!!!\";\n",
    "print (\"Max character: \" + max(str))\n",
    "print (\"Min character: \" + min(str))"
   ]
  },
  {
   "cell_type": "code",
   "execution_count": 55,
   "metadata": {
    "colab": {
     "base_uri": "https://localhost:8080/"
    },
    "id": "sEaU9RvDuKf4",
    "outputId": "e9d9fb85-44a5-4d55-fe5b-b8e77dcbd57b"
   },
   "outputs": [
    {
     "name": "stdout",
     "output_type": "stream",
     "text": [
      "Min character: !\n",
      "Min character: !\n"
     ]
    }
   ],
   "source": [
    "str = \"this-is-real-string-example....wow!!!\";\n",
    "print (\"Min character: \" + min(str))\n",
    "\n",
    "str = \"this-is-a-string-example....wow!!!\";\n",
    "print (\"Min character: \" + min(str))"
   ]
  },
  {
   "cell_type": "code",
   "execution_count": 56,
   "metadata": {
    "colab": {
     "base_uri": "https://localhost:8080/"
    },
    "id": "1-eM_mGo454h",
    "outputId": "0478c4f4-9c51-488a-c3d8-7bae5cc50382"
   },
   "outputs": [
    {
     "name": "stdout",
     "output_type": "stream",
     "text": [
      "This is E&TC\n"
     ]
    }
   ],
   "source": [
    "str = \"This is SIT\"\n",
    "print (str.replace(\"SIT\", \"E&TC\"))"
   ]
  },
  {
   "cell_type": "code",
   "execution_count": 57,
   "metadata": {
    "colab": {
     "base_uri": "https://localhost:8080/"
    },
    "id": "Sc2K2H8T7QJk",
    "outputId": "47eecf0d-b2ce-42f6-d9bb-d568269190bd"
   },
   "outputs": [
    {
     "name": "stdout",
     "output_type": "stream",
     "text": [
      "['I', 'am', 'in', 'Pune', 'Where', 'are', 'you']\n",
      "['I', 'am', 'in', 'Pune', 'Where', 'are', 'you']\n",
      "['I am in', 'Pune ', 'Where are you']\n"
     ]
    }
   ],
   "source": [
    "str='I am in\\nPune \\nWhere are you'\n",
    "print (str.split())\n",
    "print (str.rsplit())\n",
    "print (str.splitlines())"
   ]
  },
  {
   "cell_type": "code",
   "execution_count": 58,
   "metadata": {
    "colab": {
     "base_uri": "https://localhost:8080/"
    },
    "id": "uxTEUHo48kvX",
    "outputId": "92fda1c6-60d2-4a41-93dd-b95bacf2575e"
   },
   "outputs": [
    {
     "name": "stdout",
     "output_type": "stream",
     "text": [
      "THIS IS STRING EXAMPLE....WOW!!!\n",
      "this is string example....wow!!!\n"
     ]
    }
   ],
   "source": [
    "str = \"this is string example....wow!!!\";\n",
    "print (str.swapcase())\n",
    "\n",
    "str = \"THIS IS STRING EXAMPLE....WOW!!!\";\n",
    "print (str.swapcase())"
   ]
  },
  {
   "cell_type": "code",
   "execution_count": 59,
   "metadata": {
    "colab": {
     "base_uri": "https://localhost:8080/"
    },
    "id": "nKxVQBTz84bl",
    "outputId": "fd4c52b3-a0e2-4451-9142-5112d2bfa9fe"
   },
   "outputs": [
    {
     "name": "stdout",
     "output_type": "stream",
     "text": [
      "This Is String Example....Wow!!!\n"
     ]
    }
   ],
   "source": [
    "str = \"this is string example....wow!!!\";\n",
    "print (str.title())"
   ]
  },
  {
   "cell_type": "code",
   "execution_count": 60,
   "metadata": {
    "colab": {
     "base_uri": "https://localhost:8080/"
    },
    "id": "JOU8Ec7L9ctp",
    "outputId": "8110e63b-d069-4531-e18b-5d8c07878f03"
   },
   "outputs": [
    {
     "name": "stdout",
     "output_type": "stream",
     "text": [
      "00000000this is string example....wow!!!\n"
     ]
    }
   ],
   "source": [
    "str = \"this is string example....wow!!!\";\n",
    "print (str.zfill(40))# zero padding to left till len(str) matches"
   ]
  },
  {
   "cell_type": "code",
   "execution_count": 61,
   "metadata": {
    "colab": {
     "base_uri": "https://localhost:8080/"
    },
    "id": "kuuWPiP4948o",
    "outputId": "03afbe7c-839b-4cf9-9443-4e9c89828d41"
   },
   "outputs": [
    {
     "name": "stdout",
     "output_type": "stream",
     "text": [
      "False\n",
      "True\n"
     ]
    }
   ],
   "source": [
    "str = u\"this2009\";  # u indicates unicode\n",
    "print (str.isdecimal());\n",
    "\n",
    "str = u\"23443434\";\n",
    "print (str.isdecimal());"
   ]
  },
  {
   "cell_type": "code",
   "execution_count": 62,
   "metadata": {
    "colab": {
     "base_uri": "https://localhost:8080/"
    },
    "id": "7ootpWTquYaf",
    "outputId": "c7149dca-f5eb-4349-bc72-c50fe64db768"
   },
   "outputs": [
    {
     "name": "stdout",
     "output_type": "stream",
     "text": [
      "0 : \u0000\n",
      "1 : \u0001\n",
      "2 : \u0002\n",
      "3 : \u0003\n",
      "4 : \u0004\n",
      "5 : \u0005\n",
      "6 : \u0006\n",
      "7 : \u0007\n",
      "8 : \b\n",
      "9 : \t\n",
      "10 : \n",
      "\n",
      "11 : \u000b",
      "\n",
      "12 : \f",
      "\n",
      "13 : \r\n",
      "14 : \u000e\n",
      "15 : \u000f\n",
      "16 : \u0010\n",
      "17 : \u0011\n",
      "18 : \u0012\n",
      "19 : \u0013\n",
      "20 : \u0014\n",
      "21 : \u0015\n",
      "22 : \u0016\n",
      "23 : \u0017\n",
      "24 : \u0018\n",
      "25 : \u0019\n",
      "26 : \u001a\n",
      "27 : \u001b\n",
      "28 : \u001c",
      "\n",
      "29 : \u001d",
      "\n",
      "30 : \u001e",
      "\n",
      "31 : \u001f\n",
      "32 :  \n",
      "33 : !\n",
      "34 : \"\n",
      "35 : #\n",
      "36 : $\n",
      "37 : %\n",
      "38 : &\n",
      "39 : '\n",
      "40 : (\n",
      "41 : )\n",
      "42 : *\n",
      "43 : +\n",
      "44 : ,\n",
      "45 : -\n",
      "46 : .\n",
      "47 : /\n",
      "48 : 0\n",
      "49 : 1\n",
      "50 : 2\n",
      "51 : 3\n",
      "52 : 4\n",
      "53 : 5\n",
      "54 : 6\n",
      "55 : 7\n",
      "56 : 8\n",
      "57 : 9\n",
      "58 : :\n",
      "59 : ;\n",
      "60 : <\n",
      "61 : =\n",
      "62 : >\n",
      "63 : ?\n",
      "64 : @\n",
      "65 : A\n",
      "66 : B\n",
      "67 : C\n",
      "68 : D\n",
      "69 : E\n",
      "70 : F\n",
      "71 : G\n",
      "72 : H\n",
      "73 : I\n",
      "74 : J\n",
      "75 : K\n",
      "76 : L\n",
      "77 : M\n",
      "78 : N\n",
      "79 : O\n",
      "80 : P\n",
      "81 : Q\n",
      "82 : R\n",
      "83 : S\n",
      "84 : T\n",
      "85 : U\n",
      "86 : V\n",
      "87 : W\n",
      "88 : X\n",
      "89 : Y\n",
      "90 : Z\n",
      "91 : [\n",
      "92 : \\\n",
      "93 : ]\n",
      "94 : ^\n",
      "95 : _\n",
      "96 : `\n",
      "97 : a\n",
      "98 : b\n",
      "99 : c\n",
      "100 : d\n",
      "101 : e\n",
      "102 : f\n",
      "103 : g\n",
      "104 : h\n",
      "105 : i\n",
      "106 : j\n",
      "107 : k\n",
      "108 : l\n",
      "109 : m\n",
      "110 : n\n",
      "111 : o\n",
      "112 : p\n",
      "113 : q\n",
      "114 : r\n",
      "115 : s\n",
      "116 : t\n",
      "117 : u\n",
      "118 : v\n",
      "119 : w\n",
      "120 : x\n",
      "121 : y\n",
      "122 : z\n",
      "123 : {\n",
      "124 : |\n",
      "125 : }\n",
      "126 : ~\n"
     ]
    }
   ],
   "source": [
    "for i in range(127):   #American Standard Code for Information Interchange(ASCII)\n",
    "  print(i,\":\",chr(i))"
   ]
  },
  {
   "cell_type": "code",
   "execution_count": 63,
   "metadata": {
    "colab": {
     "base_uri": "https://localhost:8080/"
    },
    "id": "mJDuvGyGwKQF",
    "outputId": "7989fef6-21cb-45eb-945b-ed1b3b703429"
   },
   "outputs": [
    {
     "name": "stdout",
     "output_type": "stream",
     "text": [
      "65\n",
      "66\n",
      "99\n",
      "100\n",
      "49\n",
      "50\n"
     ]
    }
   ],
   "source": [
    "str='ABcd12'\n",
    "for i in range(len(str)):\n",
    "  print(ord(str[i]))"
   ]
  },
  {
   "cell_type": "code",
   "execution_count": 64,
   "metadata": {
    "colab": {
     "base_uri": "https://localhost:8080/"
    },
    "id": "CpUZqVZwybsq",
    "outputId": "82fab160-b17c-4e2e-8f68-b0861cab93ee"
   },
   "outputs": [
    {
     "name": "stdout",
     "output_type": "stream",
     "text": [
      "Ac1\n",
      "Ad\n",
      "d2\n",
      "2dB\n",
      "Ad\n"
     ]
    }
   ],
   "source": [
    "print(str[0:len(str):2])# stride in string\n",
    "print(str[::3])\n",
    "print(str[3::2])\n",
    "print(str[::-2])\n",
    "print(str[::3])"
   ]
  },
  {
   "cell_type": "code",
   "execution_count": 65,
   "metadata": {
    "colab": {
     "base_uri": "https://localhost:8080/"
    },
    "id": "Z5C20yFcz56D",
    "outputId": "2d788a2a-b290-4e9f-abf1-f1a63cc64bfb"
   },
   "outputs": [
    {
     "name": "stdout",
     "output_type": "stream",
     "text": [
      "The product of 2 and 25 is 50\n",
      "The product of 2 and 25 is 50\n"
     ]
    }
   ],
   "source": [
    "n = 2\n",
    "m = 25\n",
    "prod = n * m\n",
    "print('The product of', n, 'and', m, 'is', prod)\n",
    "print(f'The product of {n} and {m} is {prod}')#f-string"
   ]
  },
  {
   "cell_type": "code",
   "execution_count": 65,
   "metadata": {
    "id": "Ev4byvLIRfcv"
   },
   "outputs": [],
   "source": []
  },
  {
   "cell_type": "markdown",
   "metadata": {
    "id": "96cATcG77quu"
   },
   "source": []
  },
  {
   "cell_type": "markdown",
   "metadata": {
    "id": "v2zZO1WBw1Pi"
   },
   "source": [
    "##List"
   ]
  },
  {
   "cell_type": "code",
   "execution_count": 66,
   "metadata": {
    "colab": {
     "base_uri": "https://localhost:8080/"
    },
    "id": "UUPmyvOa6j57",
    "outputId": "c6321ae0-b0fe-485c-ced4-efa8231dff0e"
   },
   "outputs": [
    {
     "name": "stdout",
     "output_type": "stream",
     "text": [
      "list1[0]:  physics\n",
      "list2[1:5]:  [2, 3, 4, 5]\n"
     ]
    }
   ],
   "source": [
    "list1 = ['physics', 'chemistry', 1997, 2000];\n",
    "list2 = [1, 2, 3, 4, 5, 6, 7 ];\n",
    "print (\"list1[0]: \", list1[0])\n",
    "print (\"list2[1:5]: \", list2[1:5])"
   ]
  },
  {
   "cell_type": "code",
   "execution_count": 67,
   "metadata": {
    "colab": {
     "base_uri": "https://localhost:8080/"
    },
    "id": "Xgo1jLPa6ub5",
    "outputId": "566b03b2-1386-446c-a870-e064883ca34a"
   },
   "outputs": [
    {
     "name": "stdout",
     "output_type": "stream",
     "text": [
      "New value available at index 2 : \n",
      "2001\n",
      "New List [1, 2, 2001, 4, 5, 6, 7]\n"
     ]
    }
   ],
   "source": [
    "list2[2] = 2001;\n",
    "print (\"New value available at index 2 : \")\n",
    "print (list2[2])\n",
    "print(\"New List\", list2)"
   ]
  },
  {
   "cell_type": "code",
   "execution_count": 68,
   "metadata": {
    "colab": {
     "base_uri": "https://localhost:8080/"
    },
    "id": "o5rDeXfT7r6b",
    "outputId": "3093a3d0-f3fd-4a32-86cf-b258709be081"
   },
   "outputs": [
    {
     "name": "stdout",
     "output_type": "stream",
     "text": [
      "First list length :  3\n",
      "Second list length :  2\n"
     ]
    }
   ],
   "source": [
    "list1, list2 = [123, 'xyz', 'zara'], [456, 'abc']\n",
    "print (\"First list length : \", len(list1))# lenght of the string\n",
    "print (\"Second list length : \", len(list2))\n"
   ]
  },
  {
   "cell_type": "code",
   "execution_count": 69,
   "metadata": {
    "colab": {
     "base_uri": "https://localhost:8080/"
    },
    "id": "90QmKuGzw_Q1",
    "outputId": "36bf1bf7-dfe7-4d5e-9462-24433b5090f3"
   },
   "outputs": [
    {
     "name": "stdout",
     "output_type": "stream",
     "text": [
      "Max value element :  xyz\n",
      "Max value element :  700\n",
      "Min value element :  abc\n",
      "Min value element :  200\n"
     ]
    }
   ],
   "source": [
    "list3, list4 = ['xyz', 'jay', 'abc'], [456, 700, 200]\n",
    "print (\"Max value element : \", max(list3))\n",
    "print (\"Max value element : \", max(list4))\n",
    "print (\"Min value element : \", min(list3))\n",
    "print (\"Min value element : \", min(list4))\n",
    "#list5=[\"xyz\",123]\n",
    "#print(max(list5))"
   ]
  },
  {
   "cell_type": "code",
   "execution_count": 70,
   "metadata": {
    "colab": {
     "base_uri": "https://localhost:8080/",
     "height": 197
    },
    "id": "npiOK8ZHz1GU",
    "outputId": "439e7e4a-a2dc-4f6c-d9c8-6c2c122c9f22"
   },
   "outputs": [
    {
     "ename": "TypeError",
     "evalue": "ignored",
     "output_type": "error",
     "traceback": [
      "\u001b[0;31m---------------------------------------------------------------------------\u001b[0m",
      "\u001b[0;31mTypeError\u001b[0m                                 Traceback (most recent call last)",
      "\u001b[0;32m<ipython-input-70-52f3dca8ad3f>\u001b[0m in \u001b[0;36m<module>\u001b[0;34m()\u001b[0m\n\u001b[1;32m      1\u001b[0m \u001b[0maTuple\u001b[0m \u001b[0;34m=\u001b[0m \u001b[0;34m(\u001b[0m\u001b[0;36m123\u001b[0m\u001b[0;34m,\u001b[0m \u001b[0;34m'xyz'\u001b[0m\u001b[0;34m,\u001b[0m \u001b[0;34m'jay'\u001b[0m\u001b[0;34m,\u001b[0m \u001b[0;34m'abc'\u001b[0m\u001b[0;34m)\u001b[0m\u001b[0;34m;\u001b[0m\u001b[0;34m\u001b[0m\u001b[0;34m\u001b[0m\u001b[0m\n\u001b[0;32m----> 2\u001b[0;31m \u001b[0maList\u001b[0m \u001b[0;34m=\u001b[0m \u001b[0mlist\u001b[0m\u001b[0;34m(\u001b[0m\u001b[0maTuple\u001b[0m\u001b[0;34m)\u001b[0m\u001b[0;31m# Convert tuple to list\u001b[0m\u001b[0;34m\u001b[0m\u001b[0;34m\u001b[0m\u001b[0m\n\u001b[0m\u001b[1;32m      3\u001b[0m \u001b[0mprint\u001b[0m \u001b[0;34m(\u001b[0m\u001b[0;34m\"List elements : \"\u001b[0m\u001b[0;34m,\u001b[0m \u001b[0maList\u001b[0m\u001b[0;34m)\u001b[0m\u001b[0;34m\u001b[0m\u001b[0;34m\u001b[0m\u001b[0m\n",
      "\u001b[0;31mTypeError\u001b[0m: 'list' object is not callable"
     ]
    }
   ],
   "source": [
    "aTuple = (123, 'xyz', 'jay', 'abc');\n",
    "aList = list(aTuple)# Convert tuple to list\n",
    "print (\"List elements : \", aList)"
   ]
  },
  {
   "cell_type": "code",
   "execution_count": null,
   "metadata": {
    "id": "jp-0VYVU0zbh"
   },
   "outputs": [],
   "source": [
    "aList = [123, 'xyz', 'jay', 'abc'];\n",
    "aList.append( 2009 );\n",
    "print (\"Updated List : \", aList)"
   ]
  },
  {
   "cell_type": "code",
   "execution_count": null,
   "metadata": {
    "id": "Ux6VCcfy1DZs"
   },
   "outputs": [],
   "source": [
    "aList = [123, 'xyz', 'jay', 'abc', 123];\n",
    "print (\"Count for 123 : \", aList.count(123)) # returns how many times the substring appread in the list\n",
    "print (\"Count for jay : \", aList.count('jay'))\n",
    "print (\"Count for jay : \", aList.count('jayant'))"
   ]
  },
  {
   "cell_type": "code",
   "execution_count": null,
   "metadata": {
    "id": "WneCpp9f1YB1"
   },
   "outputs": [],
   "source": [
    "aList = [123, 'xyz', 'jay', 'abc', 123];\n",
    "bList = [2009, 'sit'];\n",
    "aList.extend(bList)\n",
    "print (\"Extended List : \", aList) \n",
    "cList=aList+bList\n",
    "print(cList)\n",
    "aList.append( bList );\n",
    "print(bList)\n",
    "print(aList)"
   ]
  },
  {
   "cell_type": "code",
   "execution_count": null,
   "metadata": {
    "id": "_n_ovv9p1pZw"
   },
   "outputs": [],
   "source": [
    "print (\"Index for xyz : \", aList.index( 'xyz' ) )\n",
    "print (\"Index for jay : \", aList.index( 'jay' ) )"
   ]
  },
  {
   "cell_type": "code",
   "execution_count": null,
   "metadata": {
    "id": "sqcej6Lb2h3e"
   },
   "outputs": [],
   "source": [
    "list1 = ['physics', 'chemistry', 1997, 2000];\n",
    "print (list1)\n",
    "del list1[-1];\n",
    "print (\"After deleting value at index 2 : \")\n",
    "print (list1)"
   ]
  },
  {
   "cell_type": "code",
   "execution_count": null,
   "metadata": {
    "id": "FRe8zQMQ255D"
   },
   "outputs": [],
   "source": [
    "aList = [123, 'xyz', 'jay', 'abc']\n",
    "aList.insert( 3, 2009)\n",
    "print (\"Final List : \", aList)"
   ]
  },
  {
   "cell_type": "code",
   "execution_count": null,
   "metadata": {
    "id": "RYV09pil3Iqo"
   },
   "outputs": [],
   "source": [
    "aList = [123, 'xyz', 'jay', 'abc'];\n",
    "print (\"A List : \", aList.pop())# removes last object from the list and return the object\n",
    "print(aList)\n",
    "print (\"B List : \", aList.pop(2))\n",
    "print(aList)"
   ]
  },
  {
   "cell_type": "code",
   "execution_count": null,
   "metadata": {
    "id": "tkiXNf9T3fT6"
   },
   "outputs": [],
   "source": [
    "aList = [123, 'xyz', 'jay', 'abc', 'xyz'];\n",
    "aList.remove('xyz');# search and remove the first match\n",
    "print (\"List : \", aList)\n",
    "aList.remove('abc');# works like del in this case\n",
    "print (\"List : \", aList)"
   ]
  },
  {
   "cell_type": "code",
   "execution_count": null,
   "metadata": {
    "id": "oAuBZfMm376r"
   },
   "outputs": [],
   "source": [
    "aList = [123, 'xyz', 'zara', 'abc', 'xyz'];\n",
    "aList.reverse();\n",
    "print (\"List : \", aList)"
   ]
  },
  {
   "cell_type": "code",
   "execution_count": null,
   "metadata": {
    "id": "Y6RafsB-4ICa"
   },
   "outputs": [],
   "source": [
    "aList = ['xyz', 'zebra', 'abc', 'edf'];\n",
    "blist=[1,3,2]\n",
    "aList.sort();\n",
    "print (\"List : \", aList)\n",
    "blist.sort();\n",
    "print (\"List : \", blist)"
   ]
  },
  {
   "cell_type": "code",
   "execution_count": null,
   "metadata": {
    "id": "lQFHQaQQ4ROd"
   },
   "outputs": [],
   "source": [
    "a = [1, 2, 3, 0]\n",
    "print(any(a)) #returns True if any element of an iterable is True\n",
    "a = []\n",
    "print(any(a))\n",
    "a = [0, False]# both are false\n",
    "print(any(a))\n",
    "a = [False, True]\n",
    "print(\"new:\",any(a))\n",
    "a = [0, False, 10]\n",
    "print(any(a))"
   ]
  },
  {
   "cell_type": "code",
   "execution_count": null,
   "metadata": {
    "id": "oHlwSNBH4167"
   },
   "outputs": [],
   "source": [
    "print('''my_List=[10,20,30,40,10,20,50,70,80]\n",
    "Find unique elements from the given list and print the new list''')"
   ]
  },
  {
   "cell_type": "code",
   "execution_count": null,
   "metadata": {
    "id": "52qSYqU3CxxD"
   },
   "outputs": [],
   "source": [
    "my_List=[10,20,30,40,10,20,50,70,80]\n",
    "set(my_List)# one solution"
   ]
  },
  {
   "cell_type": "code",
   "execution_count": null,
   "metadata": {
    "id": "ikYhdLr9DcfU"
   },
   "outputs": [],
   "source": [
    "mylist = [10,20,30,40,10,20,50,70,80]\n",
    "uniquelist = list()\n",
    " \n",
    "for x in mylist:\n",
    " if x not in uniquelist:\n",
    "   uniquelist.append(x)\n",
    " \n",
    "print(uniquelist)  # second solution"
   ]
  },
  {
   "cell_type": "code",
   "execution_count": null,
   "metadata": {
    "id": "YIzR4PwOEgqk"
   },
   "outputs": [],
   "source": [
    "new_list = []\n",
    "for i in my_list:\n",
    "    if i not in new_list:\n",
    "        new_list.append(i)"
   ]
  },
  {
   "cell_type": "code",
   "execution_count": null,
   "metadata": {
    "id": "cSJj9cs1EOOJ"
   },
   "outputs": [],
   "source": [
    "Lst=list()\n",
    "\n",
    "For number in list:\n",
    "\n",
    "        if number not in lst:\n",
    "\n",
    "             lst.append()"
   ]
  },
  {
   "cell_type": "markdown",
   "metadata": {
    "id": "rtNLASZnGwWe"
   },
   "source": [
    "##Tuples"
   ]
  },
  {
   "cell_type": "code",
   "execution_count": null,
   "metadata": {
    "id": "zSzvveJ1JJGP"
   },
   "outputs": [],
   "source": [
    "tup1 = ('physics', 'chemistry', 1997, 2000);\n",
    "tup2 = (1, 2, 3, 4, 5 );\n",
    "tup3 = \"a\", \"b\", \"c\", \"d\";\n",
    "tup4 = (); # empty tuple\n",
    "tup5=(50)\n",
    "tup6 = (50,);# tuple with single value, still need to write quama after single value\n",
    "print(tup1,tup2,\"\\n\",tup3,\"\\n\",tup4,\"\\n\",tup5,tup6)\n",
    "print(type(tup5))\n",
    "print(type(tup6))"
   ]
  },
  {
   "cell_type": "code",
   "execution_count": null,
   "metadata": {
    "id": "jGSAEnpHJo6d"
   },
   "outputs": [],
   "source": [
    "tup1 = ('physics', 'chemistry', 1997, 2000);\n",
    "tup2 = (1, 2, 3, 4, 5, 6, 7 );\n",
    "print (\"tup1[0]: \", tup1[0])\n",
    "print (\"tup2[1:5]: \", tup2[1:5])"
   ]
  },
  {
   "cell_type": "code",
   "execution_count": null,
   "metadata": {
    "id": "D_9S7zbSKOGR"
   },
   "outputs": [],
   "source": [
    "tup1 = (12, 34.56);\n",
    "tup2 = ('abc', 'xyz');\n",
    "#tup1[0] = 100; # not valid for tuples\n",
    "tup3 = tup1 + tup2;\n",
    "print (tup3);"
   ]
  },
  {
   "cell_type": "code",
   "execution_count": null,
   "metadata": {
    "id": "IVQeIyMZKgXy"
   },
   "outputs": [],
   "source": [
    "tup = ('physics', 'chemistry', 1997, 2000);\n",
    "print (tup);\n",
    "del tup;\n",
    "#print (\"After deleting tup : \")\n",
    "#print (tup)"
   ]
  },
  {
   "cell_type": "code",
   "execution_count": null,
   "metadata": {
    "id": "mqrllckAKs7P"
   },
   "outputs": [],
   "source": [
    "print(len((1, 2, 3)))\n",
    "print((1, 2, 3) + (4, 5, 6))\n",
    "print(('SIT..',) * 4)\n",
    "print(3 in (1, 2, 3))\n",
    "for x in (1, 2, 3): print (x),"
   ]
  },
  {
   "cell_type": "code",
   "execution_count": null,
   "metadata": {
    "id": "ce2b_rfULKjE"
   },
   "outputs": [],
   "source": [
    "tup1 = ('physics', 'chemistry');\n",
    "tup2 = (1, 2, 3, 4, 5 );\n",
    "print(max(tup1))\n",
    "print(min(tup2))"
   ]
  },
  {
   "cell_type": "code",
   "execution_count": null,
   "metadata": {
    "id": "7KBWm6XQOBuZ"
   },
   "outputs": [],
   "source": [
    "aList = [123, 'xyz', 'zara', 'abc']\n",
    "aTuple = tuple(aList)\n",
    "print (\"Tuple elements : \", aTuple)\n",
    "Tup=()\n",
    "#Tup = (50)\n",
    "any(Tup)"
   ]
  },
  {
   "cell_type": "code",
   "execution_count": null,
   "metadata": {
    "id": "vrPIl48aWW9_"
   },
   "outputs": [],
   "source": [
    "from collections import namedtuple #collections are specialized container datatypes\n",
    "Person = namedtuple('Person', 'first_name last_name zip_code') # special tuple used for accessing without index\n",
    "p1 = Person('Jayant', 'Jagtap', '411046')\n",
    "p2 = Person('Shilpa', 'Hudnurkar', '411042')\n",
    "p3 = Person('Parag', 'Narkhede', '411043')\n",
    "\n",
    "people = [p1, p2, p3]\n",
    "\n",
    "for person in people:print(person.first_name, person.last_name)\n",
    "print(\"************\")\n",
    "for person in people:print(person[0], person[2])\n"
   ]
  },
  {
   "cell_type": "markdown",
   "metadata": {
    "id": "q_wTwVQIOhjR"
   },
   "source": [
    "##Dictionary"
   ]
  },
  {
   "cell_type": "code",
   "execution_count": null,
   "metadata": {
    "id": "mgQBQHaTOd54"
   },
   "outputs": [],
   "source": [
    "dict = {'Name': 'Jay', 'Age': 21, 'Class': 'Third'}\n",
    "print (\"dict['Name']: \", dict['Name'])\n",
    "print (\"dict['Age']: \", dict['Age'])"
   ]
  },
  {
   "cell_type": "code",
   "execution_count": null,
   "metadata": {
    "id": "6njampbVOuK7"
   },
   "outputs": [],
   "source": [
    "dict = {'Name': 'Jaya', 'Age': 21, 'Class': 'Third'}\n",
    "dict['Age'] = 8; # update existing entry\n",
    "dict['College'] = \"SIT\"; # Add new entry\n",
    "\n",
    "print (\"dict['Age']: \", dict['Age'])\n",
    "print (\"dict['College']: \", dict['College'])\n",
    "print(dict)"
   ]
  },
  {
   "cell_type": "code",
   "execution_count": null,
   "metadata": {
    "id": "Gwdv8i6VPyrw"
   },
   "outputs": [],
   "source": [
    "dict = {'Name': 'Jaya', 'Age': 21, 'Class': 'Third'}\n",
    "del dict['Name']; # remove entry with key 'Name'\n",
    "print(dict)\n",
    "dict.clear();     # remove all entries in dict\n",
    "print(dict)"
   ]
  },
  {
   "cell_type": "code",
   "execution_count": null,
   "metadata": {
    "id": "CfaG9y0AQCaX"
   },
   "outputs": [],
   "source": [
    "dict = {'Name': 'jay', 'Age': 21, 'Name': 'jag'} # More than one entry per key not allowed\n",
    "print (\"dict['Name']: \", dict['Name']) # When duplicate keys entered , the last key will be printed"
   ]
  },
  {
   "cell_type": "code",
   "execution_count": null,
   "metadata": {
    "id": "W079jqLnQqUc"
   },
   "outputs": [],
   "source": [
    "#dict = {['Name']: 'jay', 'Age': 21}#keys are immutable\n",
    "#print (\"dict['Name']: \", dict['Name'])\n"
   ]
  },
  {
   "cell_type": "code",
   "execution_count": null,
   "metadata": {
    "id": "u1n0lHLbQ-Pl"
   },
   "outputs": [],
   "source": [
    "dict = {'Name': 'Jaya', 'Age': 21, 'Class': 'Third'}\n",
    "print(len(dict))\n",
    "print(str(dict))\n",
    "print(type(dict))"
   ]
  },
  {
   "cell_type": "code",
   "execution_count": null,
   "metadata": {
    "id": "nsTLDxK3RZB7"
   },
   "outputs": [],
   "source": [
    "dict = {'Name': 'Jaya', 'Age': 21, 'Class': 'Third'}\n",
    "print(dict.keys())\n",
    "print(dict.values())\n",
    "dict2=dict.copy()\n",
    "print(\"dict2:\",dict2)"
   ]
  },
  {
   "cell_type": "code",
   "execution_count": null,
   "metadata": {
    "id": "z5PA06-LR0WM"
   },
   "outputs": [],
   "source": [
    "seq = ('name', 'age', 'college')\n",
    "dict = dict.fromkeys(seq) #creates a new dictionary with keys from seq \n",
    "print (\"New Dictionary : \", dict)\n",
    "\n",
    "dict = dict.fromkeys(seq, 10)\n",
    "print (\"New Dictionary :\",dict)"
   ]
  },
  {
   "cell_type": "code",
   "execution_count": null,
   "metadata": {
    "id": "N3XIlQE0SbYP"
   },
   "outputs": [],
   "source": [
    "dict = {'Name': 'jay', 'Age': 21}\n",
    "print (\"Value : \",  dict.get('Age'))\n",
    "print (\"Value : \" , dict.get('Education'))\n",
    "print (\"Value : \" , dict.get('Education','Engg'))"
   ]
  },
  {
   "cell_type": "code",
   "execution_count": null,
   "metadata": {
    "id": "bj_Ru62vTTQP"
   },
   "outputs": [],
   "source": [
    "dict = {'Name': 'jay', 'Age': 21}\n",
    "print (\"Value : \" , dict.items())#returns a list of dict's (key, value) tuple pairs"
   ]
  },
  {
   "cell_type": "code",
   "execution_count": null,
   "metadata": {
    "id": "6O1HujJ9T4Zp"
   },
   "outputs": [],
   "source": [
    "dict = {'Name': 'jay', 'Age': 21}\n",
    "dict2 = {'College': 'SIT' }\n",
    "\n",
    "dict.update(dict2)\n",
    "print (\"Value : %s\" %  dict)"
   ]
  },
  {
   "cell_type": "code",
   "execution_count": null,
   "metadata": {
    "id": "TktAcJwbUqQQ"
   },
   "outputs": [],
   "source": [
    "dict = {'Name': 'jay', 'Age': 21}\n",
    "\n",
    "#print(dict[\"College\"]) #shows error\n",
    "\n",
    "# This can be solve by defaultdict\n",
    "\n",
    "from collections import defaultdict \n",
    "dict = defaultdict(lambda: \"SIT\")#lambda as default_factory argument \n",
    "print(dict[\"College\"])"
   ]
  },
  {
   "cell_type": "markdown",
   "metadata": {
    "id": "ku3A0WYMoO4i"
   },
   "source": [
    "##Date & Time"
   ]
  },
  {
   "cell_type": "code",
   "execution_count": null,
   "metadata": {
    "id": "sqZYwKHfjoOn"
   },
   "outputs": [],
   "source": [
    "import time;  # This is required to include time module.\n",
    "\n",
    "localtime = time.localtime(time.time())\n",
    "print (\"Local current time :\", localtime)\n",
    "print(\"-------\")\n",
    "print (\"time.asctime(localtime): %s \" % time.asctime(localtime))#converts a struct_time in redable format\n",
    "print(\"-------\")\n",
    "print (\"time.ctime() : %s\" % time.ctime()) #converts a time expressed in seconds since the epoch to a string representing local time\n",
    "\n",
    "curr_time = time.localtime() \n",
    "cc = time.strftime(\"%H:%M:%S\", curr_time)\n",
    "print(cc) #IST is ahead of UTC(Coordinated Universal Time (UTC) by 05:30\n"
   ]
  },
  {
   "cell_type": "code",
   "execution_count": null,
   "metadata": {
    "id": "hPxX8x23r-0E"
   },
   "outputs": [],
   "source": [
    "print (\"Start : %s\" % time.ctime())\n",
    "time.sleep( 5 )#suspends execution for the given number of seconds\n",
    "print (\"End : %s\" % time.ctime())"
   ]
  },
  {
   "cell_type": "code",
   "execution_count": null,
   "metadata": {
    "id": "SJ-v9f34okUv"
   },
   "outputs": [],
   "source": [
    "import calendar\n",
    "\n",
    "cal = calendar.month(2020, 7)\n",
    "print (\"Here is the calendar:\")\n",
    "print (cal)"
   ]
  },
  {
   "cell_type": "code",
   "execution_count": null,
   "metadata": {
    "id": "79iNJ3onpY3z"
   },
   "outputs": [],
   "source": [
    "print(calendar.firstweekday())\n",
    "print(calendar.isleap(2020))\n",
    "print(calendar.calendar(2010))"
   ]
  },
  {
   "cell_type": "code",
   "execution_count": null,
   "metadata": {
    "id": "K56HB0892WPW"
   },
   "outputs": [],
   "source": [
    "#Other time modules (if interested can learn): datetime, dateutil and pytz \n",
    "\n",
    "from datetime import datetime \n",
    "import pytz \n",
    "  \n",
    "# get the standard UTC time  \n",
    "UTC = pytz.utc \n",
    "  \n",
    "# it will get the time zone  \n",
    "# of the specified location \n",
    "IST = pytz.timezone('Asia/Kolkata') \n",
    "  \n",
    "# print the date and time in \n",
    "# standard format \n",
    "print(\"UTC in Default Format : \",  \n",
    "      datetime.now(UTC)) \n",
    "  \n",
    "print(\"IST in Default Format : \",  \n",
    "      datetime.now(IST)) \n",
    "  \n",
    "# print the date and time in  \n",
    "# specified format \n",
    "datetime_utc = datetime.now(UTC) \n",
    "print(\"Date & Time in UTC : \", \n",
    "      datetime_utc.strftime('%Y:%m:%d %H:%M:%S %Z %z')) \n",
    "  \n",
    "datetime_ist = datetime.now(IST) \n",
    "print(\"Date & Time in IST : \",  \n",
    "      datetime_ist.strftime('%Y:%m:%d %H:%M:%S %Z %z'))"
   ]
  },
  {
   "cell_type": "markdown",
   "metadata": {
    "id": "l-nvNBERenhy"
   },
   "source": [
    "## Functions"
   ]
  },
  {
   "cell_type": "code",
   "execution_count": null,
   "metadata": {
    "id": "U3J5MhfX6hyF"
   },
   "outputs": [],
   "source": [
    "# Defining a Function\n",
    "def print_my_name( str ):\n",
    "   '''This function prints my name'''\n",
    "   print(str)\n",
    "   return"
   ]
  },
  {
   "cell_type": "code",
   "execution_count": null,
   "metadata": {
    "id": "rBkc7Jvhe4OY"
   },
   "outputs": [],
   "source": [
    "# Calling a Function\n",
    "print_my_name('jayant')"
   ]
  },
  {
   "cell_type": "code",
   "execution_count": null,
   "metadata": {
    "id": "hGyP_uqQfIeb"
   },
   "outputs": [],
   "source": [
    "def print_my_info( name, age, college='SIT' ):\n",
    "   \"This function prints my information\"\n",
    "   print (\"Name: \", name)\n",
    "   print (\"Age: \", age)\n",
    "   print(\"College: \",college)\n",
    "   return # return nothing\n",
    "\n",
    "print_my_info('jayant',32)"
   ]
  },
  {
   "cell_type": "code",
   "execution_count": null,
   "metadata": {
    "id": "FZ00EeDrg8cG"
   },
   "outputs": [],
   "source": [
    "addition=0 # global variable outside the scope of function\n",
    "def my_add(a,b):\n",
    "  'This functions add two numbers'\n",
    "  addition=a+b # local varable inside the scope of function\n",
    "  return addition # return value\n",
    "\n",
    "print(f'addition={addition}')\n",
    "print(f'addition={my_add(3.2,2.3)}')\n"
   ]
  },
  {
   "cell_type": "code",
   "execution_count": null,
   "metadata": {
    "id": "pFKCzjaZhdpu"
   },
   "outputs": [],
   "source": [
    "def print_var_length_argument( var1, *var2 ):\n",
    "   \"This function prints varible length argument\"\n",
    "   print (\"Output is: \")\n",
    "   print (f'{var1} and {var2}')\n",
    "\n",
    "   '''for var in var2:\n",
    "      print (var)'''\n",
    "   return\n",
    "\n",
    "print_var_length_argument(10,['jayant', 21.5, 'SIT'])"
   ]
  },
  {
   "cell_type": "code",
   "execution_count": null,
   "metadata": {
    "id": "mXhbsCYNiZPI"
   },
   "outputs": [],
   "source": [
    "#The Anonymous Functions using lamda (not declared in the standard format by using the def keyword)\n",
    "\n",
    "subtract=lambda var1, var2:var1-var2;\n",
    "\n",
    "print(f'subtraction of 20 and 10 is {subtract(20,10)}')"
   ]
  },
  {
   "cell_type": "markdown",
   "metadata": {
    "id": "tKiSItOsl6EU"
   },
   "source": [
    "## Modules"
   ]
  },
  {
   "cell_type": "code",
   "execution_count": null,
   "metadata": {
    "id": "nNjnCiGooX3U"
   },
   "outputs": [],
   "source": [
    "from google.colab import drive\n",
    "drive.mount('/gdrive')\n"
   ]
  },
  {
   "cell_type": "code",
   "execution_count": null,
   "metadata": {
    "id": "QwWznp1A9M00"
   },
   "outputs": [],
   "source": [
    "drive.flush_and_unmount()"
   ]
  },
  {
   "cell_type": "code",
   "execution_count": null,
   "metadata": {
    "id": "UhePp_7G9PCH"
   },
   "outputs": [],
   "source": [
    "from google.colab import drive\n",
    "drive.mount('/gdrive')"
   ]
  },
  {
   "cell_type": "code",
   "execution_count": null,
   "metadata": {
    "id": "yVh_ZMGL9TNm"
   },
   "outputs": [],
   "source": [
    "import os "
   ]
  },
  {
   "cell_type": "code",
   "execution_count": null,
   "metadata": {
    "id": "C_aK1MzbVHRI"
   },
   "outputs": [],
   "source": [
    "import math\n",
    "#w=dir(math)\n",
    "#print(w)\n",
    "\n",
    "math.sin(10)"
   ]
  },
  {
   "cell_type": "code",
   "execution_count": null,
   "metadata": {
    "id": "tzImipISspW5"
   },
   "outputs": [],
   "source": [
    "os.chdir('/gdrive/My Drive/') "
   ]
  },
  {
   "cell_type": "code",
   "execution_count": null,
   "metadata": {
    "id": "PvikoT7gW5Ky"
   },
   "outputs": [],
   "source": [
    "import myinfo\n",
    "w=dir(myinfo)\n",
    "print(w)"
   ]
  },
  {
   "cell_type": "code",
   "execution_count": null,
   "metadata": {
    "id": "MwdX2R3zYpwd"
   },
   "outputs": [],
   "source": [
    "import myinfo\n",
    "myinfo.My_Profile()"
   ]
  },
  {
   "cell_type": "code",
   "execution_count": null,
   "metadata": {
    "id": "l9WIjHdBkDG8"
   },
   "outputs": [],
   "source": [
    "# A module is a Python object groups related code for further use\n",
    "import myinfo # import myprofile module\n",
    "\n",
    "myinfo.My_Profile('jayant', 'jagtap',411046) # using object of module\n",
    "myinfo.My_Profile('Aishwarya', 'xyz', 412115)\n"
   ]
  },
  {
   "cell_type": "code",
   "execution_count": null,
   "metadata": {
    "id": "N0jAor9a6GHD"
   },
   "outputs": [],
   "source": [
    "import myinfo as mi # renaming the module for typing simplicity\n",
    "mi.My_Profile('jayant', 'jagtap',411046)"
   ]
  },
  {
   "cell_type": "code",
   "execution_count": null,
   "metadata": {
    "id": "ZOkZx36V6pEI"
   },
   "outputs": [],
   "source": [
    "x = dir(mi)\n",
    "print(x) "
   ]
  },
  {
   "cell_type": "code",
   "execution_count": null,
   "metadata": {
    "id": "gTGBPaKUoT3e"
   },
   "outputs": [],
   "source": [
    "from myinfo import My_Profile\n",
    "My_Profile('jayash', 'jagtap',411046) # without creating object of module"
   ]
  },
  {
   "cell_type": "code",
   "execution_count": null,
   "metadata": {
    "id": "tM_sn3oRyiKS"
   },
   "outputs": [],
   "source": [
    "from myinfo import My_Education\n",
    "My_Education('BE(E&TC)', 'MTech(Electronics)', 'PhD(E&TC)')"
   ]
  },
  {
   "cell_type": "code",
   "execution_count": null,
   "metadata": {
    "id": "_xq-OJ120vcM"
   },
   "outputs": [],
   "source": [
    "from myinfo import *\n",
    "myinfo.My_Profile('jayant', 'jagtap',411046)\n",
    "myinfo.My_Education('BE(E&TC)', 'MTech(Electronics)', 'PhD(E&TC)')"
   ]
  },
  {
   "cell_type": "code",
   "execution_count": null,
   "metadata": {
    "id": "6zqoG905AMAp"
   },
   "outputs": [],
   "source": [
    "# Package is collection of modules\n",
    "from mypackage import myprofile as mp\n",
    "from mypackage import myeducation as me\n",
    "mp.My_Profile('jayant', 'jagtap',411046)\n",
    "me.My_Education('BE(E&TC)', 'MTech(Electronics)', 'PhD(E&TC)')"
   ]
  },
  {
   "cell_type": "code",
   "execution_count": null,
   "metadata": {
    "id": "CkVRqbb7GFXB"
   },
   "outputs": [],
   "source": [
    "import mydetails as md"
   ]
  },
  {
   "cell_type": "code",
   "execution_count": null,
   "metadata": {
    "id": "nhLrlRfgdfpd"
   },
   "outputs": [],
   "source": [
    "md.My_Age(21)"
   ]
  },
  {
   "cell_type": "markdown",
   "metadata": {
    "id": "lHIWAw2g9-gG"
   },
   "source": [
    "## Input/Output (I/O)\n"
   ]
  },
  {
   "cell_type": "code",
   "execution_count": null,
   "metadata": {
    "id": "mMOjzEWXdnwV"
   },
   "outputs": [],
   "source": [
    "print (\"Python is emerging platform for AI\")#output "
   ]
  },
  {
   "cell_type": "code",
   "execution_count": null,
   "metadata": {
    "id": "StMNRZJH-O7f"
   },
   "outputs": [],
   "source": [
    "#Input\n",
    "str = input(\"Enter your name: \")\n",
    "print('Entered name is ',str)"
   ]
  },
  {
   "cell_type": "markdown",
   "metadata": {
    "id": "s2go5ds_-3lC"
   },
   "source": [
    "## File Handeling"
   ]
  },
  {
   "cell_type": "code",
   "execution_count": null,
   "metadata": {
    "id": "D0YTDnct_jYS"
   },
   "outputs": [],
   "source": [
    "from google.colab import drive\n",
    "drive.mount('/gdrive')"
   ]
  },
  {
   "cell_type": "code",
   "execution_count": null,
   "metadata": {
    "id": "hfJQ9vqL_whb"
   },
   "outputs": [],
   "source": [
    "import os\n",
    "os.chdir('/gdrive/My Drive/') "
   ]
  },
  {
   "cell_type": "code",
   "execution_count": null,
   "metadata": {
    "id": "dJcfOGMYBVAw"
   },
   "outputs": [],
   "source": [
    "# r:Opens a file for reading only. The file pointer is placed at the  beginning of the file. This is the default mode.\n",
    "# rb: Opens a file for reading only in binary format. The file pointer is placed at the beginning of the file. This is the default mode.\n",
    "# r+: Opens a file for both reading and writing. The file pointer placed at the beginning of the file.\n",
    "# rb+: Opens a file for both reading and writing in binary format. The file pointer placed at the beginning of the file.\n",
    "# w: Opens a file for writing only. Overwrites the file if the file exists. If the file does not exist, creates a new file for writing.\n",
    "# wb: Opens a file for writing only in binary format. Overwrites the file if the file exists. If the file does not exist, creates a new file for writing.\n",
    "# w+: Opens a file for both writing and reading. Overwrites the existing file if the file exists. If the file does not exist, creates a new file for reading and writing.\n",
    "# wb+:Opens a file for both writing and reading in binary format. Overwrites the existing file if the file exists. If the file does not exist, creates a new file for reading and writing.\n",
    "# a: Opens a file for appending. The file pointer is at the end of the file if the file exists. If the file does not exist, it creates a new file for writing.\n",
    "# ab: Opens a file for appending in binary format.\n",
    "# a+: Opens a file for both appending and reading.\n",
    "# ab+: Opens a file for both appending and reading in binary format.\n"
   ]
  },
  {
   "cell_type": "code",
   "execution_count": null,
   "metadata": {
    "id": "ZwjX_UaY-k3d"
   },
   "outputs": [],
   "source": [
    "open_file = open(\"jayant.txt\", \"w+\")\n",
    "print (\"Name of the file: \", open_file.name)\n",
    "print (\"Closed or not : \", open_file.closed)\n",
    "print (\"Opening mode : \", open_file.mode)\n"
   ]
  },
  {
   "cell_type": "code",
   "execution_count": null,
   "metadata": {
    "id": "pEGX6fWFA2S5"
   },
   "outputs": [],
   "source": [
    "open_file.close()\n",
    "print (\"Closed or not : \", open_file.closed)\n"
   ]
  },
  {
   "cell_type": "code",
   "execution_count": null,
   "metadata": {
    "id": "M7qm8AEGA7Ur"
   },
   "outputs": [],
   "source": [
    "# Open a file\n",
    "open_file = open(\"jayant.txt\", \"w+\")\n",
    "open_file.write(\"Python is emerging platform for AI.\\nAmezing!!\\n\")\n",
    "\n",
    "# Close opend file\n",
    "open_file.close()"
   ]
  },
  {
   "cell_type": "code",
   "execution_count": null,
   "metadata": {
    "id": "dCKg5GYFEK-G"
   },
   "outputs": [],
   "source": [
    "# Open a file\n",
    "open_file = open(\"jayant.txt\", \"r+\")\n",
    "str = open_file.read();\n",
    "print (\"Read String is : \", str)\n",
    "position = open_file.tell()\n",
    "print (\"Current file position : \", position)\n",
    "\n",
    "position = open_file.seek(0, 0);\n",
    "str = open_file.read(20)\n",
    "print (\"Again read String is : \", str)\n",
    "# Close opend file\n",
    "open_file.close()"
   ]
  },
  {
   "cell_type": "code",
   "execution_count": null,
   "metadata": {
    "id": "e6D0LGhvEgjA"
   },
   "outputs": [],
   "source": [
    "# Open a file\n",
    "open_file = open(\"SIT.txt\", \"w+\")\n",
    "open_file.write(\"SIT is an emerging Engineering College.\\nAmezing!!\\n\")\n",
    "\n",
    "# Close opend file\n",
    "open_file.close()"
   ]
  },
  {
   "cell_type": "code",
   "execution_count": null,
   "metadata": {
    "id": "Ydb-IpPjFdYd"
   },
   "outputs": [],
   "source": [
    "os.rename( \"SIT.txt\", \"My_College.txt\" )"
   ]
  },
  {
   "cell_type": "code",
   "execution_count": null,
   "metadata": {
    "id": "0sl2uAwiFv01"
   },
   "outputs": [],
   "source": [
    "os.remove(\"My_College.txt\")"
   ]
  },
  {
   "cell_type": "code",
   "execution_count": null,
   "metadata": {
    "id": "YcP1unVaFzBi"
   },
   "outputs": [],
   "source": [
    "os.mkdir(\"Python\")# Create folder in Google Drive"
   ]
  },
  {
   "cell_type": "code",
   "execution_count": null,
   "metadata": {
    "id": "wAkLpiSNGMK3"
   },
   "outputs": [],
   "source": [
    "os.chdir(\"Python\")"
   ]
  },
  {
   "cell_type": "code",
   "execution_count": null,
   "metadata": {
    "id": "jOG-vQu8GR31"
   },
   "outputs": [],
   "source": [
    "os.getcwd()#displays the current working directory"
   ]
  },
  {
   "cell_type": "code",
   "execution_count": null,
   "metadata": {
    "id": "AiHL84vcGw3S"
   },
   "outputs": [],
   "source": [
    "os.chdir(\"/gdrive/My Drive/\")"
   ]
  },
  {
   "cell_type": "code",
   "execution_count": null,
   "metadata": {
    "id": "17fthoPpOm2B"
   },
   "outputs": [],
   "source": [
    "os.getcwd()"
   ]
  },
  {
   "cell_type": "code",
   "execution_count": null,
   "metadata": {
    "id": "JXz6lInNGZ7U"
   },
   "outputs": [],
   "source": [
    "os.rmdir(\"Python\")"
   ]
  },
  {
   "cell_type": "markdown",
   "metadata": {
    "id": "CzgSkf4tPjUx"
   },
   "source": [
    "# Congratulations to All for Learning Python with me!!!"
   ]
  },
  {
   "cell_type": "code",
   "execution_count": null,
   "metadata": {
    "id": "5eTcHXS_Gjb1"
   },
   "outputs": [],
   "source": []
  }
 ],
 "metadata": {
  "colab": {
   "collapsed_sections": [
    "HsN6XnYeB5W7",
    "euGnUujga2H2",
    "AQGRPVzM2QQM",
    "of1Hg1yzICas",
    "J96iaboK7nkw",
    "v2zZO1WBw1Pi",
    "rtNLASZnGwWe",
    "q_wTwVQIOhjR",
    "ku3A0WYMoO4i",
    "l-nvNBERenhy"
   ],
   "name": "Learn_Python.ipynb",
   "provenance": []
  },
  "kernelspec": {
   "display_name": "Python 3 (ipykernel)",
   "language": "python",
   "name": "python3"
  },
  "language_info": {
   "codemirror_mode": {
    "name": "ipython",
    "version": 3
   },
   "file_extension": ".py",
   "mimetype": "text/x-python",
   "name": "python",
   "nbconvert_exporter": "python",
   "pygments_lexer": "ipython3",
   "version": "3.8.3"
  }
 },
 "nbformat": 4,
 "nbformat_minor": 1
}
