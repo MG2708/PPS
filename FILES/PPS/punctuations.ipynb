{
  "nbformat": 4,
  "nbformat_minor": 0,
  "metadata": {
    "colab": {
      "name": "punctuations.ipynb",
      "provenance": []
    },
    "kernelspec": {
      "name": "python3",
      "display_name": "Python 3"
    },
    "language_info": {
      "name": "python"
    }
  },
  "cells": [
    {
      "cell_type": "code",
      "execution_count": 1,
      "metadata": {
        "colab": {
          "base_uri": "https://localhost:8080/"
        },
        "id": "CC7WaseRkcLr",
        "outputId": "99265311-965c-4a5b-eedc-84f1bc8ec1ab"
      },
      "outputs": [
        {
          "output_type": "stream",
          "name": "stdout",
          "text": [
            "Hi  This is JACK Trainer Developer \n"
          ]
        }
      ],
      "source": [
        "punctuations = \"()!,.<>/\"\n",
        "\n",
        "test_str = \"Hi , This ,is ,JACK. (Trainer/ Developer) !\"\n",
        "\n",
        "clean_str = \"\"\n",
        "\n",
        "for char in test_str:\n",
        "    if char in punctuations:\n",
        "        continue\n",
        "    else:\n",
        "        clean_str += char\n",
        "\n",
        "print(clean_str)"
      ]
    }
  ]
}