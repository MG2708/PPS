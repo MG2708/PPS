{
 "cells": [
  {
   "cell_type": "code",
   "execution_count": null,
   "metadata": {
    "colab": {
     "base_uri": "https://localhost:8080/"
    },
    "executionInfo": {
     "elapsed": 6,
     "status": "ok",
     "timestamp": 1637911982792,
     "user": {
      "displayName": "Mangal Singh",
      "photoUrl": "https://lh3.googleusercontent.com/a-/AOh14GgNQQkRZ8XJRwjVq0a4ra_-Tf62lrbgx1puid4R=s64",
      "userId": "15066170507409359254"
     },
     "user_tz": -330
    },
    "id": "UW1fXuOwuL6p",
    "outputId": "b0d93332-e4c1-4ba9-eca5-3761b7310006"
   },
   "outputs": [
    {
     "name": "stdout",
     "output_type": "stream",
     "text": [
      "100\n",
      "1000.0\n",
      "John\n"
     ]
    }
   ],
   "source": [
    "counter = 100          # An integer assignment\n",
    "miles   = 1000.0       # A floating point\n",
    "name    = \"John\"       # A string\n",
    "\n",
    "print (counter)\n",
    "print (miles)\n",
    "print (name)"
   ]
  },
  {
   "cell_type": "code",
   "execution_count": null,
   "metadata": {
    "colab": {
     "base_uri": "https://localhost:8080/"
    },
    "executionInfo": {
     "elapsed": 661,
     "status": "ok",
     "timestamp": 1636948506566,
     "user": {
      "displayName": "Apoorva Shastri",
      "photoUrl": "https://lh3.googleusercontent.com/a-/AOh14Gi7V6uhZsxxhXhaH20YVuYwUzMIlDPUQJ9fPT3ynQ=s64",
      "userId": "06304336743638956799"
     },
     "user_tz": -330
    },
    "id": "xsc0pwvsuarH",
    "outputId": "4f19a800-20cc-4898-b5ab-4a92a702c0c4"
   },
   "outputs": [
    {
     "name": "stdout",
     "output_type": "stream",
     "text": [
      "1\n",
      "1\n",
      "1\n"
     ]
    }
   ],
   "source": [
    "'''Multiple assignment'''\n",
    "a = b = c = 1\n",
    "print (a)\n",
    "print (b)\n",
    "print (c)"
   ]
  },
  {
   "cell_type": "code",
   "execution_count": null,
   "metadata": {
    "colab": {
     "base_uri": "https://localhost:8080/"
    },
    "executionInfo": {
     "elapsed": 420,
     "status": "ok",
     "timestamp": 1636948425254,
     "user": {
      "displayName": "Apoorva Shastri",
      "photoUrl": "https://lh3.googleusercontent.com/a-/AOh14Gi7V6uhZsxxhXhaH20YVuYwUzMIlDPUQJ9fPT3ynQ=s64",
      "userId": "06304336743638956799"
     },
     "user_tz": -330
    },
    "id": "CryL-kEIuljz",
    "outputId": "467c2f92-efd7-40cf-c083-3cb2190a3b49"
   },
   "outputs": [
    {
     "name": "stdout",
     "output_type": "stream",
     "text": [
      "1\n",
      "2\n",
      "john\n"
     ]
    }
   ],
   "source": [
    "a,b,c = 1,2,\"john\"\n",
    "print (a)\n",
    "print (b)\n",
    "print (c)"
   ]
  },
  {
   "cell_type": "code",
   "execution_count": null,
   "metadata": {
    "colab": {
     "base_uri": "https://localhost:8080/"
    },
    "executionInfo": {
     "elapsed": 356,
     "status": "ok",
     "timestamp": 1636951747382,
     "user": {
      "displayName": "Apoorva Shastri",
      "photoUrl": "https://lh3.googleusercontent.com/a-/AOh14Gi7V6uhZsxxhXhaH20YVuYwUzMIlDPUQJ9fPT3ynQ=s64",
      "userId": "06304336743638956799"
     },
     "user_tz": -330
    },
    "id": "k8FgArKIusNb",
    "outputId": "531f4b54-e86b-4851-d36b-76b6c9776224"
   },
   "outputs": [
    {
     "name": "stdout",
     "output_type": "stream",
     "text": [
      "1\n"
     ]
    }
   ],
   "source": [
    "'''\n",
    "Python has five standard data types −\n",
    "\n",
    "Numbers\n",
    "String\n",
    "List\n",
    "Tuple\n",
    "Dictionary\n",
    "'''\n",
    "#Python Numbers\n",
    "var1 = 1\n",
    "var2 = 10\n",
    "\n",
    "print (var1)\n"
   ]
  },
  {
   "cell_type": "code",
   "execution_count": 4,
   "metadata": {},
   "outputs": [
    {
     "name": "stdout",
     "output_type": "stream",
     "text": [
      "\n",
      "d\n",
      "oW \n"
     ]
    }
   ],
   "source": [
    "str = \"Trial Word\"\n",
    "print(str[:-1:-1])\n",
    "print(str[-1:])\n",
    "print(str[7:4:-1])\n"
   ]
  },
  {
   "cell_type": "code",
   "execution_count": null,
   "metadata": {
    "colab": {
     "base_uri": "https://localhost:8080/"
    },
    "executionInfo": {
     "elapsed": 403,
     "status": "ok",
     "timestamp": 1636951991240,
     "user": {
      "displayName": "Apoorva Shastri",
      "photoUrl": "https://lh3.googleusercontent.com/a-/AOh14Gi7V6uhZsxxhXhaH20YVuYwUzMIlDPUQJ9fPT3ynQ=s64",
      "userId": "06304336743638956799"
     },
     "user_tz": -330
    },
    "id": "xqwnzXQ2v3Ea",
    "outputId": "d19a5423-c049-4cd4-8488-b94a700da7c7"
   },
   "outputs": [
    {
     "name": "stdout",
     "output_type": "stream",
     "text": [
      "Hello World!\n",
      "H\n",
      "llo \n",
      "llo World!\n",
      "Hello World!Hello World!Hello World!\n",
      "Hello World!cs\n"
     ]
    }
   ],
   "source": [
    "str = 'Hello World!'\n",
    "\n",
    "print (str)          # Prints complete string\n",
    "print (str[0])       # Prints first character of the string\n",
    "print (str[2:6])     # Prints characters starting from 3rd to 5th\n",
    "print (str[2:])      # Prints string starting from 3rd character\n",
    "print (str * 3)      # Prints string two times\n",
    "print (str + \"cs\") # Prints concatenated string"
   ]
  },
  {
   "cell_type": "code",
   "execution_count": null,
   "metadata": {
    "colab": {
     "base_uri": "https://localhost:8080/"
    },
    "executionInfo": {
     "elapsed": 369,
     "status": "ok",
     "timestamp": 1636950614814,
     "user": {
      "displayName": "Apoorva Shastri",
      "photoUrl": "https://lh3.googleusercontent.com/a-/AOh14Gi7V6uhZsxxhXhaH20YVuYwUzMIlDPUQJ9fPT3ynQ=s64",
      "userId": "06304336743638956799"
     },
     "user_tz": -330
    },
    "id": "3fUxkGAy1t-p",
    "outputId": "e834d737-a725-4f98-b215-02a78230e0b4"
   },
   "outputs": [
    {
     "name": "stdout",
     "output_type": "stream",
     "text": [
      "Sum of 27 and 12 is 15\n"
     ]
    }
   ],
   "source": [
    "num1 = 15\n",
    "num2 = 12\n",
    "  \n",
    "# Adding two nos\n",
    "sum = num1 + num2\n",
    "  \n",
    "# printing values\n",
    "print(\"Sum of {} and {} is {}\" .format(num1, num2, sum))"
   ]
  },
  {
   "cell_type": "code",
   "execution_count": null,
   "metadata": {
    "colab": {
     "base_uri": "https://localhost:8080/"
    },
    "executionInfo": {
     "elapsed": 355,
     "status": "ok",
     "timestamp": 1636952728800,
     "user": {
      "displayName": "Apoorva Shastri",
      "photoUrl": "https://lh3.googleusercontent.com/a-/AOh14Gi7V6uhZsxxhXhaH20YVuYwUzMIlDPUQJ9fPT3ynQ=s64",
      "userId": "06304336743638956799"
     },
     "user_tz": -330
    },
    "id": "prcNW9s69pvA",
    "outputId": "fb531382-f7c6-4014-879c-7019e490cbda"
   },
   "outputs": [
    {
     "name": "stdout",
     "output_type": "stream",
     "text": [
      "['sit', 786, 1000, 'python', 70.2]\n"
     ]
    }
   ],
   "source": [
    "list = [ 'sit', 786 , 2.23, 'python', 70.2 ]\n",
    "'''\n",
    "print (list)\n",
    "print (list[1])\n",
    "print (list[2:4])\n",
    "print (list[2:])\n",
    "'''\n",
    "list[2] = 1000\n",
    "print (list)"
   ]
  },
  {
   "cell_type": "code",
   "execution_count": 5,
   "metadata": {
    "colab": {
     "base_uri": "https://localhost:8080/"
    },
    "executionInfo": {
     "elapsed": 390,
     "status": "ok",
     "timestamp": 1636953207655,
     "user": {
      "displayName": "Apoorva Shastri",
      "photoUrl": "https://lh3.googleusercontent.com/a-/AOh14Gi7V6uhZsxxhXhaH20YVuYwUzMIlDPUQJ9fPT3ynQ=s64",
      "userId": "06304336743638956799"
     },
     "user_tz": -330
    },
    "id": "H6aMPnkM_2FU",
    "outputId": "779af01c-8ac6-4179-e307-3ac8bbd01a61"
   },
   "outputs": [
    {
     "name": "stdout",
     "output_type": "stream",
     "text": [
      "[5, 4, 3, 2, 1]\n",
      "[1, 2, 3, 4, 5]\n",
      "[]\n",
      "[]\n",
      "[3, 2, 1]\n"
     ]
    }
   ],
   "source": [
    "list = [5, 4, 3 ,2,1]\n",
    "print (list)\n",
    "print (list[::-1])\n",
    "print (list[-1:-4])\n",
    "print (list[5:-1])\n",
    "print (list[-3:])\n"
   ]
  },
  {
   "cell_type": "code",
   "execution_count": null,
   "metadata": {
    "colab": {
     "base_uri": "https://localhost:8080/",
     "height": 214
    },
    "executionInfo": {
     "elapsed": 356,
     "status": "error",
     "timestamp": 1636953466595,
     "user": {
      "displayName": "Apoorva Shastri",
      "photoUrl": "https://lh3.googleusercontent.com/a-/AOh14Gi7V6uhZsxxhXhaH20YVuYwUzMIlDPUQJ9fPT3ynQ=s64",
      "userId": "06304336743638956799"
     },
     "user_tz": -330
    },
    "id": "--vJfsObBiel",
    "outputId": "d23fc144-1c6b-4964-d000-77df168a4cd9"
   },
   "outputs": [
    {
     "ename": "TypeError",
     "evalue": "ignored",
     "output_type": "error",
     "traceback": [
      "\u001b[0;31m---------------------------------------------------------------------------\u001b[0m",
      "\u001b[0;31mTypeError\u001b[0m                                 Traceback (most recent call last)",
      "\u001b[0;32m<ipython-input-48-befe82fd2134>\u001b[0m in \u001b[0;36m<module>\u001b[0;34m()\u001b[0m\n\u001b[1;32m      6\u001b[0m \u001b[0mprint\u001b[0m \u001b[0;34m(\u001b[0m\u001b[0mlist_tuple\u001b[0m\u001b[0;34m[\u001b[0m\u001b[0;36m2\u001b[0m\u001b[0;34m:\u001b[0m\u001b[0;34m]\u001b[0m\u001b[0;34m)\u001b[0m\u001b[0;34m\u001b[0m\u001b[0;34m\u001b[0m\u001b[0m\n\u001b[1;32m      7\u001b[0m '''\n\u001b[0;32m----> 8\u001b[0;31m \u001b[0mlist_tuple\u001b[0m\u001b[0;34m[\u001b[0m\u001b[0;36m2\u001b[0m\u001b[0;34m]\u001b[0m \u001b[0;34m=\u001b[0m \u001b[0;36m1000\u001b[0m\u001b[0;34m\u001b[0m\u001b[0;34m\u001b[0m\u001b[0m\n\u001b[0m\u001b[1;32m      9\u001b[0m \u001b[0mprint\u001b[0m \u001b[0;34m(\u001b[0m\u001b[0mlist_tuple\u001b[0m\u001b[0;34m)\u001b[0m\u001b[0;34m\u001b[0m\u001b[0;34m\u001b[0m\u001b[0m\n",
      "\u001b[0;31mTypeError\u001b[0m: 'tuple' object does not support item assignment"
     ]
    }
   ],
   "source": [
    "list_tuple = ('sit', 786 , 2.23, 'python', 70.2 )\n",
    "'''\n",
    "print (list_tuple)\n",
    "print (list_tuple[1])\n",
    "print (list_tuple[2:4])\n",
    "print (list_tuple[2:])\n",
    "'''\n",
    "list_tuple[2] = 1000\n",
    "print (list_tuple)"
   ]
  },
  {
   "cell_type": "code",
   "execution_count": null,
   "metadata": {
    "colab": {
     "base_uri": "https://localhost:8080/"
    },
    "executionInfo": {
     "elapsed": 374,
     "status": "ok",
     "timestamp": 1636953566467,
     "user": {
      "displayName": "Apoorva Shastri",
      "photoUrl": "https://lh3.googleusercontent.com/a-/AOh14Gi7V6uhZsxxhXhaH20YVuYwUzMIlDPUQJ9fPT3ynQ=s64",
      "userId": "06304336743638956799"
     },
     "user_tz": -330
    },
    "id": "eB9OJHHPCFHk",
    "outputId": "c45a13b0-a0dd-49e0-dfd9-397ae0d85944"
   },
   "outputs": [
    {
     "name": "stdout",
     "output_type": "stream",
     "text": [
      "['abcd', 786, 1000, 'john', 70.2]\n"
     ]
    }
   ],
   "source": [
    "tuple = ( 'abcd', 786 , 2.23, 'john', 70.2  )\n",
    "list = [ 'abcd', 786 , 2.23, 'john', 70.2  ]\n",
    "#tuple[2] = 1000    # Invalid syntax with tuple\n",
    "list[2] = 1000     # Valid syntax with list\n",
    "print(list)"
   ]
  },
  {
   "cell_type": "code",
   "execution_count": null,
   "metadata": {
    "colab": {
     "base_uri": "https://localhost:8080/"
    },
    "executionInfo": {
     "elapsed": 597,
     "status": "ok",
     "timestamp": 1636954032962,
     "user": {
      "displayName": "Apoorva Shastri",
      "photoUrl": "https://lh3.googleusercontent.com/a-/AOh14Gi7V6uhZsxxhXhaH20YVuYwUzMIlDPUQJ9fPT3ynQ=s64",
      "userId": "06304336743638956799"
     },
     "user_tz": -330
    },
    "id": "tdSsY2TODkYS",
    "outputId": "d3274e85-d370-4975-d965-7364f94096be"
   },
   "outputs": [
    {
     "name": "stdout",
     "output_type": "stream",
     "text": [
      "210.1\n"
     ]
    }
   ],
   "source": [
    "# addition of two numbers\n",
    "num1 = 10\n",
    "num2 = 200.10\n",
    "\n",
    "sum = num1+num2\n",
    "\n",
    "print (sum)\n",
    "\n"
   ]
  },
  {
   "cell_type": "code",
   "execution_count": 2,
   "metadata": {
    "colab": {
     "base_uri": "https://localhost:8080/"
    },
    "executionInfo": {
     "elapsed": 15346,
     "status": "ok",
     "timestamp": 1637912099980,
     "user": {
      "displayName": "Mangal Singh",
      "photoUrl": "https://lh3.googleusercontent.com/a-/AOh14GgNQQkRZ8XJRwjVq0a4ra_-Tf62lrbgx1puid4R=s64",
      "userId": "15066170507409359254"
     },
     "user_tz": -330
    },
    "id": "mfUt4JUvD9x_",
    "outputId": "62d32430-6648-466e-ea6e-02d82943e11f"
   },
   "outputs": [
    {
     "name": "stdout",
     "output_type": "stream",
     "text": [
      "First number 20\n",
      "Second number 30\n",
      "50\n"
     ]
    }
   ],
   "source": [
    "num1 = input(\"First number \")\n",
    "num2 = input(\"Second number \")\n",
    "  \n",
    "# Adding two numbers\n",
    "# User might also enter float numbers\n",
    "sum = int(num1) + int(num2)\n",
    "\n",
    "print (sum)\n"
   ]
  },
  {
   "cell_type": "code",
   "execution_count": null,
   "metadata": {
    "colab": {
     "base_uri": "https://localhost:8080/",
     "height": 128
    },
    "executionInfo": {
     "elapsed": 559,
     "status": "error",
     "timestamp": 1637294802576,
     "user": {
      "displayName": "Apoorva Shastri",
      "photoUrl": "https://lh3.googleusercontent.com/a-/AOh14Gi7V6uhZsxxhXhaH20YVuYwUzMIlDPUQJ9fPT3ynQ=s64",
      "userId": "06304336743638956799"
     },
     "user_tz": -330
    },
    "id": "fJXTXWfMyXr1",
    "outputId": "5c084c73-e940-4e99-a2a3-18e0a22b672e"
   },
   "outputs": [
    {
     "ename": "IndentationError",
     "evalue": "ignored",
     "output_type": "error",
     "traceback": [
      "\u001b[0;36m  File \u001b[0;32m\"<ipython-input-3-b12fad884c17>\"\u001b[0;36m, line \u001b[0;32m4\u001b[0m\n\u001b[0;31m    num1 = float(input(\"enter number 1:\"))\u001b[0m\n\u001b[0m       ^\u001b[0m\n\u001b[0;31mIndentationError\u001b[0m\u001b[0;31m:\u001b[0m expected an indented block\n"
     ]
    }
   ],
   "source": [
    "operation = input(\"which operation? \\n choices \\n add \\n substract \\n multi \\n div\")\n",
    "\n",
    "if operation == \"add\":\n",
    "    num1 = float(input(\"enter number 1:\"))\n",
    "    num2 = float(input(\"enter number 2:\"))\n",
    "    result = num1 + num2\n",
    "elif operation == \"substract\":\n",
    "    num1 = float(input(\"enter number 1:\"))\n",
    "    num2 = float(input(\"enter number 2:\"))\n",
    "    result = num1 - num2\n",
    "elif operation == \"multi\":\n",
    "    num1 = float(input(\"enter number 1:\"))\n",
    "    num2 = float(input(\"enter number 2:\"))\n",
    "    result = num1 * num2\n",
    "elif operation == \"div\":\n",
    "    num1 = float(input(\"enter number 1:\"))\n",
    "    num2 = float(input(\"enter number 2:\"))\n",
    "    result = num1 / num2\n",
    "else:\n",
    "  print (\"invalid operation\")\n",
    "\n",
    "print(f'result of {operation} is {result}')\n",
    "\n",
    "\n"
   ]
  },
  {
   "cell_type": "code",
   "execution_count": null,
   "metadata": {
    "id": "2C7YES7G8sGi"
   },
   "outputs": [],
   "source": [
    "\n",
    "  "
   ]
  }
 ],
 "metadata": {
  "colab": {
   "name": "Basics of pthon.ipynb",
   "provenance": []
  },
  "kernelspec": {
   "display_name": "Python 3 (ipykernel)",
   "language": "python",
   "name": "python3"
  },
  "language_info": {
   "codemirror_mode": {
    "name": "ipython",
    "version": 3
   },
   "file_extension": ".py",
   "mimetype": "text/x-python",
   "name": "python",
   "nbconvert_exporter": "python",
   "pygments_lexer": "ipython3",
   "version": "3.8.3"
  }
 },
 "nbformat": 4,
 "nbformat_minor": 1
}
