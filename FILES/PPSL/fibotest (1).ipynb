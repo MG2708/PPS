{
  "nbformat": 4,
  "nbformat_minor": 0,
  "metadata": {
    "colab": {
      "name": "fibotest.ipynb",
      "provenance": []
    },
    "kernelspec": {
      "name": "python3",
      "display_name": "Python 3"
    },
    "language_info": {
      "name": "python"
    }
  },
  "cells": [
    {
      "cell_type": "code",
      "source": [
        "from google.colab import drive\n",
        "drive.mount('/gdrive')"
      ],
      "metadata": {
        "id": "E-o_NiM8uF2o",
        "colab": {
          "base_uri": "https://localhost:8080/"
        },
        "outputId": "50780fa1-5aa6-40c2-8433-357114b2ccea"
      },
      "execution_count": 7,
      "outputs": [
        {
          "output_type": "stream",
          "name": "stdout",
          "text": [
            "Drive already mounted at /gdrive; to attempt to forcibly remount, call drive.mount(\"/gdrive\", force_remount=True).\n"
          ]
        }
      ]
    },
    {
      "cell_type": "code",
      "source": [
        "import os "
      ],
      "metadata": {
        "id": "aZCx-3jFuGu8"
      },
      "execution_count": 8,
      "outputs": []
    },
    {
      "cell_type": "code",
      "source": [
        "os.chdir('/gdrive/My Drive/') "
      ],
      "metadata": {
        "id": "G-Vrb8i7ur0D"
      },
      "execution_count": 9,
      "outputs": []
    },
    {
      "cell_type": "code",
      "execution_count": 11,
      "metadata": {
        "id": "w37eMZATtPg0",
        "colab": {
          "base_uri": "https://localhost:8080/"
        },
        "outputId": "13768363-05da-45d7-e93d-bc5afa32dddf"
      },
      "outputs": [
        {
          "output_type": "stream",
          "name": "stdout",
          "text": [
            "0\n",
            "1\n",
            "1\n",
            "2\n",
            "3\n",
            "5\n",
            "8\n",
            "13\n",
            "21\n",
            "34\n"
          ]
        }
      ],
      "source": [
        "import fibbonacci\n",
        "\n",
        "for i in range(10):\n",
        "       print(fibbonacci.recursive_fibonacci(i))"
      ]
    }
  ]
}